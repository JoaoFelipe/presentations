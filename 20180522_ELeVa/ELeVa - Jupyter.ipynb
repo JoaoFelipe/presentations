{
 "cells": [
  {
   "cell_type": "markdown",
   "metadata": {},
   "source": [
    "# IPython / Jupyter\n",
    "Help, autocomplete, bang expr"
   ]
  },
  {
   "cell_type": "code",
   "execution_count": 4,
   "metadata": {
    "collapsed": true
   },
   "outputs": [],
   "source": [
    "a = 4"
   ]
  },
  {
   "cell_type": "code",
   "execution_count": 6,
   "metadata": {},
   "outputs": [
    {
     "data": {
      "text/plain": [
       "4"
      ]
     },
     "execution_count": 6,
     "metadata": {},
     "output_type": "execute_result"
    }
   ],
   "source": [
    "a"
   ]
  },
  {
   "cell_type": "code",
   "execution_count": 9,
   "metadata": {},
   "outputs": [
    {
     "name": "stdout",
     "output_type": "stream",
     "text": [
      " Volume in drive C has no label.\n",
      " Volume Serial Number is FA08-6031\n",
      "\n",
      " Directory of C:\\Users\\joaof\n",
      "\n",
      "05/22/2018  01:27 AM    <DIR>          .\n",
      "05/22/2018  01:27 AM    <DIR>          ..\n",
      "08/23/2017  12:20 AM    <DIR>          .anaconda\n",
      "05/07/2018  08:06 PM    <DIR>          .android\n",
      "10/24/2017  09:48 AM    <DIR>          .AndroidStudio2.3\n",
      "05/16/2018  01:48 PM            13,105 .bash_history\n",
      "08/23/2017  01:05 AM    <DIR>          .conda\n",
      "08/23/2017  12:22 AM                43 .condarc\n",
      "10/24/2017  06:56 PM    <DIR>          .config\n",
      "01/19/2018  11:12 PM    <DIR>          .dbus-keyrings\n",
      "01/19/2018  03:13 PM    <DIR>          .gem\n",
      "05/16/2018  11:19 PM    <DIR>          .gimp-2.8\n",
      "08/23/2017  10:20 PM                68 .gitconfig\n",
      "10/24/2017  10:56 AM    <DIR>          .gradle\n",
      "10/24/2017  03:28 PM    <DIR>          .ionic\n",
      "05/22/2018  01:09 AM    <DIR>          .ipynb_checkpoints\n",
      "08/23/2017  11:42 AM    <DIR>          .ipython\n",
      "03/21/2018  09:33 PM    <DIR>          .jupyter\n",
      "05/18/2018  08:03 AM    <DIR>          .matplotlib\n",
      "10/24/2017  01:00 PM                 0 .node_repl_history\n",
      "09/28/2017  06:14 PM    <DIR>          .Origin\n",
      "09/28/2017  06:14 PM    <DIR>          .QtWebEngineProcess\n",
      "01/28/2018  12:40 AM    <DIR>          .thumbnails\n",
      "04/27/2018  08:58 AM             6,627 .viminfo\n",
      "12/07/2017  02:38 PM    <DIR>          .VirtualBox\n",
      "05/14/2018  06:42 AM    <DIR>          3D Objects\n",
      "05/07/2018  08:03 PM    <DIR>          adb\n",
      "05/20/2018  07:31 PM    <DIR>          Anaconda3\n",
      "08/23/2017  12:22 AM    <DIR>          AnacondaProjects\n",
      "10/15/2017  09:25 PM            12,157 CalendarioSemanal.ipynb\n",
      "10/15/2017  09:23 PM             8,203 celendario.svg\n",
      "10/07/2017  06:32 PM    <DIR>          certificados\n",
      "03/23/2018  01:07 AM    <DIR>          clayton\n",
      "05/14/2018  06:42 AM    <DIR>          Contacts\n",
      "04/25/2018  09:11 AM    <DIR>          Deep-Learning-Coursera\n",
      "05/22/2018  02:16 PM    <DIR>          Desktop\n",
      "05/14/2018  06:42 AM    <DIR>          Documents\n",
      "05/22/2018  01:34 PM    <DIR>          Downloads\n",
      "05/22/2018  01:27 AM             2,128 ELeVa - Jupyter.ipynb\n",
      "05/14/2018  06:42 AM    <DIR>          Favorites\n",
      "05/22/2018  01:34 PM    <DIR>          Google Drive\n",
      "04/14/2018  06:15 PM    <DIR>          hybrid-strategies\n",
      "04/15/2018  01:44 AM        50,494,755 hybrid-strategies.rar\n",
      "05/18/2018  09:18 AM    <DIR>          ipaw\n",
      "05/22/2018  12:36 AM    <DIR>          ipaw_docs\n",
      "05/22/2018  01:25 AM            56,434 Jupyter.ipynb\n",
      "12/07/2017  10:17 PM                 0 jupyter_dojo-labextension-0.1.1-ef7c.tgz\n",
      "05/14/2018  06:42 AM    <DIR>          Links\n",
      "05/14/2018  06:42 AM    <DIR>          Music\n",
      "03/25/2018  11:56 PM    <DIR>          mutable-PROV\n",
      "09/12/2017  04:34 PM    <DIR>          novo\n",
      "04/27/2018  11:41 AM    <DIR>          now1\n",
      "04/27/2018  08:53 AM    <DIR>          noworkflow\n",
      "05/22/2018  01:33 PM    <DIR>          OneDrive\n",
      "05/16/2018  07:07 PM    <DIR>          Pictures\n",
      "04/18/2018  05:23 PM    <DIR>          platform-tools\n",
      "05/05/2018  03:34 AM    <DIR>          rakuen-translation\n",
      "05/04/2018  09:29 PM    <DIR>          RakuenTranslation\n",
      "07/15/2017  02:02 PM    <DIR>          Roaming\n",
      "04/16/2018  02:15 PM           160,381 robsonnitel.png\n",
      "05/14/2018  06:42 AM    <DIR>          Saved Games\n",
      "03/11/2018  01:09 PM    <DIR>          Sci-Hub\n",
      "05/14/2018  06:42 AM    <DIR>          Searches\n",
      "11/10/2017  07:31 AM    <DIR>          snowballing\n",
      "03/23/2018  03:08 PM             2,401 svgsize.py\n",
      "03/22/2018  02:59 PM             7,671 temp.dot\n",
      "03/22/2018  02:59 PM           295,679 temp.png\n",
      "02/21/2018  04:44 PM               519 test.dot\n",
      "02/21/2018  01:08 AM             6,205 test.png\n",
      "04/18/2018  08:37 AM               862 test.py\n",
      "02/21/2018  04:44 PM             2,193 test.svg\n",
      "10/15/2017  09:21 PM             8,203 tests.svg\n",
      "09/12/2017  07:42 AM               212 unitario.py\n",
      "01/17/2018  08:50 PM             2,070 Untitled.ipynb\n",
      "11/16/2017  10:36 AM             3,219 Untitled1.ipynb\n",
      "02/20/2018  02:32 PM               581 Untitled2.ipynb\n",
      "03/22/2018  03:00 PM           419,308 Untitled3.ipynb\n",
      "04/27/2018  09:24 AM             2,872 Untitled4.ipynb\n",
      "05/06/2018  08:05 PM             2,082 Untitled5.ipynb\n",
      "05/14/2018  06:42 AM    <DIR>          Videos\n",
      "03/26/2018  01:51 AM    <DIR>          Zotero\n",
      "              27 File(s)     51,507,978 bytes\n",
      "              54 Dir(s)   2,558,017,536 bytes free\n"
     ]
    }
   ],
   "source": [
    "!dir"
   ]
  },
  {
   "cell_type": "code",
   "execution_count": 10,
   "metadata": {
    "collapsed": true
   },
   "outputs": [],
   "source": [
    "def double(x):\n",
    "    print(x * 2)"
   ]
  },
  {
   "cell_type": "code",
   "execution_count": 12,
   "metadata": {},
   "outputs": [
    {
     "name": "stdout",
     "output_type": "stream",
     "text": [
      "2\n"
     ]
    }
   ],
   "source": [
    "double(1)"
   ]
  },
  {
   "cell_type": "code",
   "execution_count": 14,
   "metadata": {},
   "outputs": [
    {
     "name": "stdout",
     "output_type": "stream",
     "text": [
      "6\n"
     ]
    }
   ],
   "source": [
    "double(3)"
   ]
  },
  {
   "cell_type": "markdown",
   "metadata": {},
   "source": [
    "# ipywidgets"
   ]
  },
  {
   "cell_type": "markdown",
   "metadata": {},
   "source": [
    "## interact"
   ]
  },
  {
   "cell_type": "code",
   "execution_count": 15,
   "metadata": {
    "collapsed": true
   },
   "outputs": [],
   "source": [
    "from ipywidgets import interact"
   ]
  },
  {
   "cell_type": "code",
   "execution_count": 18,
   "metadata": {},
   "outputs": [
    {
     "data": {
      "application/vnd.jupyter.widget-view+json": {
       "model_id": "6f80a78f89414cdab3a40e4eaf74eb46",
       "version_major": 2,
       "version_minor": 0
      },
      "text/plain": [
       "A Jupyter Widget"
      ]
     },
     "metadata": {},
     "output_type": "display_data"
    }
   ],
   "source": [
    "@interact\n",
    "def double(x=\"0\"):\n",
    "    print(int(x or \"0\") * 2)"
   ]
  },
  {
   "cell_type": "markdown",
   "metadata": {},
   "source": [
    "## Widgets\n",
    "\n",
    "`HBox([]), Text(), Button(description=\"...\")`"
   ]
  },
  {
   "cell_type": "code",
   "execution_count": 21,
   "metadata": {},
   "outputs": [
    {
     "data": {
      "application/vnd.jupyter.widget-view+json": {
       "model_id": "986ceb5ca41942509750a593e13f5ba1",
       "version_major": 2,
       "version_minor": 0
      },
      "text/plain": [
       "A Jupyter Widget"
      ]
     },
     "metadata": {},
     "output_type": "display_data"
    },
    {
     "name": "stdout",
     "output_type": "stream",
     "text": [
      "8468468\n",
      "8468474\n"
     ]
    }
   ],
   "source": [
    "from ipywidgets import HBox, Text, Button\n",
    "text = Text()\n",
    "button = Button(description=\"double\")\n",
    "view = HBox([text, button])\n",
    "view"
   ]
  },
  {
   "cell_type": "code",
   "execution_count": 22,
   "metadata": {
    "collapsed": true
   },
   "outputs": [],
   "source": [
    "def on_click(widget):\n",
    "    double(text.value)\n",
    "button.on_click(on_click)"
   ]
  },
  {
   "cell_type": "markdown",
   "metadata": {},
   "source": [
    "# Rich Display\n",
    "\n",
    "```svg\n",
    "<svg width=\"100\">\n",
    "  <circle cx=\"50\" cy=\"50\" r=\"40\"/>\n",
    "</svg>\n",
    "```\n",
    "\n",
    "`_repr_svg_, _repr_markdown_, _repr_html_`"
   ]
  },
  {
   "cell_type": "code",
   "execution_count": 24,
   "metadata": {},
   "outputs": [
    {
     "data": {
      "image/svg+xml": [
       "<svg width=\"100\">\n",
       "  <circle cx=\"50\" cy=\"50\" r=\"40\"/>\n",
       "</svg>"
      ],
      "text/plain": [
       "<IPython.core.display.SVG object>"
      ]
     },
     "execution_count": 24,
     "metadata": {},
     "output_type": "execute_result"
    }
   ],
   "source": [
    "from IPython.display import SVG\n",
    "SVG(\"\"\"\n",
    "<svg width=\"100\">\n",
    "  <circle cx=\"50\" cy=\"50\" r=\"40\"/>\n",
    "</svg>\n",
    "\"\"\")"
   ]
  },
  {
   "cell_type": "code",
   "execution_count": 51,
   "metadata": {
    "collapsed": true
   },
   "outputs": [],
   "source": [
    "from itertools import chain\n",
    "class Circles:\n",
    "    \n",
    "    def __init__(self, count):\n",
    "        self.count = count\n",
    "    \n",
    "    @property\n",
    "    def svg(self):\n",
    "        circles = [\n",
    "            f'<circle cx=\"{i*100 + 50}\" cy=\"50\" r=\"40\"/>'\n",
    "            for i in range(self.count)\n",
    "        ]\n",
    "        return \"\".join(chain(\n",
    "            [f'<svg width=\"{self.count * 100 + 100}\">'],\n",
    "            circles,\n",
    "            ['</svg>']\n",
    "        ))\n",
    "        \n",
    "    def _repr_html_(self):\n",
    "        return self.svg\n",
    "    \n",
    "    def _repr_markdown_(self):\n",
    "        return f\"# {self!r}\"\n",
    "    \n",
    "    def __repr__(self):\n",
    "        return f\"Circles({self.count})\""
   ]
  },
  {
   "cell_type": "code",
   "execution_count": 52,
   "metadata": {},
   "outputs": [
    {
     "data": {
      "text/html": [
       "<svg width=\"600\"><circle cx=\"50\" cy=\"50\" r=\"40\"/><circle cx=\"150\" cy=\"50\" r=\"40\"/><circle cx=\"250\" cy=\"50\" r=\"40\"/><circle cx=\"350\" cy=\"50\" r=\"40\"/><circle cx=\"450\" cy=\"50\" r=\"40\"/></svg>"
      ],
      "text/markdown": [
       "# Circles(5)"
      ],
      "text/plain": [
       "Circles(5)"
      ]
     },
     "execution_count": 52,
     "metadata": {},
     "output_type": "execute_result"
    }
   ],
   "source": [
    "Circles(5)"
   ]
  },
  {
   "cell_type": "code",
   "execution_count": 50,
   "metadata": {},
   "outputs": [
    {
     "data": {
      "image/svg+xml": [
       "<svg width=\"600\"><circle cx=\"50\" cy=\"50\" r=\"40\"/><circle cx=\"150\" cy=\"50\" r=\"40\"/><circle cx=\"250\" cy=\"50\" r=\"40\"/><circle cx=\"350\" cy=\"50\" r=\"40\"/><circle cx=\"450\" cy=\"50\" r=\"40\"/></svg>"
      ]
     },
     "metadata": {},
     "output_type": "display_data"
    }
   ],
   "source": [
    "from IPython.display import display_svg\n",
    "display_svg(Circles(5))"
   ]
  },
  {
   "cell_type": "code",
   "execution_count": 44,
   "metadata": {},
   "outputs": [
    {
     "data": {
      "text/plain": [
       "'<svg width=\"600\"><circle cx=\"50\" cy=\"50\" r=\"40\"/><circle cx=\"150\" cy=\"50\" r=\"40\"/><circle cx=\"250\" cy=\"50\" r=\"40\"/><circle cx=\"350\" cy=\"50\" r=\"40\"/><circle cx=\"450\" cy=\"50\" r=\"40\"/></svg>'"
      ]
     },
     "execution_count": 44,
     "metadata": {},
     "output_type": "execute_result"
    }
   ],
   "source": [
    "_.svg"
   ]
  },
  {
   "cell_type": "code",
   "execution_count": 45,
   "metadata": {},
   "outputs": [
    {
     "data": {
      "image/svg+xml": [
       "<svg width=\"600\"><circle cx=\"50\" cy=\"50\" r=\"40\"/><circle cx=\"150\" cy=\"50\" r=\"40\"/><circle cx=\"250\" cy=\"50\" r=\"40\"/><circle cx=\"350\" cy=\"50\" r=\"40\"/><circle cx=\"450\" cy=\"50\" r=\"40\"/></svg>"
      ],
      "text/plain": [
       "<IPython.core.display.SVG object>"
      ]
     },
     "execution_count": 45,
     "metadata": {},
     "output_type": "execute_result"
    }
   ],
   "source": [
    "SVG(_)"
   ]
  },
  {
   "cell_type": "markdown",
   "metadata": {},
   "source": [
    "# Magics\n",
    "`%%javascript, %history`\n",
    "\n",
    "```\n",
    "IPython.core\n",
    ".magic: Magics, magics_class, line_magic, cell_magic, line_cell_magic\n",
    ".magic_arguments: magic_arguments(), argument, parse_argstring\n",
    "```\n"
   ]
  },
  {
   "cell_type": "code",
   "execution_count": 1,
   "metadata": {},
   "outputs": [
    {
     "data": {
      "application/javascript": [
       "console.log('abc')"
      ],
      "text/plain": [
       "<IPython.core.display.Javascript object>"
      ]
     },
     "metadata": {},
     "output_type": "display_data"
    }
   ],
   "source": [
    "%%javascript\n",
    "console.log('abc')"
   ]
  },
  {
   "cell_type": "code",
   "execution_count": 59,
   "metadata": {},
   "outputs": [
    {
     "name": "stdout",
     "output_type": "stream",
     "text": [
      "a = 2\n",
      "a = 2\n",
      "a\n",
      "a = 4\n",
      "a\n",
      "a\n",
      "a?\n",
      "!dir\n",
      "!dir\n",
      "def double(x):\n",
      "    print(x * 2)\n",
      "double(1)\n",
      "double(1)\n",
      "double(2)\n",
      "double(3)\n",
      "from ipywidgets import interact\n",
      "@interact\n",
      "def double(x=10):\n",
      "    print(x * 2)\n",
      "@interact\n",
      "def double(x=1):\n",
      "    print(x * 2)\n",
      "@interact\n",
      "def double(x=\"0\"):\n",
      "    print(int(x or \"0\") * 2)\n",
      "import ipywidgets import HBox, Text, Button\n",
      "text = Text()\n",
      "button = Button(description=\"double\")\n",
      "view = HBox([text, button])\n",
      "view\n",
      "from ipywidgets import HBox, Text, Button\n",
      "text = Text()\n",
      "button = Button(description=\"double\")\n",
      "view = HBox([text, button])\n",
      "view\n",
      "from ipywidgets import HBox, Text, Button\n",
      "text = Text()\n",
      "button = Button(description=\"double\")\n",
      "view = HBox([text, button])\n",
      "view\n",
      "def on_click(widget):\n",
      "    double(text.value)\n",
      "button.on_click(on_click)\n",
      "from IPython.display import SVG\n",
      "SVG(\"\"\"\n",
      "<svg width=\"100\">\n",
      "  <circle cx=\"50\" cy=\"50\" r=\"40\"/>\n",
      "</svg>\n",
      "\"\"\")\n",
      "from IPython.display import SVG\n",
      "SVG(\"\"\"\n",
      "<svg width=\"100\">\n",
      "  <circle cx=\"50\" cy=\"50\" r=\"40\"/>\n",
      "</svg>\n",
      "\"\"\")\n",
      "class Circles:\n",
      "    \n",
      "    def __init__(self, count):\n",
      "        self.count = count\n",
      "Circles(5)\n",
      "class Circles:\n",
      "    \n",
      "    def __init__(self, count):\n",
      "        self.count = count\n",
      "        \n",
      "    def __repr__(self):\n",
      "        return f\"{self.count}\"\n",
      "class Circles:\n",
      "    \n",
      "    def __init__(self, count):\n",
      "        self.count = count\n",
      "        \n",
      "    def __repr__(self):\n",
      "        return f\"Circles({self.count})\"\n",
      "Circles(5)\n",
      "class Circles:\n",
      "    \n",
      "    def __init__(self, count):\n",
      "        self.count = count\n",
      "    \n",
      "    \n",
      "    \n",
      "    def __repr__(self):\n",
      "        return f\"Circles({self.count}, {self.count*2})\"\n",
      "Circles(5)\n",
      "class Circles:\n",
      "    \n",
      "    def __init__(self, count):\n",
      "        self.count = count\n",
      "    \n",
      "    \n",
      "    \n",
      "    def __repr__(self):\n",
      "        return f\"Circles({self.count})\"\n",
      "class Circles:\n",
      "    \n",
      "    def __init__(self, count):\n",
      "        self.count = count\n",
      "    \n",
      "    \n",
      "    \n",
      "    def __repr__(self):\n",
      "        return f\"Circles({self.count})\"\n",
      "Circles(5)\n",
      "circles = [\n",
      "    f'<circle cx=\"{i*100 + 50}\" cy=\"50\" r=\"40\"/>'\n",
      "    for i in range(4)\n",
      "]\n",
      "list(chain(\n",
      "    [f'<svg width=\"{self.count * 100 + 100}\">'],\n",
      "    circles,\n",
      "    ['</svg>']\n",
      "))\n",
      "from itertools import chain\n",
      "circles = [\n",
      "    f'<circle cx=\"{i*100 + 50}\" cy=\"50\" r=\"40\"/>'\n",
      "    for i in range(4)\n",
      "]\n",
      "list(chain(\n",
      "    [f'<svg width=\"{self.count * 100 + 100}\">'],\n",
      "    circles,\n",
      "    ['</svg>']\n",
      "))\n",
      "from itertools import chain\n",
      "circles = [\n",
      "    f'<circle cx=\"{i*100 + 50}\" cy=\"50\" r=\"40\"/>'\n",
      "    for i in range(4)\n",
      "]\n",
      "list(chain(\n",
      "    [f'<svg width=\"{4 * 100 + 100}\">'],\n",
      "    circles,\n",
      "    ['</svg>']\n",
      "))\n",
      "from itertools import chain\n",
      "circles = [\n",
      "    f'<circle cx=\"{i*100 + 50}\" cy=\"50\" r=\"40\"/>'\n",
      "    for i in range(4)\n",
      "]\n",
      "list(chain(\n",
      "    [f'<svg width=\"{4 * 100 + 100}\">'],\n",
      "    circles,\n",
      "    ['</svg>', \"a\"]\n",
      "))\n",
      "from itertools import chain\n",
      "class Circles:\n",
      "    \n",
      "    def __init__(self, count):\n",
      "        self.count = count\n",
      "    \n",
      "    @property\n",
      "    def svg(self):\n",
      "        circles = [\n",
      "            f'<circle cx=\"{i*100 + 50}\" cy=\"50\" r=\"40\"/>'\n",
      "            for i in range(self.count)\n",
      "        ]\n",
      "        return \"\".join(chain(\n",
      "            [f'<svg width=\"{self.count * 100 + 100}\">'],\n",
      "            circles,\n",
      "            ['</svg>']\n",
      "        ))\n",
      "        \n",
      "    \n",
      "    def __repr__(self):\n",
      "        return f\"Circles({self.count})\"\n",
      "Circles(5)\n",
      "_.svg\n",
      "_.svg\n",
      "Circles(5)\n",
      "_.svg\n",
      "SVG(_)\n",
      "from itertools import chain\n",
      "class Circles:\n",
      "    \n",
      "    def __init__(self, count):\n",
      "        self.count = count\n",
      "    \n",
      "    @property\n",
      "    def svg(self):\n",
      "        circles = [\n",
      "            f'<circle cx=\"{i*100 + 50}\" cy=\"50\" r=\"40\"/>'\n",
      "            for i in range(self.count)\n",
      "        ]\n",
      "        return \"\".join(chain(\n",
      "            [f'<svg width=\"{self.count * 100 + 100}\">'],\n",
      "            circles,\n",
      "            ['</svg>']\n",
      "        ))\n",
      "        \n",
      "    def _repr_svg_(self):\n",
      "        return self.svg\n",
      "    \n",
      "    def __repr__(self):\n",
      "        return f\"Circles({self.count})\"\n",
      "Circles(5)\n",
      "from itertools import chain\n",
      "class Circles:\n",
      "    \n",
      "    def __init__(self, count):\n",
      "        self.count = count\n",
      "    \n",
      "    @property\n",
      "    def svg(self):\n",
      "        circles = [\n",
      "            f'<circle cx=\"{i*100 + 50}\" cy=\"50\" r=\"40\"/>'\n",
      "            for i in range(self.count)\n",
      "        ]\n",
      "        return \"\".join(chain(\n",
      "            [f'<svg width=\"{self.count * 100 + 100}\">'],\n",
      "            circles,\n",
      "            ['</svg>']\n",
      "        ))\n",
      "        \n",
      "    def _repr_svg_(self):\n",
      "        return self.svg\n",
      "    \n",
      "    def _repr_markdown_(self):\n",
      "        return f\"# {self!r}\"\n",
      "    \n",
      "    def __repr__(self):\n",
      "        return f\"Circles({self.count})\"\n",
      "Circles(5)\n",
      "from IPython.display import display_svg\n",
      "display_svg(Circles(5))\n",
      "from itertools import chain\n",
      "class Circles:\n",
      "    \n",
      "    def __init__(self, count):\n",
      "        self.count = count\n",
      "    \n",
      "    @property\n",
      "    def svg(self):\n",
      "        circles = [\n",
      "            f'<circle cx=\"{i*100 + 50}\" cy=\"50\" r=\"40\"/>'\n",
      "            for i in range(self.count)\n",
      "        ]\n",
      "        return \"\".join(chain(\n",
      "            [f'<svg width=\"{self.count * 100 + 100}\">'],\n",
      "            circles,\n",
      "            ['</svg>']\n",
      "        ))\n",
      "        \n",
      "    def _repr_html_(self):\n",
      "        return self.svg\n",
      "    \n",
      "    def _repr_markdown_(self):\n",
      "        return f\"# {self!r}\"\n",
      "    \n",
      "    def __repr__(self):\n",
      "        return f\"Circles({self.count})\"\n",
      "Circles(5)\n",
      "%%javascript\n",
      "alert('abc')\n",
      "%history\n",
      "hist = %history\n",
      "hist\n",
      "hist = %ls\n",
      "hist\n",
      "%history\n"
     ]
    }
   ],
   "source": [
    "%history"
   ]
  },
  {
   "cell_type": "code",
   "execution_count": 60,
   "metadata": {
    "collapsed": true
   },
   "outputs": [],
   "source": [
    "from IPython.core.magic import Magics, magics_class, line_magic\n",
    "from IPython.core.magic_arguments import  magic_arguments, argument, parse_argstring"
   ]
  },
  {
   "cell_type": "code",
   "execution_count": 67,
   "metadata": {
    "collapsed": true
   },
   "outputs": [],
   "source": [
    "@magics_class\n",
    "class CircleMagic(Magics):\n",
    "    \n",
    "    @magic_arguments()\n",
    "    @argument(\"count\", default=3, type=int, help=\"Number of circles\")\n",
    "    @line_magic\n",
    "    def circles(self, line):\n",
    "        args = parse_argstring(self.circles, line)\n",
    "        return Circles(args.count)"
   ]
  },
  {
   "cell_type": "code",
   "execution_count": 68,
   "metadata": {
    "collapsed": true
   },
   "outputs": [],
   "source": [
    "shell = get_ipython()"
   ]
  },
  {
   "cell_type": "code",
   "execution_count": 69,
   "metadata": {
    "collapsed": true
   },
   "outputs": [],
   "source": [
    "shell.register_magics(CircleMagic)"
   ]
  },
  {
   "cell_type": "code",
   "execution_count": 73,
   "metadata": {
    "collapsed": true
   },
   "outputs": [],
   "source": [
    "var = %circles 3"
   ]
  },
  {
   "cell_type": "code",
   "execution_count": 74,
   "metadata": {},
   "outputs": [
    {
     "data": {
      "text/html": [
       "<svg width=\"400\"><circle cx=\"50\" cy=\"50\" r=\"40\"/><circle cx=\"150\" cy=\"50\" r=\"40\"/><circle cx=\"250\" cy=\"50\" r=\"40\"/></svg>"
      ],
      "text/markdown": [
       "# Circles(3)"
      ],
      "text/plain": [
       "Circles(3)"
      ]
     },
     "execution_count": 74,
     "metadata": {},
     "output_type": "execute_result"
    }
   ],
   "source": [
    "var"
   ]
  },
  {
   "cell_type": "code",
   "execution_count": 75,
   "metadata": {},
   "outputs": [
    {
     "data": {
      "text/plain": [
       "'<svg width=\"400\"><circle cx=\"50\" cy=\"50\" r=\"40\"/><circle cx=\"150\" cy=\"50\" r=\"40\"/><circle cx=\"250\" cy=\"50\" r=\"40\"/></svg>'"
      ]
     },
     "execution_count": 75,
     "metadata": {},
     "output_type": "execute_result"
    }
   ],
   "source": [
    "var.svg"
   ]
  },
  {
   "cell_type": "code",
   "execution_count": null,
   "metadata": {
    "collapsed": true
   },
   "outputs": [],
   "source": []
  }
 ],
 "metadata": {
  "kernelspec": {
   "display_name": "Python 3",
   "language": "python",
   "name": "python3"
  },
  "language_info": {
   "codemirror_mode": {
    "name": "ipython",
    "version": 3
   },
   "file_extension": ".py",
   "mimetype": "text/x-python",
   "name": "python",
   "nbconvert_exporter": "python",
   "pygments_lexer": "ipython3",
   "version": "3.6.1"
  },
  "toc": {
   "nav_menu": {},
   "number_sections": true,
   "sideBar": true,
   "skip_h1_title": false,
   "title_cell": "Table of Contents",
   "title_sidebar": "Contents",
   "toc_cell": false,
   "toc_position": {},
   "toc_section_display": true,
   "toc_window_display": false
  }
 },
 "nbformat": 4,
 "nbformat_minor": 2
}
