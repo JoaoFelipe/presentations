{
 "cells": [
  {
   "cell_type": "markdown",
   "metadata": {},
   "source": [
    "<h1 style=\"display: inline-block;\"> Extensão Front-end (nbextension) </h1> <h4 style=\"display: inline-block; float: right;\"> 9- nbextension.ipynb </h4>\n",
    "\n",
    "* Distribuídas como módulos Python (PyPI)\n",
    "* Porém possuem apenas Javascript, CSS e HTML para o notebook"
   ]
  },
  {
   "cell_type": "markdown",
   "metadata": {},
   "source": [
    "#### Bonus 3-  IPython Magic semelhante a writefile que aceita substituições em Cell"
   ]
  },
  {
   "cell_type": "code",
   "execution_count": null,
   "metadata": {
    "collapsed": true
   },
   "outputs": [],
   "source": [
    "def template(line, cell):\n",
    "    ipython = get_ipython()\n",
    "    return ipython.run_cell_magic(\"writefile\", line, cell.format(**ipython.user_ns))\n",
    "\n",
    "get_ipython().register_magic_function(template, magic_kind=\"cell\")"
   ]
  },
  {
   "cell_type": "markdown",
   "metadata": {},
   "source": [
    "### Módulo"
   ]
  },
  {
   "cell_type": "code",
   "execution_count": null,
   "metadata": {
    "collapsed": true
   },
   "outputs": [],
   "source": [
    "import os\n",
    "projects_dir, extension_name = \".\", \"nbext\"\n",
    "os.makedirs(os.path.join(projects_dir, extension_name, extension_name, \"static\"))"
   ]
  },
  {
   "cell_type": "code",
   "execution_count": null,
   "metadata": {
    "collapsed": false
   },
   "outputs": [],
   "source": [
    "%%template {projects_dir}/{extension_name}/setup.py\n",
    "import os\n",
    "from setuptools import setup, find_packages\n",
    "setup(\n",
    "    name=\"Jupyter Notebook Extension\",\n",
    "    version=\"1.0\",\n",
    "    description=\"How to create Jupyter Extensions\",\n",
    "    author=\"JF\",\n",
    "    author_email=\"joaofelipenp@gmail.com\",\n",
    "    packages=find_packages(),\n",
    "    package_data={{\"{extension_name}\": [os.path.join(\"static\", \"index.js\")]}}\n",
    ")"
   ]
  },
  {
   "cell_type": "code",
   "execution_count": null,
   "metadata": {
    "collapsed": false
   },
   "outputs": [],
   "source": [
    "%%template {projects_dir}/{extension_name}/{extension_name}/__init__.py\n",
    "def _jupyter_nbextension_paths():\n",
    "    return [dict(\n",
    "        section=\"notebook\",\n",
    "        src=\"static\",\n",
    "        dest=\"{extension_name}\",\n",
    "        require=\"{extension_name}/index\"\n",
    "    )]"
   ]
  },
  {
   "cell_type": "code",
   "execution_count": null,
   "metadata": {
    "collapsed": false
   },
   "outputs": [],
   "source": [
    "%%template {projects_dir}/{extension_name}/{extension_name}/static/index.js\n",
    "define([\n",
    "    'base/js/namespace'\n",
    "], function(\n",
    "    Jupyter\n",
    ") {{\n",
    "    function load_ipython_extension() {{\n",
    "        var handler = function () {{\n",
    "            var fn = prompt(\"Nome da função?\");\n",
    "            Jupyter.notebook.insert_cell_below().set_text(\"%%unittest -p 1 -d\\nassert \"+fn+\"() == 0\");\n",
    "            Jupyter.notebook.insert_cell_below().set_text(\"def \"+fn+\"():\\n    pass\");\n",
    "            Jupyter.notebook.insert_cell_below().set_text(\"%load_ext ipython_unittest\");\n",
    "        }};\n",
    "\n",
    "        var action = {{\n",
    "            icon: 'fa-group', // a font-awesome class used on buttons, etc\n",
    "            help    : 'Iniciar dojo',\n",
    "            help_index : 'zz',\n",
    "            handler : handler\n",
    "        }};\n",
    "        var prefix = '{extension_name}';\n",
    "        var action_name = 'start-dojo';\n",
    "\n",
    "        var full_action_name = Jupyter.actions.register(action, name, prefix);\n",
    "        Jupyter.toolbar.add_buttons_group([full_action_name]);            \n",
    "    }}\n",
    "    return {{\n",
    "        load_ipython_extension: load_ipython_extension\n",
    "    }};\n",
    "}});\n",
    "            "
   ]
  },
  {
   "cell_type": "markdown",
   "metadata": {},
   "source": [
    "### Instalação"
   ]
  },
  {
   "cell_type": "code",
   "execution_count": null,
   "metadata": {
    "collapsed": false
   },
   "outputs": [],
   "source": [
    "!pip install -e {projects_dir}/{extension_name}"
   ]
  },
  {
   "cell_type": "code",
   "execution_count": null,
   "metadata": {
    "collapsed": false,
    "scrolled": true
   },
   "outputs": [],
   "source": [
    "# --symlink\n",
    "!jupyter nbextension install --py {extension_name} --user"
   ]
  },
  {
   "cell_type": "code",
   "execution_count": null,
   "metadata": {
    "collapsed": true
   },
   "outputs": [],
   "source": [
    "!jupyter nbextension enable {extension_name} --user --py"
   ]
  },
  {
   "cell_type": "markdown",
   "metadata": {},
   "source": [
    "### Uso"
   ]
  },
  {
   "cell_type": "code",
   "execution_count": null,
   "metadata": {
    "collapsed": true
   },
   "outputs": [],
   "source": [
    "from IPython.display import Image\n",
    "Image(\"nbextension.png\")"
   ]
  },
  {
   "cell_type": "markdown",
   "metadata": {},
   "source": [
    "\n",
    "https://github.com/JoaoFelipe/presentations/20161210_PythonRio  \n",
    "\n",
    "<span style=\"font-size:1.5em;\" id=\"slidepagination\"> [<(8) O que fazer com extensões?](FuncionalidadesIPython.ipynb) (9) [Intro (1)>](Intro.ipynb) </span>\n",
    "&nbsp;\n"
   ]
  },
  {
   "cell_type": "code",
   "execution_count": 1,
   "metadata": {
    "collapsed": false
   },
   "outputs": [
    {
     "data": {
      "application/javascript": [
       "\n",
       "        $(\"#floatingbottom\").remove();\n",
       "    "
      ],
      "text/plain": [
       "<IPython.core.display.Javascript object>"
      ]
     },
     "metadata": {},
     "output_type": "display_data"
    },
    {
     "data": {
      "application/javascript": [
       "\n",
       "        $(\"body\").css(\"position\", \"relative\");\n",
       "        $(\"body\").append('<div id=\"floatingbottom\"><div id=\"floatinginternal\">Teste</div></div>');\n",
       "\n",
       "        $(\"#floatingbottom\").css(\"position\", \"absolute\");\n",
       "        $(\"#floatingbottom\").css(\"bottom\", \"0\");\n",
       "        $(\"#floatinginternal\").html($(\"#slidepagination\").parent().parent().html());\n",
       "        $(\"#floatinginternal\").css(\"background-color\", \"white\");\n",
       "        $(\"#floatinginternal\").css(\"margin\", \"auto\");\n",
       "        $(\"#floatinginternal\").css(\"width\", \"70%\");\n",
       "        $(\"#floatinginternal\").css(\"padding\", \"2px 5px\");\n",
       "        $(\"#floatinginternal\").css(\"border-radius\", \"15px 15px 0 0\");\n",
       "        $(\"#floatinginternal\").css(\"border\", \"1px solid black\");\n",
       "        $(\"#floatinginternal\").css(\"z-index\", \"1000\");\n",
       "        $(\"#floatingbottom\").css(\"margin\", \"0\");\n",
       "        $(\"#floatingbottom\").css(\"width\", \"100%\");\n",
       "        $(\"#floatingbottom\").css(\"text-align\", \"center\");\n",
       "\n",
       "        $(\"#floatingbottom\").css(\"z-index\", \"1000\");\n",
       "    "
      ],
      "text/plain": [
       "<IPython.core.display.Javascript object>"
      ]
     },
     "metadata": {},
     "output_type": "display_data"
    }
   ],
   "source": [
    "import pagination"
   ]
  },
  {
   "cell_type": "code",
   "execution_count": null,
   "metadata": {
    "collapsed": true
   },
   "outputs": [],
   "source": []
  }
 ],
 "metadata": {
  "anaconda-cloud": {},
  "kernelspec": {
   "display_name": "Python [default]",
   "language": "python",
   "name": "python3"
  },
  "language_info": {
   "codemirror_mode": {
    "name": "ipython",
    "version": 3
   },
   "file_extension": ".py",
   "mimetype": "text/x-python",
   "name": "python",
   "nbconvert_exporter": "python",
   "pygments_lexer": "ipython3",
   "version": "3.5.2"
  }
 },
 "nbformat": 4,
 "nbformat_minor": 0
}
