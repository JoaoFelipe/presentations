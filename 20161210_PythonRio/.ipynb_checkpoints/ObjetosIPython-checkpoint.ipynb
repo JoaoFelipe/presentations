{
 "cells": [
  {
   "cell_type": "markdown",
   "metadata": {},
   "source": [
    "<h1 style=\"display: inline-block;\"> Integração de Objetos <br> com IPython </h1> <h4 style=\"display: inline-block; float: right;\"> 6- ObjetosIPython.ipynb </h4>\n",
    "* Visualização\n",
    "  * svg, png, jpeg, html, javascript, latex\n",
    "* Opções de Autocompletar\n",
    "---\n",
    "* Traceback de exceções"
   ]
  },
  {
   "cell_type": "markdown",
   "metadata": {},
   "source": [
    "### Visualização\n",
    "\n",
    "* Defina um método ```_repr_*_(self)```\n",
    "  * svg, png, jpeg, html, javascript, latex"
   ]
  },
  {
   "cell_type": "code",
   "execution_count": null,
   "metadata": {
    "collapsed": false
   },
   "outputs": [],
   "source": [
    "class Raiz:\n",
    "    def __init__(self, numero):\n",
    "        self.numero = numero\n",
    "    \n",
    "    def formula(self):\n",
    "        text = self.numero\n",
    "        if hasattr(self.numero, \"formula\"):\n",
    "            text = self.numero.formula()\n",
    "        return \"\\sqrt{%s}\" % (text,)\n",
    "    \n",
    "    def _repr_latex_(self):\n",
    "        return \"$${}$$\".format(self.formula())\n",
    "    \n",
    "Raiz(25)"
   ]
  },
  {
   "cell_type": "code",
   "execution_count": null,
   "metadata": {
    "collapsed": true
   },
   "outputs": [],
   "source": [
    "import os\n",
    "from subprocess import Popen, PIPE as P\n",
    "\n",
    "class Grafo:\n",
    "    def __init__(self, adjacentes):\n",
    "        self.adjacentes = adjacentes\n",
    "    \n",
    "    def dottext(self):\n",
    "        result = [\n",
    "            \"  {} -> {};\".format(no, adjacente)\n",
    "            for no, lista in self.adjacentes.items()\n",
    "            for adjacente in lista\n",
    "        ]\n",
    "        return \"digraph G {{\\n  ranksep=0.25;\\n{}\\n}}\".format(\"\\n\".join(result))\n",
    "\n",
    "    def dot(self, format=\"png\"):  # ToDo: Tratar erro\n",
    "        kwargs = {} if os.name != 'nt' else {\"creationflags\": 0x08000000}\n",
    "        p = Popen(['dot', '-T', format], stdout=P, stdin=P, stderr=P, **kwargs)\n",
    "        return p.communicate(self.dottext().encode('utf-8'))[0]\n",
    "    \n",
    "    def __repr__(self):\n",
    "        return self.dottext()\n",
    "    \n",
    "    def _repr_svg_(self):\n",
    "        return self.dot(\"svg\").decode(\"utf-8\")\n",
    "    \n",
    "    def _repr_png_(self):\n",
    "        return self.dot(\"png\")\n",
    "    \n",
    "\n",
    "texto_desta_celula = \"\\n\".join(In[-1].split(\"\\n\")[:-1])"
   ]
  },
  {
   "cell_type": "code",
   "execution_count": null,
   "metadata": {
    "collapsed": false
   },
   "outputs": [],
   "source": [
    "grafo = Grafo({\"a\": [\"b\", \"c\"], \"b\": [\"d\"], \"c\": [\"d\"]})\n",
    "grafo"
   ]
  },
  {
   "cell_type": "code",
   "execution_count": null,
   "metadata": {
    "collapsed": false
   },
   "outputs": [],
   "source": [
    "from IPython.display import display_png\n",
    "display_png(grafo)"
   ]
  },
  {
   "cell_type": "code",
   "execution_count": null,
   "metadata": {
    "collapsed": false
   },
   "outputs": [],
   "source": [
    "from IPython.display import display_pretty\n",
    "display_pretty(grafo)"
   ]
  },
  {
   "cell_type": "markdown",
   "metadata": {},
   "source": [
    "#### Bonus 1 - imprimindo execução"
   ]
  },
  {
   "cell_type": "code",
   "execution_count": null,
   "metadata": {
    "collapsed": true
   },
   "outputs": [],
   "source": [
    "from collections import defaultdict\n",
    "class GrafoExecucao(Grafo):\n",
    "    \n",
    "    def __init__(self, func):\n",
    "        self.func = func\n",
    "        self.adjacentes = defaultdict(list)\n",
    "        self.pai = \"root\"\n",
    "    \n",
    "    def __call__(self, *args, **kwargs):\n",
    "        if \"reset\" not in kwargs or kwargs[\"reset\"]:\n",
    "            self.adjacentes = defaultdict(list) \n",
    "        pai_velho = self.pai\n",
    "        nome = \"{}_{}\".format(self.func.__name__, \"_\".join(map(str, args)))\n",
    "        self.pai = nome\n",
    "        self.adjacentes[pai_velho].append(nome)\n",
    "        resultado = self.func(*args, **kwargs)\n",
    "        self.pai = pai_velho\n",
    "        return resultado"
   ]
  },
  {
   "cell_type": "code",
   "execution_count": null,
   "metadata": {
    "collapsed": false
   },
   "outputs": [],
   "source": [
    "@GrafoExecucao\n",
    "def fib(n, reset=True):\n",
    "    if n <= 1:\n",
    "        return n\n",
    "    return fib(n - 1, reset=False) + fib(n - 2, reset=False)"
   ]
  },
  {
   "cell_type": "code",
   "execution_count": null,
   "metadata": {
    "collapsed": false
   },
   "outputs": [],
   "source": [
    "fib(6)"
   ]
  },
  {
   "cell_type": "code",
   "execution_count": null,
   "metadata": {
    "collapsed": false
   },
   "outputs": [],
   "source": [
    "fib"
   ]
  },
  {
   "cell_type": "code",
   "execution_count": null,
   "metadata": {
    "collapsed": true
   },
   "outputs": [],
   "source": [
    "with open(\"grafo.py\", \"w\") as file:\n",
    "    file.write(texto_desta_celula)"
   ]
  },
  {
   "cell_type": "markdown",
   "metadata": {},
   "source": [
    "### Autocompletar\n",
    "\n",
    "* IPython usa a função ```dir```: sobrescreva ```__dir__```"
   ]
  },
  {
   "cell_type": "code",
   "execution_count": null,
   "metadata": {
    "collapsed": true
   },
   "outputs": [],
   "source": [
    "from string import ascii_letters\n",
    "\n",
    "class Alfabeto:\n",
    "    def __getattr__(self, letter):\n",
    "        return ord(letter.lower()) - ord('a') + 1\n",
    "    \n",
    "    def __dir__(self):\n",
    "        return list(ascii_letters)\n",
    "    \n",
    "alfabeto = Alfabeto()"
   ]
  },
  {
   "cell_type": "code",
   "execution_count": null,
   "metadata": {
    "collapsed": false
   },
   "outputs": [],
   "source": [
    "alfabeto.J"
   ]
  },
  {
   "cell_type": "code",
   "execution_count": null,
   "metadata": {
    "collapsed": false
   },
   "outputs": [],
   "source": [
    "from IPython.display import Image\n",
    "Image(\"autocompletar2.png\")"
   ]
  },
  {
   "cell_type": "markdown",
   "metadata": {},
   "source": [
    "https://github.com/JoaoFelipe/presentations/20161210_PythonRio  \n",
    "\n",
    "<span style=\"font-size:1.5em;\" id=\"slidepagination\"> [<(5) Extensões](Extensoes.ipynb) (6) [Extensão IPython (7)>](ExtensaoIPython.ipynb) </span>\n",
    "&nbsp;\n"
   ]
  },
  {
   "cell_type": "code",
   "execution_count": 1,
   "metadata": {
    "collapsed": false
   },
   "outputs": [
    {
     "data": {
      "application/javascript": [
       "\n",
       "        $(\"#floatingbottom\").remove();\n",
       "    "
      ],
      "text/plain": [
       "<IPython.core.display.Javascript object>"
      ]
     },
     "metadata": {},
     "output_type": "display_data"
    },
    {
     "data": {
      "application/javascript": [
       "\n",
       "        $(\"body\").css(\"position\", \"relative\");\n",
       "        $(\"body\").append('<div id=\"floatingbottom\"><div id=\"floatinginternal\">Teste</div></div>');\n",
       "\n",
       "        $(\"#floatingbottom\").css(\"position\", \"absolute\");\n",
       "        $(\"#floatingbottom\").css(\"bottom\", \"0\");\n",
       "        $(\"#floatinginternal\").html($(\"#slidepagination\").parent().parent().html());\n",
       "        $(\"#floatinginternal\").css(\"background-color\", \"white\");\n",
       "        $(\"#floatinginternal\").css(\"margin\", \"auto\");\n",
       "        $(\"#floatinginternal\").css(\"width\", \"70%\");\n",
       "        $(\"#floatinginternal\").css(\"padding\", \"2px 5px\");\n",
       "        $(\"#floatinginternal\").css(\"border-radius\", \"15px 15px 0 0\");\n",
       "        $(\"#floatinginternal\").css(\"border\", \"1px solid black\");\n",
       "        $(\"#floatinginternal\").css(\"z-index\", \"1000\");\n",
       "        $(\"#floatingbottom\").css(\"margin\", \"0\");\n",
       "        $(\"#floatingbottom\").css(\"width\", \"100%\");\n",
       "        $(\"#floatingbottom\").css(\"text-align\", \"center\");\n",
       "\n",
       "        $(\"#floatingbottom\").css(\"z-index\", \"1000\");\n",
       "    "
      ],
      "text/plain": [
       "<IPython.core.display.Javascript object>"
      ]
     },
     "metadata": {},
     "output_type": "display_data"
    }
   ],
   "source": [
    "import pagination"
   ]
  },
  {
   "cell_type": "code",
   "execution_count": null,
   "metadata": {
    "collapsed": true
   },
   "outputs": [],
   "source": []
  }
 ],
 "metadata": {
  "anaconda-cloud": {},
  "kernelspec": {
   "display_name": "Python [default]",
   "language": "python",
   "name": "python3"
  },
  "language_info": {
   "codemirror_mode": {
    "name": "ipython",
    "version": 3
   },
   "file_extension": ".py",
   "mimetype": "text/x-python",
   "name": "python",
   "nbconvert_exporter": "python",
   "pygments_lexer": "ipython3",
   "version": "3.5.2"
  }
 },
 "nbformat": 4,
 "nbformat_minor": 0
}
