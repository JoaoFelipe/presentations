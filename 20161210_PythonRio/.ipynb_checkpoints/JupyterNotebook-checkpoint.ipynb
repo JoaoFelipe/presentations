{
 "cells": [
  {
   "cell_type": "markdown",
   "metadata": {},
   "source": [
    "<h1 style=\"display: inline-block;\"> Jupyter Notebook </h1> <h4 style=\"display: inline-block; float: right;\"> 2- JupyterNotebook.ipynb </h4>\n",
    "- Aplicação Web\n",
    "- Permite criar e compartilhar documentos"
   ]
  },
  {
   "cell_type": "code",
   "execution_count": null,
   "metadata": {
    "collapsed": false
   },
   "outputs": [],
   "source": [
    "%%javascript\n",
    "element.text(IPython.notebook.notebook_path)"
   ]
  },
  {
   "cell_type": "markdown",
   "metadata": {},
   "source": [
    "* Texto, equações (markdown + latex)\n",
    "\n",
    "$$a = 16; b = 32; c = 22$$\n",
    "\n",
    "$$\\sqrt{a^2 + b^2 + c^2}$$\n",
    "\n",
    "* Código"
   ]
  },
  {
   "cell_type": "code",
   "execution_count": null,
   "metadata": {
    "collapsed": false
   },
   "outputs": [],
   "source": [
    "a, b, c = 16, 32, 22\n",
    "(a ** 2 + b ** 2 + c ** 2) ** 0.5"
   ]
  },
  {
   "cell_type": "code",
   "execution_count": null,
   "metadata": {
    "collapsed": false
   },
   "outputs": [],
   "source": [
    "%matplotlib notebook\n",
    "import matplotlib.pyplot as plt\n",
    "import matplotlib.mlab as mlab\n",
    "import numpy as np\n",
    "\n",
    "x = np.linspace(-100, 100, 100)\n",
    "plt.plot(x, mlab.normpdf(x, 0, 30))\n",
    "plt.plot([_, _], [0, .014])"
   ]
  },
  {
   "cell_type": "markdown",
   "metadata": {},
   "source": [
    "https://github.com/JoaoFelipe/presentations/20161210_PythonRio  \n",
    "\n",
    "<span style=\"font-size:1.5em;\" id=\"slidepagination\"> [<(1) Intro](Intro.ipynb) (2) [IPython (3)>](IPython.ipynb) </span>\n",
    "&nbsp;"
   ]
  },
  {
   "cell_type": "code",
   "execution_count": 1,
   "metadata": {
    "collapsed": false
   },
   "outputs": [
    {
     "data": {
      "application/javascript": [
       "\n",
       "        $(\"#floatingbottom\").remove();\n",
       "    "
      ],
      "text/plain": [
       "<IPython.core.display.Javascript object>"
      ]
     },
     "metadata": {},
     "output_type": "display_data"
    },
    {
     "data": {
      "application/javascript": [
       "\n",
       "        $(\"body\").css(\"position\", \"relative\");\n",
       "        $(\"body\").append('<div id=\"floatingbottom\"><div id=\"floatinginternal\">Teste</div></div>');\n",
       "\n",
       "        $(\"#floatingbottom\").css(\"position\", \"absolute\");\n",
       "        $(\"#floatingbottom\").css(\"bottom\", \"0\");\n",
       "        $(\"#floatinginternal\").html($(\"#slidepagination\").parent().parent().html());\n",
       "        $(\"#floatinginternal\").css(\"background-color\", \"white\");\n",
       "        $(\"#floatinginternal\").css(\"margin\", \"auto\");\n",
       "        $(\"#floatinginternal\").css(\"width\", \"70%\");\n",
       "        $(\"#floatinginternal\").css(\"padding\", \"2px 5px\");\n",
       "        $(\"#floatinginternal\").css(\"border-radius\", \"15px 15px 0 0\");\n",
       "        $(\"#floatinginternal\").css(\"border\", \"1px solid black\");\n",
       "        $(\"#floatinginternal\").css(\"z-index\", \"1000\");\n",
       "        $(\"#floatingbottom\").css(\"margin\", \"0\");\n",
       "        $(\"#floatingbottom\").css(\"width\", \"100%\");\n",
       "        $(\"#floatingbottom\").css(\"text-align\", \"center\");\n",
       "\n",
       "        $(\"#floatingbottom\").css(\"z-index\", \"1000\");\n",
       "    "
      ],
      "text/plain": [
       "<IPython.core.display.Javascript object>"
      ]
     },
     "metadata": {},
     "output_type": "display_data"
    }
   ],
   "source": [
    "import pagination"
   ]
  },
  {
   "cell_type": "code",
   "execution_count": null,
   "metadata": {
    "collapsed": true
   },
   "outputs": [],
   "source": []
  }
 ],
 "metadata": {
  "anaconda-cloud": {},
  "kernelspec": {
   "display_name": "Python [default]",
   "language": "python",
   "name": "python3"
  },
  "language_info": {
   "codemirror_mode": {
    "name": "ipython",
    "version": 3
   },
   "file_extension": ".py",
   "mimetype": "text/x-python",
   "name": "python",
   "nbconvert_exporter": "python",
   "pygments_lexer": "ipython3",
   "version": "3.5.2"
  }
 },
 "nbformat": 4,
 "nbformat_minor": 0
}
