{
 "cells": [
  {
   "cell_type": "markdown",
   "metadata": {},
   "source": [
    "# Lista\n",
    "1. [Intro](Intro.ipynb)\n",
    "1. [Jupyter Notebook](JupyterNotebook.ipynb)\n",
    "1. [IPython](IPython.ipynb)\n",
    "1. [Exemplos](Exemplos.ipynb)\n",
    "1. [Extensões](Extensoes.ipynb)\n",
    "1. [Integração de Objetos com IPython](ObjetosIPython.ipynb)\n",
    "1. [Extensão IPython](ExtensaoIPython.ipynb)\n",
    "1. [O que fazer com extensões?](FuncionalidadesIPython.ipynb)\n",
    "1. [Extensão Front-end](nbextension.ipynb)"
   ]
  },
  {
   "cell_type": "code",
   "execution_count": 5,
   "metadata": {
    "collapsed": false
   },
   "outputs": [
    {
     "name": "stdout",
     "output_type": "stream",
     "text": [
      "Signing notebook: Empty.ipynb\n",
      "Notebook already signed: nbextension.ipynb\n",
      "Notebook already signed: JupyterNotebook.ipynb\n",
      "Notebook already signed: Extensoes.ipynb\n",
      "Notebook already signed: IPython.ipynb\n",
      "Notebook already signed: Exemplos.ipynb\n",
      "Notebook already signed: ObjetosIPython.ipynb\n",
      "Notebook already signed: Intro.ipynb\n",
      "Notebook already signed: FuncionalidadesIPython.ipynb\n",
      "Notebook already signed: ExtensaoIPython.ipynb\n",
      "Notebook already signed: Lista.ipynb\n",
      "Notebook already signed: Vazio.ipynb\n"
     ]
    }
   ],
   "source": [
    "import os\n",
    "for file in os.listdir():\n",
    "    if file.endswith(\".ipynb\"):\n",
    "        !jupyter trust {file}"
   ]
  },
  {
   "cell_type": "code",
   "execution_count": null,
   "metadata": {
    "collapsed": true
   },
   "outputs": [],
   "source": []
  }
 ],
 "metadata": {
  "anaconda-cloud": {},
  "kernelspec": {
   "display_name": "Python [default]",
   "language": "python",
   "name": "python3"
  },
  "language_info": {
   "codemirror_mode": {
    "name": "ipython",
    "version": 3
   },
   "file_extension": ".py",
   "mimetype": "text/x-python",
   "name": "python",
   "nbconvert_exporter": "python",
   "pygments_lexer": "ipython3",
   "version": "3.5.2"
  },
  "toc": {
   "nav_menu": {
    "height": "31px",
    "width": "252px"
   },
   "navigate_menu": true,
   "number_sections": true,
   "sideBar": true,
   "threshold": 4,
   "toc_cell": false,
   "toc_section_display": "block",
   "toc_window_display": false
  }
 },
 "nbformat": 4,
 "nbformat_minor": 2
}
