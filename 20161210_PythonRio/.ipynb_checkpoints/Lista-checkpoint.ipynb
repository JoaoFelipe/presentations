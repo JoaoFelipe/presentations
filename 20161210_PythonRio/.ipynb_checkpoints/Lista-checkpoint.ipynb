{
 "cells": [
  {
   "cell_type": "markdown",
   "metadata": {},
   "source": [
    "# Lista\n",
    "1. [Intro](Intro.ipynb)\n",
    "1. [Jupyter Notebook](JupyterNotebook.ipynb)\n",
    "1. [IPython](IPython.ipynb)\n",
    "1. [Exemplos](Exemplos.ipynb)\n",
    "1. [Extensões](Extensoes.ipynb)\n",
    "1. [Integração de Objetos com IPython](ObjetosIPython.ipynb)\n",
    "1. [Extensão IPython](ExtensaoIPython.ipynb)\n",
    "1. [O que fazer com extensões?](FuncionalidadesIPython.ipynb)\n",
    "1. [Extensão Front-end](nbextension.ipynb)"
   ]
  },
  {
   "cell_type": "code",
   "execution_count": null,
   "metadata": {
    "collapsed": true
   },
   "outputs": [],
   "source": []
  }
 ],
 "metadata": {
  "anaconda-cloud": {},
  "kernelspec": {
   "display_name": "Python [default]",
   "language": "python",
   "name": "python3"
  },
  "language_info": {
   "codemirror_mode": {
    "name": "ipython",
    "version": 3
   },
   "file_extension": ".py",
   "mimetype": "text/x-python",
   "name": "python",
   "nbconvert_exporter": "python",
   "pygments_lexer": "ipython3",
   "version": "3.5.2"
  }
 },
 "nbformat": 4,
 "nbformat_minor": 2
}
