{
 "cells": [
  {
   "cell_type": "markdown",
   "metadata": {},
   "source": [
    "<h1 style=\"display: inline-block;\"> O que fazer com <br> extensões? </h1> <h4 style=\"display: inline-block; float: right;\"> 8- FuncionalidadesIPython.ipynb </h4>\n",
    "\n",
    "\n",
    "```python\n",
    "def load_ipython_extension(ipython: \"InteractiveShell\"):\n",
    "```\n",
    "\n",
    "* Registrar Magics\n",
    "* Registrar Callbacks"
   ]
  },
  {
   "cell_type": "code",
   "execution_count": null,
   "metadata": {
    "collapsed": true
   },
   "outputs": [],
   "source": [
    "ipython = get_ipython()"
   ]
  },
  {
   "cell_type": "markdown",
   "metadata": {},
   "source": [
    "### Registrando Magics"
   ]
  },
  {
   "cell_type": "code",
   "execution_count": null,
   "metadata": {
    "collapsed": true
   },
   "outputs": [],
   "source": [
    "def ospath(line):\n",
    "    from os import path\n",
    "    return getattr(path, line) if line else path\n",
    "\n",
    "ipython.register_magic_function(ospath, magic_kind='line')"
   ]
  },
  {
   "cell_type": "code",
   "execution_count": null,
   "metadata": {
    "collapsed": false
   },
   "outputs": [],
   "source": [
    "# from os.path import join\n",
    "funcao = \"join\"\n",
    "join = %ospath {funcao}\n",
    "join(\"a\", \"b\")"
   ]
  },
  {
   "cell_type": "code",
   "execution_count": null,
   "metadata": {
    "collapsed": true
   },
   "outputs": [],
   "source": [
    "from IPython.core.magic import Magics, magics_class, line_magic, cell_magic, line_cell_magic\n",
    "from IPython.core.magic_arguments import argument, magic_arguments, parse_argstring\n",
    "from IPython.display import Javascript, display\n",
    "\n",
    "@magics_class\n",
    "class Magicas(Magics):\n",
    "    @magic_arguments()\n",
    "    @argument('-b', '--backward', default=-1, type=int, help=\"set cursor to P cells before\")\n",
    "    @argument('-f', '--forward', default=-1, type=int, help=\"set cursor to P cells after\")\n",
    "    @line_magic\n",
    "    def move(self, line):\n",
    "        args = parse_argstring(self.move, line)\n",
    "        if args.forward != -1:\n",
    "            args.backward = -args.forward\n",
    "        if args.backward != -1:\n",
    "            display(Javascript(\n",
    "                \"Jupyter.notebook.select(\"\n",
    "                \"Jupyter.notebook.get_selected_index() - {})\"\n",
    "                .format(args.backward + 1)\n",
    "            ))\n",
    "    \n",
    "    @line_cell_magic\n",
    "    def decorar(self, line, cell=None):\n",
    "        decorador = line.split(\" \")[0]\n",
    "        if cell is None:\n",
    "            funcao = line.split(\" \")[-1]\n",
    "            self.shell.user_ns[funcao] = self.shell.user_ns[decorador](self.shell.user_ns[funcao])\n",
    "        else:\n",
    "            tree = ast.parse(cell)\n",
    "            tree = TransformarDefinicoes(decorador).visit(tree)\n",
    "            compiled = compile(tree, 'Cell Tests', 'exec')\n",
    "            exec(compiled, self.shell.user_global_ns, self.shell.user_ns)"
   ]
  },
  {
   "cell_type": "code",
   "execution_count": null,
   "metadata": {
    "collapsed": true
   },
   "outputs": [],
   "source": [
    "import ast\n",
    "class TransformarDefinicoes(ast.NodeTransformer):\n",
    "    def __init__(self, decorador):\n",
    "        self.decorador = decorador\n",
    "    def visit_FunctionDef(self, node):\n",
    "        node.decorator_list.append(ast.copy_location(ast.Name(self.decorador, ast.Load()), node))\n",
    "        return node\n",
    "    \n",
    "\n",
    "ipython.register_magics(Magicas)"
   ]
  },
  {
   "cell_type": "code",
   "execution_count": null,
   "metadata": {
    "collapsed": true
   },
   "outputs": [],
   "source": [
    "from functools import wraps\n",
    "def imprimir_chamadas(f):\n",
    "    @wraps(f)\n",
    "    def dec(*args, **kwargs):\n",
    "        result = f(*args, **kwargs) \n",
    "        print(\"{}(*{}, **{}) = {}\".format(f.__name__, args, kwargs, result))\n",
    "        return result\n",
    "    return dec"
   ]
  },
  {
   "cell_type": "code",
   "execution_count": null,
   "metadata": {
    "collapsed": true
   },
   "outputs": [],
   "source": [
    "%%decorar imprimir_chamadas\n",
    "def soma(x, y):\n",
    "    return x + y\n",
    "\n",
    "def subtracao(x, y):\n",
    "    return x - y\n",
    "\n",
    "def multiplicacao(x, y):\n",
    "    return x * y"
   ]
  },
  {
   "cell_type": "code",
   "execution_count": null,
   "metadata": {
    "collapsed": false
   },
   "outputs": [],
   "source": [
    "soma(1, 2)"
   ]
  },
  {
   "cell_type": "code",
   "execution_count": null,
   "metadata": {
    "collapsed": false
   },
   "outputs": [],
   "source": [
    "subtracao(1, 2)"
   ]
  },
  {
   "cell_type": "code",
   "execution_count": null,
   "metadata": {
    "collapsed": false
   },
   "outputs": [],
   "source": [
    "def divisao(x, y):\n",
    "    return x / y\n",
    "%decorar imprimir_chamadas divisao\n",
    "divisao(10, 5)"
   ]
  },
  {
   "cell_type": "code",
   "execution_count": null,
   "metadata": {
    "collapsed": false
   },
   "outputs": [],
   "source": [
    "%move -b 1"
   ]
  },
  {
   "cell_type": "markdown",
   "metadata": {},
   "source": [
    "#### Bonus 2- imprimindo AST"
   ]
  },
  {
   "cell_type": "code",
   "execution_count": null,
   "metadata": {
    "collapsed": true
   },
   "outputs": [],
   "source": [
    "from grafo import Grafo"
   ]
  },
  {
   "cell_type": "code",
   "execution_count": null,
   "metadata": {
    "collapsed": false
   },
   "outputs": [],
   "source": [
    "from collections import defaultdict\n",
    "\n",
    "class ASTDict(ast.NodeVisitor):\n",
    "    def __init__(self):\n",
    "        self.pai = \"root\"\n",
    "        self.arvore = defaultdict(list)\n",
    "        \n",
    "    def generic_visit(self, node):\n",
    "        pai_velho = self.pai\n",
    "        self.pai = \"{}_{}\".format(type(node).__name__, id(node))\n",
    "        self.arvore[pai_velho].append(self.pai)\n",
    "        ast.NodeVisitor.generic_visit(self, node)\n",
    "        self.pai = pai_velho\n",
    "        \n",
    "def ver_ast(line, cell):\n",
    "    tree = ast.parse(cell)\n",
    "    ast_dict = ASTDict()\n",
    "    ast_dict.visit(tree)\n",
    "    return Grafo(ast_dict.arvore)\n",
    "    \n",
    "ipython.register_magic_function(ver_ast, magic_kind=\"cell\")"
   ]
  },
  {
   "cell_type": "code",
   "execution_count": null,
   "metadata": {
    "collapsed": false
   },
   "outputs": [],
   "source": [
    "%%ver_ast\n",
    "def f(x):\n",
    "    return 2 * x + 5"
   ]
  },
  {
   "cell_type": "markdown",
   "metadata": {},
   "source": [
    "### Registrando callbacks"
   ]
  },
  {
   "cell_type": "code",
   "execution_count": null,
   "metadata": {
    "collapsed": false
   },
   "outputs": [],
   "source": [
    "ipython = get_ipython()\n",
    "from datetime import datetime\n",
    "class Timer:\n",
    "    def __init__(self):\n",
    "        self.initial = datetime.now()\n",
    "    def pre_execute(self):\n",
    "        self.initial = datetime.now()\n",
    "    def post_execute(self):\n",
    "        print(datetime.now() - self.initial)\n",
    "timer = Timer()\n",
    "timer.pre_execute()\n",
    "ipython.events.register(\"pre_run_cell\", timer.pre_execute)\n",
    "ipython.events.register(\"post_run_cell\", timer.post_execute)"
   ]
  },
  {
   "cell_type": "code",
   "execution_count": null,
   "metadata": {
    "collapsed": false
   },
   "outputs": [],
   "source": [
    "from time import sleep\n",
    "sleep(0.5)"
   ]
  },
  {
   "cell_type": "markdown",
   "metadata": {},
   "source": [
    "\n",
    "https://github.com/JoaoFelipe/presentations/20161210_PythonRio  \n",
    "\n",
    "<span style=\"font-size:1.5em;\" id=\"slidepagination\"> [<(7) Extensão IPython](ExtensaoIPython.ipynb) (8) [Extensão Front-end (9)>](nbextension.ipynb) </span>\n",
    "&nbsp;\n"
   ]
  },
  {
   "cell_type": "code",
   "execution_count": 1,
   "metadata": {
    "collapsed": false
   },
   "outputs": [
    {
     "data": {
      "application/javascript": [
       "\n",
       "        $(\"#floatingbottom\").remove();\n",
       "    "
      ],
      "text/plain": [
       "<IPython.core.display.Javascript object>"
      ]
     },
     "metadata": {},
     "output_type": "display_data"
    },
    {
     "data": {
      "application/javascript": [
       "\n",
       "        $(\"body\").css(\"position\", \"relative\");\n",
       "        $(\"body\").append('<div id=\"floatingbottom\"><div id=\"floatinginternal\">Teste</div></div>');\n",
       "\n",
       "        $(\"#floatingbottom\").css(\"position\", \"absolute\");\n",
       "        $(\"#floatingbottom\").css(\"bottom\", \"0\");\n",
       "        $(\"#floatinginternal\").html($(\"#slidepagination\").parent().parent().html());\n",
       "        $(\"#floatinginternal\").css(\"background-color\", \"white\");\n",
       "        $(\"#floatinginternal\").css(\"margin\", \"auto\");\n",
       "        $(\"#floatinginternal\").css(\"width\", \"70%\");\n",
       "        $(\"#floatinginternal\").css(\"padding\", \"2px 5px\");\n",
       "        $(\"#floatinginternal\").css(\"border-radius\", \"15px 15px 0 0\");\n",
       "        $(\"#floatinginternal\").css(\"border\", \"1px solid black\");\n",
       "        $(\"#floatinginternal\").css(\"z-index\", \"1000\");\n",
       "        $(\"#floatingbottom\").css(\"margin\", \"0\");\n",
       "        $(\"#floatingbottom\").css(\"width\", \"100%\");\n",
       "        $(\"#floatingbottom\").css(\"text-align\", \"center\");\n",
       "\n",
       "        $(\"#floatingbottom\").css(\"z-index\", \"1000\");\n",
       "    "
      ],
      "text/plain": [
       "<IPython.core.display.Javascript object>"
      ]
     },
     "metadata": {},
     "output_type": "display_data"
    }
   ],
   "source": [
    "import pagination"
   ]
  },
  {
   "cell_type": "code",
   "execution_count": null,
   "metadata": {
    "collapsed": true
   },
   "outputs": [],
   "source": []
  }
 ],
 "metadata": {
  "anaconda-cloud": {},
  "kernelspec": {
   "display_name": "Python [default]",
   "language": "python",
   "name": "python3"
  },
  "language_info": {
   "codemirror_mode": {
    "name": "ipython",
    "version": 3
   },
   "file_extension": ".py",
   "mimetype": "text/x-python",
   "name": "python",
   "nbconvert_exporter": "python",
   "pygments_lexer": "ipython3",
   "version": "3.5.2"
  }
 },
 "nbformat": 4,
 "nbformat_minor": 0
}
