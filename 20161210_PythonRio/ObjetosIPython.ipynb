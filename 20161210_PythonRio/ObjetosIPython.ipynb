{
 "cells": [
  {
   "cell_type": "markdown",
   "metadata": {},
   "source": [
    "<h1 style=\"display: inline-block;\"> Integração de Objetos <br> com IPython </h1> <h4 style=\"display: inline-block; float: right;\"> 6- ObjetosIPython.ipynb </h4>\n",
    "* Visualização\n",
    "  * svg, png, jpeg, html, javascript, latex\n",
    "* Opções de Autocompletar\n",
    "---\n",
    "* Traceback de exceções"
   ]
  },
  {
   "cell_type": "markdown",
   "metadata": {},
   "source": [
    "### Visualização\n",
    "\n",
    "* Defina um método ```_repr_*_(self)```\n",
    "  * svg, png, jpeg, html, javascript, latex"
   ]
  },
  {
   "cell_type": "code",
   "execution_count": 1,
   "metadata": {
    "collapsed": false
   },
   "outputs": [
    {
     "data": {
      "text/latex": [
       "$$\\sqrt{25}$$"
      ],
      "text/plain": [
       "<__main__.Raiz at 0x7fb47c3e0f28>"
      ]
     },
     "execution_count": 1,
     "metadata": {},
     "output_type": "execute_result"
    }
   ],
   "source": [
    "class Raiz:\n",
    "    def __init__(self, numero):\n",
    "        self.numero = numero\n",
    "    \n",
    "    def formula(self):\n",
    "        text = self.numero\n",
    "        if hasattr(self.numero, \"formula\"):\n",
    "            text = self.numero.formula()\n",
    "        return \"\\sqrt{%s}\" % (text,)\n",
    "    \n",
    "    def _repr_latex_(self):\n",
    "        return \"$${}$$\".format(self.formula())\n",
    "    \n",
    "Raiz(25)"
   ]
  },
  {
   "cell_type": "code",
   "execution_count": 2,
   "metadata": {
    "collapsed": false
   },
   "outputs": [
    {
     "data": {
      "text/latex": [
       "$$\\sqrt{\\sqrt{25}}$$"
      ],
      "text/plain": [
       "<__main__.Raiz at 0x7fb47c4850f0>"
      ]
     },
     "execution_count": 2,
     "metadata": {},
     "output_type": "execute_result"
    }
   ],
   "source": [
    "Raiz(Raiz(25))"
   ]
  },
  {
   "cell_type": "code",
   "execution_count": 3,
   "metadata": {
    "collapsed": true
   },
   "outputs": [],
   "source": [
    "import os\n",
    "from subprocess import Popen, PIPE as P\n",
    "\n",
    "class Grafo:\n",
    "    def __init__(self, adjacentes):\n",
    "        self.adjacentes = adjacentes\n",
    "    \n",
    "    def dottext(self):\n",
    "        result = [\n",
    "            \"  {} -> {};\".format(no, adjacente)\n",
    "            for no, lista in self.adjacentes.items()\n",
    "            for adjacente in lista\n",
    "        ]\n",
    "        return \"digraph G {{\\n  ranksep=0.25;\\n{}\\n}}\".format(\"\\n\".join(result))\n",
    "\n",
    "    def dot(self, format=\"png\"):  # ToDo: Tratar erro\n",
    "        kwargs = {} if os.name != 'nt' else {\"creationflags\": 0x08000000}\n",
    "        p = Popen(['dot', '-T', format], stdout=P, stdin=P, stderr=P, **kwargs)\n",
    "        return p.communicate(self.dottext().encode('utf-8'))[0]\n",
    "    \n",
    "    def __repr__(self):\n",
    "        return self.dottext()\n",
    "    \n",
    "    def _repr_svg_(self):\n",
    "        return self.dot(\"svg\").decode(\"utf-8\")\n",
    "    \n",
    "    def _repr_png_(self):\n",
    "        return self.dot(\"png\")\n",
    "    \n",
    "\n",
    "texto_desta_celula = \"\\n\".join(In[-1].split(\"\\n\")[:-1])"
   ]
  },
  {
   "cell_type": "code",
   "execution_count": 4,
   "metadata": {
    "collapsed": false
   },
   "outputs": [
    {
     "data": {
      "image/png": "[encoded data removed]",
      "image/svg+xml": [
       "<?xml version=\"1.0\" encoding=\"UTF-8\" standalone=\"no\"?>\n",
       "<!DOCTYPE svg PUBLIC \"-//W3C//DTD SVG 1.1//EN\"\n",
       " \"http://www.w3.org/Graphics/SVG/1.1/DTD/svg11.dtd\">\n",
       "<!-- Generated by graphviz version 2.38.0 (20140413.2041)\n",
       " -->\n",
       "<!-- Title: G Pages: 1 -->\n",
       "<svg width=\"134pt\" height=\"152pt\"\n",
       " viewBox=\"0.00 0.00 134.00 152.00\" xmlns=\"http://www.w3.org/2000/svg\" xmlns:xlink=\"http://www.w3.org/1999/xlink\">\n",
       "<g id=\"graph0\" class=\"graph\" transform=\"scale(1 1) rotate(0) translate(4 148)\">\n",
       "<title>G</title>\n",
       "<polygon fill=\"white\" stroke=\"none\" points=\"-4,4 -4,-148 130,-148 130,4 -4,4\"/>\n",
       "<!-- c -->\n",
       "<g id=\"node1\" class=\"node\"><title>c</title>\n",
       "<ellipse fill=\"none\" stroke=\"black\" cx=\"27\" cy=\"-72\" rx=\"27\" ry=\"18\"/>\n",
       "<text text-anchor=\"middle\" x=\"27\" y=\"-68.3\" font-family=\"Times,serif\" font-size=\"14.00\">c</text>\n",
       "</g>\n",
       "<!-- d -->\n",
       "<g id=\"node2\" class=\"node\"><title>d</title>\n",
       "<ellipse fill=\"none\" stroke=\"black\" cx=\"63\" cy=\"-18\" rx=\"27\" ry=\"18\"/>\n",
       "<text text-anchor=\"middle\" x=\"63\" y=\"-14.3\" font-family=\"Times,serif\" font-size=\"14.00\">d</text>\n",
       "</g>\n",
       "<!-- c&#45;&gt;d -->\n",
       "<g id=\"edge1\" class=\"edge\"><title>c&#45;&gt;d</title>\n",
       "<path fill=\"none\" stroke=\"black\" d=\"M37.8012,-55.3983C40.5066,-51.4905 43.4717,-47.2076 46.3879,-42.9952\"/>\n",
       "<polygon fill=\"black\" stroke=\"black\" points=\"49.392,-44.8049 52.2064,-34.5907 43.6366,-40.8204 49.392,-44.8049\"/>\n",
       "</g>\n",
       "<!-- a -->\n",
       "<g id=\"node3\" class=\"node\"><title>a</title>\n",
       "<ellipse fill=\"none\" stroke=\"black\" cx=\"63\" cy=\"-126\" rx=\"27\" ry=\"18\"/>\n",
       "<text text-anchor=\"middle\" x=\"63\" y=\"-122.3\" font-family=\"Times,serif\" font-size=\"14.00\">a</text>\n",
       "</g>\n",
       "<!-- a&#45;&gt;c -->\n",
       "<g id=\"edge3\" class=\"edge\"><title>a&#45;&gt;c</title>\n",
       "<path fill=\"none\" stroke=\"black\" d=\"M52.1988,-109.398C49.4934,-105.491 46.5283,-101.208 43.6121,-96.9952\"/>\n",
       "<polygon fill=\"black\" stroke=\"black\" points=\"46.3634,-94.8204 37.7936,-88.5907 40.608,-98.8049 46.3634,-94.8204\"/>\n",
       "</g>\n",
       "<!-- b -->\n",
       "<g id=\"node4\" class=\"node\"><title>b</title>\n",
       "<ellipse fill=\"none\" stroke=\"black\" cx=\"99\" cy=\"-72\" rx=\"27\" ry=\"18\"/>\n",
       "<text text-anchor=\"middle\" x=\"99\" y=\"-68.3\" font-family=\"Times,serif\" font-size=\"14.00\">b</text>\n",
       "</g>\n",
       "<!-- a&#45;&gt;b -->\n",
       "<g id=\"edge2\" class=\"edge\"><title>a&#45;&gt;b</title>\n",
       "<path fill=\"none\" stroke=\"black\" d=\"M73.8012,-109.398C76.5066,-105.491 79.4717,-101.208 82.3879,-96.9952\"/>\n",
       "<polygon fill=\"black\" stroke=\"black\" points=\"85.392,-98.8049 88.2064,-88.5907 79.6366,-94.8204 85.392,-98.8049\"/>\n",
       "</g>\n",
       "<!-- b&#45;&gt;d -->\n",
       "<g id=\"edge4\" class=\"edge\"><title>b&#45;&gt;d</title>\n",
       "<path fill=\"none\" stroke=\"black\" d=\"M88.1988,-55.3983C85.4934,-51.4905 82.5283,-47.2076 79.6121,-42.9952\"/>\n",
       "<polygon fill=\"black\" stroke=\"black\" points=\"82.3634,-40.8204 73.7936,-34.5907 76.608,-44.8049 82.3634,-40.8204\"/>\n",
       "</g>\n",
       "</g>\n",
       "</svg>\n"
      ],
      "text/plain": [
       "digraph G {\n",
       "  ranksep=0.25;\n",
       "  c -> d;\n",
       "  a -> b;\n",
       "  a -> c;\n",
       "  b -> d;\n",
       "}"
      ]
     },
     "execution_count": 4,
     "metadata": {},
     "output_type": "execute_result"
    }
   ],
   "source": [
    "grafo = Grafo({\"a\": [\"b\", \"c\"], \"b\": [\"d\"], \"c\": [\"d\"]})\n",
    "grafo"
   ]
  },
  {
   "cell_type": "code",
   "execution_count": 5,
   "metadata": {
    "collapsed": false
   },
   "outputs": [
    {
     "data": {
      "image/png": "[encoded data removed]"
     },
     "metadata": {},
     "output_type": "display_data"
    }
   ],
   "source": [
    "from IPython.display import display_png\n",
    "display_png(grafo)"
   ]
  },
  {
   "cell_type": "code",
   "execution_count": 6,
   "metadata": {
    "collapsed": false
   },
   "outputs": [
    {
     "data": {
      "text/plain": [
       "digraph G {\n",
       "  ranksep=0.25;\n",
       "  c -> d;\n",
       "  a -> b;\n",
       "  a -> c;\n",
       "  b -> d;\n",
       "}"
      ]
     },
     "metadata": {},
     "output_type": "display_data"
    }
   ],
   "source": [
    "from IPython.display import display_pretty\n",
    "display_pretty(grafo)"
   ]
  },
  {
   "cell_type": "markdown",
   "metadata": {},
   "source": [
    "#### Bonus 1 - imprimindo execução"
   ]
  },
  {
   "cell_type": "code",
   "execution_count": 7,
   "metadata": {
    "collapsed": true
   },
   "outputs": [],
   "source": [
    "from collections import defaultdict\n",
    "class GrafoExecucao(Grafo):\n",
    "    \n",
    "    def __init__(self, func):\n",
    "        self.func = func\n",
    "        self.adjacentes = defaultdict(list)\n",
    "        self.pai = \"root\"\n",
    "    \n",
    "    def __call__(self, *args, **kwargs):\n",
    "        if \"reset\" not in kwargs or kwargs[\"reset\"]:\n",
    "            self.adjacentes = defaultdict(list) \n",
    "        pai_velho = self.pai\n",
    "        nome = \"{}_{}\".format(self.func.__name__, \"_\".join(map(str, args)))\n",
    "        self.pai = nome\n",
    "        self.adjacentes[pai_velho].append(nome)\n",
    "        resultado = self.func(*args, **kwargs)\n",
    "        self.pai = pai_velho\n",
    "        return resultado"
   ]
  },
  {
   "cell_type": "code",
   "execution_count": 8,
   "metadata": {
    "collapsed": false
   },
   "outputs": [],
   "source": [
    "@GrafoExecucao\n",
    "def fib(n, reset=True):\n",
    "    if n <= 1:\n",
    "        return n\n",
    "    return fib(n - 1, reset=False) + fib(n - 2, reset=False)"
   ]
  },
  {
   "cell_type": "code",
   "execution_count": 9,
   "metadata": {
    "collapsed": false
   },
   "outputs": [
    {
     "data": {
      "text/plain": [
       "8"
      ]
     },
     "execution_count": 9,
     "metadata": {},
     "output_type": "execute_result"
    }
   ],
   "source": [
    "fib(6)"
   ]
  },
  {
   "cell_type": "code",
   "execution_count": 10,
   "metadata": {
    "collapsed": false
   },
   "outputs": [
    {
     "data": {
      "image/png": "[encoded data removed]",
      "image/svg+xml": [
       "<?xml version=\"1.0\" encoding=\"UTF-8\" standalone=\"no\"?>\n",
       "<!DOCTYPE svg PUBLIC \"-//W3C//DTD SVG 1.1//EN\"\n",
       " \"http://www.w3.org/Graphics/SVG/1.1/DTD/svg11.dtd\">\n",
       "<!-- Generated by graphviz version 2.38.0 (20140413.2041)\n",
       " -->\n",
       "<!-- Title: G Pages: 1 -->\n",
       "<svg width=\"142pt\" height=\"368pt\"\n",
       " viewBox=\"0.00 0.00 142.49 368.00\" xmlns=\"http://www.w3.org/2000/svg\" xmlns:xlink=\"http://www.w3.org/1999/xlink\">\n",
       "<g id=\"graph0\" class=\"graph\" transform=\"scale(1 1) rotate(0) translate(4 364)\">\n",
       "<title>G</title>\n",
       "<polygon fill=\"white\" stroke=\"none\" points=\"-4,4 -4,-364 138.495,-364 138.495,4 -4,4\"/>\n",
       "<!-- fib_4 -->\n",
       "<g id=\"node1\" class=\"node\"><title>fib_4</title>\n",
       "<ellipse fill=\"none\" stroke=\"black\" cx=\"95.2474\" cy=\"-180\" rx=\"29.4969\" ry=\"18\"/>\n",
       "<text text-anchor=\"middle\" x=\"95.2474\" y=\"-176.3\" font-family=\"Times,serif\" font-size=\"14.00\">fib_4</text>\n",
       "</g>\n",
       "<!-- fib_3 -->\n",
       "<g id=\"node2\" class=\"node\"><title>fib_3</title>\n",
       "<ellipse fill=\"none\" stroke=\"black\" cx=\"38.2474\" cy=\"-126\" rx=\"29.4969\" ry=\"18\"/>\n",
       "<text text-anchor=\"middle\" x=\"38.2474\" y=\"-122.3\" font-family=\"Times,serif\" font-size=\"14.00\">fib_3</text>\n",
       "</g>\n",
       "<!-- fib_4&#45;&gt;fib_3 -->\n",
       "<g id=\"edge1\" class=\"edge\"><title>fib_4&#45;&gt;fib_3</title>\n",
       "<path fill=\"none\" stroke=\"black\" d=\"M75.5711,-166.412C69.3913,-161.425 62.6542,-155.53 56.5785,-149.84\"/>\n",
       "<polygon fill=\"black\" stroke=\"black\" points=\"58.9489,-147.264 49.3279,-142.827 54.0821,-152.295 58.9489,-147.264\"/>\n",
       "</g>\n",
       "<!-- fib_4&#45;&gt;fib_3 -->\n",
       "<g id=\"edge3\" class=\"edge\"><title>fib_4&#45;&gt;fib_3</title>\n",
       "<path fill=\"none\" stroke=\"black\" d=\"M84.1095,-163.116C78.832,-157.824 72.3968,-151.869 66.0011,-146.344\"/>\n",
       "<polygon fill=\"black\" stroke=\"black\" points=\"67.9264,-143.392 58.0111,-139.658 63.4342,-148.76 67.9264,-143.392\"/>\n",
       "</g>\n",
       "<!-- fib_2 -->\n",
       "<g id=\"node3\" class=\"node\"><title>fib_2</title>\n",
       "<ellipse fill=\"none\" stroke=\"black\" cx=\"104.247\" cy=\"-72\" rx=\"29.4969\" ry=\"18\"/>\n",
       "<text text-anchor=\"middle\" x=\"104.247\" y=\"-68.3\" font-family=\"Times,serif\" font-size=\"14.00\">fib_2</text>\n",
       "</g>\n",
       "<!-- fib_4&#45;&gt;fib_2 -->\n",
       "<g id=\"edge2\" class=\"edge\"><title>fib_4&#45;&gt;fib_2</title>\n",
       "<path fill=\"none\" stroke=\"black\" d=\"M91.5786,-161.969C91.1523,-145.18 93.0729,-119.274 96.0254,-99.7385\"/>\n",
       "<polygon fill=\"black\" stroke=\"black\" points=\"99.5167,-100.088 97.7635,-89.639 92.6181,-98.9005 99.5167,-100.088\"/>\n",
       "</g>\n",
       "<!-- fib_4&#45;&gt;fib_2 -->\n",
       "<g id=\"edge4\" class=\"edge\"><title>fib_4&#45;&gt;fib_2</title>\n",
       "<path fill=\"none\" stroke=\"black\" d=\"M101.716,-162.438C105.006,-145.832 107.51,-119.976 107.917,-100.328\"/>\n",
       "<polygon fill=\"black\" stroke=\"black\" points=\"111.417,-100.149 107.919,-90.1485 104.417,-100.148 111.417,-100.149\"/>\n",
       "</g>\n",
       "<!-- fib_3&#45;&gt;fib_2 -->\n",
       "<g id=\"edge20\" class=\"edge\"><title>fib_3&#45;&gt;fib_2</title>\n",
       "<path fill=\"none\" stroke=\"black\" d=\"M46.474,-108.547C53.4418,-102.123 62.806,-94.7954 72.1502,-88.4692\"/>\n",
       "<polygon fill=\"black\" stroke=\"black\" points=\"74.1412,-91.35 80.6565,-82.9953 70.3532,-85.4635 74.1412,-91.35\"/>\n",
       "</g>\n",
       "<!-- fib_3&#45;&gt;fib_2 -->\n",
       "<g id=\"edge22\" class=\"edge\"><title>fib_3&#45;&gt;fib_2</title>\n",
       "<path fill=\"none\" stroke=\"black\" d=\"M55.5881,-111.338C62.6562,-105.769 70.9719,-99.2171 78.7099,-93.1205\"/>\n",
       "<polygon fill=\"black\" stroke=\"black\" points=\"81.1045,-95.6897 86.7933,-86.7517 76.7723,-90.1912 81.1045,-95.6897\"/>\n",
       "</g>\n",
       "<!-- fib_3&#45;&gt;fib_2 -->\n",
       "<g id=\"edge24\" class=\"edge\"><title>fib_3&#45;&gt;fib_2</title>\n",
       "<path fill=\"none\" stroke=\"black\" d=\"M61.8889,-114.974C70.6744,-109.629 80.1628,-102.814 88.1852,-96.2379\"/>\n",
       "<polygon fill=\"black\" stroke=\"black\" points=\"90.6515,-98.7323 95.9239,-89.5424 86.0714,-93.4386 90.6515,-98.7323\"/>\n",
       "</g>\n",
       "<!-- fib_1 -->\n",
       "<g id=\"node7\" class=\"node\"><title>fib_1</title>\n",
       "<ellipse fill=\"none\" stroke=\"black\" cx=\"29.2474\" cy=\"-18\" rx=\"29.4969\" ry=\"18\"/>\n",
       "<text text-anchor=\"middle\" x=\"29.2474\" y=\"-14.3\" font-family=\"Times,serif\" font-size=\"14.00\">fib_1</text>\n",
       "</g>\n",
       "<!-- fib_3&#45;&gt;fib_1 -->\n",
       "<g id=\"edge21\" class=\"edge\"><title>fib_3&#45;&gt;fib_1</title>\n",
       "<path fill=\"none\" stroke=\"black\" d=\"M27.0087,-109.359C21.5772,-92.5667 18.6341,-65.5933 19.6266,-45.4821\"/>\n",
       "<polygon fill=\"black\" stroke=\"black\" points=\"23.123,-45.6807 20.5514,-35.4027 16.1523,-45.041 23.123,-45.6807\"/>\n",
       "</g>\n",
       "<!-- fib_3&#45;&gt;fib_1 -->\n",
       "<g id=\"edge23\" class=\"edge\"><title>fib_3&#45;&gt;fib_1</title>\n",
       "<path fill=\"none\" stroke=\"black\" d=\"M36.8014,-107.969C35.3843,-91.2793 33.2022,-65.5788 31.547,-46.0839\"/>\n",
       "<polygon fill=\"black\" stroke=\"black\" points=\"35.0234,-45.6565 30.6898,-35.9885 28.0485,-46.2488 35.0234,-45.6565\"/>\n",
       "</g>\n",
       "<!-- fib_3&#45;&gt;fib_1 -->\n",
       "<g id=\"edge25\" class=\"edge\"><title>fib_3&#45;&gt;fib_1</title>\n",
       "<path fill=\"none\" stroke=\"black\" d=\"M46.9662,-108.438C49.3828,-91.36 47.6465,-64.5 43.1845,-44.6686\"/>\n",
       "<polygon fill=\"black\" stroke=\"black\" points=\"46.4962,-43.5053 40.523,-34.7548 39.7356,-45.3203 46.4962,-43.5053\"/>\n",
       "</g>\n",
       "<!-- fib_2&#45;&gt;fib_1 -->\n",
       "<g id=\"edge8\" class=\"edge\"><title>fib_2&#45;&gt;fib_1</title>\n",
       "<path fill=\"none\" stroke=\"black\" d=\"M77.1313,-64.8307C62.7115,-59.3114 47.6212,-50.8568 36.5315,-42.7054\"/>\n",
       "<polygon fill=\"black\" stroke=\"black\" points=\"38.5655,-39.8493 28.5847,-36.2949 34.1705,-45.2977 38.5655,-39.8493\"/>\n",
       "</g>\n",
       "<!-- fib_2&#45;&gt;fib_1 -->\n",
       "<g id=\"edge10\" class=\"edge\"><title>fib_2&#45;&gt;fib_1</title>\n",
       "<path fill=\"none\" stroke=\"black\" d=\"M80.2072,-61.7034C69.6043,-55.9645 57.6998,-48.3426 47.7963,-41.1276\"/>\n",
       "<polygon fill=\"black\" stroke=\"black\" points=\"49.766,-38.2282 39.6912,-34.9496 45.5225,-43.7953 49.766,-38.2282\"/>\n",
       "</g>\n",
       "<!-- fib_2&#45;&gt;fib_1 -->\n",
       "<g id=\"edge12\" class=\"edge\"><title>fib_2&#45;&gt;fib_1</title>\n",
       "<path fill=\"none\" stroke=\"black\" d=\"M85.3217,-57.8782C76.5506,-51.7969 65.9656,-44.458 56.366,-37.8022\"/>\n",
       "<polygon fill=\"black\" stroke=\"black\" points=\"58.1194,-34.759 47.9072,-31.9375 54.131,-40.5116 58.1194,-34.759\"/>\n",
       "</g>\n",
       "<!-- fib_2&#45;&gt;fib_1 -->\n",
       "<g id=\"edge14\" class=\"edge\"><title>fib_2&#45;&gt;fib_1</title>\n",
       "<path fill=\"none\" stroke=\"black\" d=\"M93.8849,-55.1157C85.2623,-48.1869 73.5221,-40.1225 62.2001,-33.3741\"/>\n",
       "<polygon fill=\"black\" stroke=\"black\" points=\"63.6987,-30.1998 53.2773,-28.2909 60.2337,-36.2821 63.6987,-30.1998\"/>\n",
       "</g>\n",
       "<!-- fib_2&#45;&gt;fib_1 -->\n",
       "<g id=\"edge16\" class=\"edge\"><title>fib_2&#45;&gt;fib_1</title>\n",
       "<path fill=\"none\" stroke=\"black\" d=\"M105.206,-53.9733C96.2033,-45.7806 81.244,-36.233 65.8883,-29.1854\"/>\n",
       "<polygon fill=\"black\" stroke=\"black\" points=\"66.9001,-25.8137 56.3257,-25.1548 64.1812,-32.2642 66.9001,-25.8137\"/>\n",
       "</g>\n",
       "<!-- fib_0 -->\n",
       "<g id=\"node8\" class=\"node\"><title>fib_0</title>\n",
       "<ellipse fill=\"none\" stroke=\"black\" cx=\"105.247\" cy=\"-18\" rx=\"29.4969\" ry=\"18\"/>\n",
       "<text text-anchor=\"middle\" x=\"105.247\" y=\"-14.3\" font-family=\"Times,serif\" font-size=\"14.00\">fib_0</text>\n",
       "</g>\n",
       "<!-- fib_2&#45;&gt;fib_0 -->\n",
       "<g id=\"edge9\" class=\"edge\"><title>fib_2&#45;&gt;fib_0</title>\n",
       "<path fill=\"none\" stroke=\"black\" d=\"M82.0837,-60.2256C77.9562,-54.09 76.7825,-46.2078 78.5166,-38.9818\"/>\n",
       "<polygon fill=\"black\" stroke=\"black\" points=\"81.7548,-40.3151 82.6791,-29.7606 75.3747,-37.435 81.7548,-40.3151\"/>\n",
       "</g>\n",
       "<!-- fib_2&#45;&gt;fib_0 -->\n",
       "<g id=\"edge11\" class=\"edge\"><title>fib_2&#45;&gt;fib_0</title>\n",
       "<path fill=\"none\" stroke=\"black\" d=\"M92.0568,-55.3983C91.4163,-51.943 91.1528,-48.1944 91.2604,-44.4606\"/>\n",
       "<polygon fill=\"black\" stroke=\"black\" points=\"94.7714,-44.5902 92.541,-34.2328 87.8256,-43.7205 94.7714,-44.5902\"/>\n",
       "</g>\n",
       "<!-- fib_2&#45;&gt;fib_0 -->\n",
       "<g id=\"edge13\" class=\"edge\"><title>fib_2&#45;&gt;fib_0</title>\n",
       "<path fill=\"none\" stroke=\"black\" d=\"M104.575,-53.9733C104.623,-51.4852 104.673,-48.8722 104.724,-46.2421\"/>\n",
       "<polygon fill=\"black\" stroke=\"black\" points=\"108.223,-46.3085 104.916,-36.243 101.224,-46.1738 108.223,-46.3085\"/>\n",
       "</g>\n",
       "<!-- fib_2&#45;&gt;fib_0 -->\n",
       "<g id=\"edge15\" class=\"edge\"><title>fib_2&#45;&gt;fib_0</title>\n",
       "<path fill=\"none\" stroke=\"black\" d=\"M116.974,-55.6795C117.796,-52.1145 118.226,-48.2252 118.256,-44.355\"/>\n",
       "<polygon fill=\"black\" stroke=\"black\" points=\"121.743,-44.0536 117.398,-34.3907 114.769,-44.654 121.743,-44.0536\"/>\n",
       "</g>\n",
       "<!-- fib_2&#45;&gt;fib_0 -->\n",
       "<g id=\"edge17\" class=\"edge\"><title>fib_2&#45;&gt;fib_0</title>\n",
       "<path fill=\"none\" stroke=\"black\" d=\"M126.826,-60.2256C131.09,-54.2294 132.597,-46.5652 131.304,-39.4755\"/>\n",
       "<polygon fill=\"black\" stroke=\"black\" points=\"134.377,-37.7352 127.402,-29.7606 127.882,-40.3446 134.377,-37.7352\"/>\n",
       "</g>\n",
       "<!-- fib_5 -->\n",
       "<g id=\"node4\" class=\"node\"><title>fib_5</title>\n",
       "<ellipse fill=\"none\" stroke=\"black\" cx=\"38.2474\" cy=\"-234\" rx=\"29.4969\" ry=\"18\"/>\n",
       "<text text-anchor=\"middle\" x=\"38.2474\" y=\"-230.3\" font-family=\"Times,serif\" font-size=\"14.00\">fib_5</text>\n",
       "</g>\n",
       "<!-- fib_5&#45;&gt;fib_4 -->\n",
       "<g id=\"edge5\" class=\"edge\"><title>fib_5&#45;&gt;fib_4</title>\n",
       "<path fill=\"none\" stroke=\"black\" d=\"M54.1251,-218.515C59.5604,-213.557 65.7632,-207.898 71.6744,-202.505\"/>\n",
       "<polygon fill=\"black\" stroke=\"black\" points=\"74.4261,-204.733 79.4549,-195.407 69.7083,-199.561 74.4261,-204.733\"/>\n",
       "</g>\n",
       "<!-- fib_5&#45;&gt;fib_3 -->\n",
       "<g id=\"edge6\" class=\"edge\"><title>fib_5&#45;&gt;fib_3</title>\n",
       "<path fill=\"none\" stroke=\"black\" d=\"M38.2474,-215.969C38.2474,-199.378 38.2474,-173.883 38.2474,-154.431\"/>\n",
       "<polygon fill=\"black\" stroke=\"black\" points=\"41.7475,-154.341 38.2474,-144.341 34.7475,-154.341 41.7475,-154.341\"/>\n",
       "</g>\n",
       "<!-- root -->\n",
       "<g id=\"node5\" class=\"node\"><title>root</title>\n",
       "<ellipse fill=\"none\" stroke=\"black\" cx=\"66.2474\" cy=\"-342\" rx=\"27\" ry=\"18\"/>\n",
       "<text text-anchor=\"middle\" x=\"66.2474\" y=\"-338.3\" font-family=\"Times,serif\" font-size=\"14.00\">root</text>\n",
       "</g>\n",
       "<!-- fib_6 -->\n",
       "<g id=\"node6\" class=\"node\"><title>fib_6</title>\n",
       "<ellipse fill=\"none\" stroke=\"black\" cx=\"66.2474\" cy=\"-288\" rx=\"29.4969\" ry=\"18\"/>\n",
       "<text text-anchor=\"middle\" x=\"66.2474\" y=\"-284.3\" font-family=\"Times,serif\" font-size=\"14.00\">fib_6</text>\n",
       "</g>\n",
       "<!-- root&#45;&gt;fib_6 -->\n",
       "<g id=\"edge7\" class=\"edge\"><title>root&#45;&gt;fib_6</title>\n",
       "<path fill=\"none\" stroke=\"black\" d=\"M66.2474,-323.973C66.2474,-321.574 66.2474,-319.059 66.2474,-316.524\"/>\n",
       "<polygon fill=\"black\" stroke=\"black\" points=\"69.7475,-316.243 66.2474,-306.243 62.7475,-316.243 69.7475,-316.243\"/>\n",
       "</g>\n",
       "<!-- fib_6&#45;&gt;fib_4 -->\n",
       "<g id=\"edge19\" class=\"edge\"><title>fib_6&#45;&gt;fib_4</title>\n",
       "<path fill=\"none\" stroke=\"black\" d=\"M71.1878,-269.926C72.8192,-264.231 74.6299,-257.847 76.2474,-252 80.2742,-237.444 84.6389,-221.171 88.1683,-207.88\"/>\n",
       "<polygon fill=\"black\" stroke=\"black\" points=\"91.6213,-208.512 90.7973,-197.95 84.8545,-206.721 91.6213,-208.512\"/>\n",
       "</g>\n",
       "<!-- fib_6&#45;&gt;fib_5 -->\n",
       "<g id=\"edge18\" class=\"edge\"><title>fib_6&#45;&gt;fib_5</title>\n",
       "<path fill=\"none\" stroke=\"black\" d=\"M57.388,-270.547C55.6517,-267.322 53.7928,-263.87 51.9411,-260.431\"/>\n",
       "<polygon fill=\"black\" stroke=\"black\" points=\"54.968,-258.67 47.1453,-251.525 48.8046,-261.989 54.968,-258.67\"/>\n",
       "</g>\n",
       "</g>\n",
       "</svg>\n"
      ],
      "text/plain": [
       "digraph G {\n",
       "  ranksep=0.25;\n",
       "  fib_4 -> fib_3;\n",
       "  fib_4 -> fib_2;\n",
       "  fib_4 -> fib_3;\n",
       "  fib_4 -> fib_2;\n",
       "  fib_5 -> fib_4;\n",
       "  fib_5 -> fib_3;\n",
       "  root -> fib_6;\n",
       "  fib_2 -> fib_1;\n",
       "  fib_2 -> fib_0;\n",
       "  fib_2 -> fib_1;\n",
       "  fib_2 -> fib_0;\n",
       "  fib_2 -> fib_1;\n",
       "  fib_2 -> fib_0;\n",
       "  fib_2 -> fib_1;\n",
       "  fib_2 -> fib_0;\n",
       "  fib_2 -> fib_1;\n",
       "  fib_2 -> fib_0;\n",
       "  fib_6 -> fib_5;\n",
       "  fib_6 -> fib_4;\n",
       "  fib_3 -> fib_2;\n",
       "  fib_3 -> fib_1;\n",
       "  fib_3 -> fib_2;\n",
       "  fib_3 -> fib_1;\n",
       "  fib_3 -> fib_2;\n",
       "  fib_3 -> fib_1;\n",
       "}"
      ]
     },
     "execution_count": 10,
     "metadata": {},
     "output_type": "execute_result"
    }
   ],
   "source": [
    "fib"
   ]
  },
  {
   "cell_type": "code",
   "execution_count": 11,
   "metadata": {
    "collapsed": true
   },
   "outputs": [],
   "source": [
    "with open(\"grafo.py\", \"w\") as file:\n",
    "    file.write(texto_desta_celula)"
   ]
  },
  {
   "cell_type": "markdown",
   "metadata": {},
   "source": [
    "### Autocompletar\n",
    "\n",
    "* IPython usa a função ```dir```: sobrescreva ```__dir__```"
   ]
  },
  {
   "cell_type": "code",
   "execution_count": 12,
   "metadata": {
    "collapsed": true
   },
   "outputs": [],
   "source": [
    "from string import ascii_letters\n",
    "\n",
    "class Alfabeto:\n",
    "    def __getattr__(self, letter):\n",
    "        return ord(letter.lower()) - ord('a') + 1\n",
    "    \n",
    "    def __dir__(self):\n",
    "        return list(ascii_letters)\n",
    "    \n",
    "alfabeto = Alfabeto()"
   ]
  },
  {
   "cell_type": "code",
   "execution_count": 13,
   "metadata": {
    "collapsed": false
   },
   "outputs": [
    {
     "data": {
      "text/plain": [
       "10"
      ]
     },
     "execution_count": 13,
     "metadata": {},
     "output_type": "execute_result"
    }
   ],
   "source": [
    "alfabeto.J"
   ]
  },
  {
   "cell_type": "code",
   "execution_count": null,
   "metadata": {
    "collapsed": false
   },
   "outputs": [],
   "source": [
    "from IPython.display import Image\n",
    "Image(\"autocompletar2.png\")"
   ]
  },
  {
   "cell_type": "markdown",
   "metadata": {},
   "source": [
    "https://github.com/JoaoFelipe/presentations/20161210_PythonRio  \n",
    "\n",
    "<span style=\"font-size:1.5em;\" id=\"slidepagination\"> [<(5) Extensões](Extensoes.ipynb) (6) [Extensão IPython (7)>](ExtensaoIPython.ipynb) </span>\n",
    "&nbsp;\n"
   ]
  },
  {
   "cell_type": "code",
   "execution_count": 1,
   "metadata": {
    "collapsed": false
   },
   "outputs": [
    {
     "data": {
      "application/javascript": [
       "\n",
       "        $(\"#floatingbottom\").remove();\n",
       "    "
      ],
      "text/plain": [
       "<IPython.core.display.Javascript object>"
      ]
     },
     "metadata": {},
     "output_type": "display_data"
    },
    {
     "data": {
      "application/javascript": [
       "\n",
       "        $(\"body\").css(\"position\", \"relative\");\n",
       "        $(\"body\").append('<div id=\"floatingbottom\"><div id=\"floatinginternal\">Teste</div></div>');\n",
       "\n",
       "        $(\"#floatingbottom\").css(\"position\", \"absolute\");\n",
       "        $(\"#floatingbottom\").css(\"bottom\", \"0\");\n",
       "        $(\"#floatinginternal\").html($(\"#slidepagination\").parent().parent().html());\n",
       "        $(\"#floatinginternal\").css(\"background-color\", \"white\");\n",
       "        $(\"#floatinginternal\").css(\"margin\", \"auto\");\n",
       "        $(\"#floatinginternal\").css(\"width\", \"70%\");\n",
       "        $(\"#floatinginternal\").css(\"padding\", \"2px 5px\");\n",
       "        $(\"#floatinginternal\").css(\"border-radius\", \"15px 15px 0 0\");\n",
       "        $(\"#floatinginternal\").css(\"border\", \"1px solid black\");\n",
       "        $(\"#floatinginternal\").css(\"z-index\", \"1000\");\n",
       "        $(\"#floatingbottom\").css(\"margin\", \"0\");\n",
       "        $(\"#floatingbottom\").css(\"width\", \"100%\");\n",
       "        $(\"#floatingbottom\").css(\"text-align\", \"center\");\n",
       "\n",
       "        $(\"#floatingbottom\").css(\"z-index\", \"1000\");\n",
       "    "
      ],
      "text/plain": [
       "<IPython.core.display.Javascript object>"
      ]
     },
     "metadata": {},
     "output_type": "display_data"
    },
    {
     "data": {
      "application/javascript": [
       "\n",
       "$('div#header-container').hide();\n",
       "$('div#maintoolbar').hide();\n"
      ],
      "text/plain": [
       "<IPython.core.display.Javascript object>"
      ]
     },
     "metadata": {},
     "output_type": "display_data"
    }
   ],
   "source": [
    "import pagination"
   ]
  },
  {
   "cell_type": "code",
   "execution_count": null,
   "metadata": {
    "collapsed": true
   },
   "outputs": [],
   "source": []
  }
 ],
 "metadata": {
  "anaconda-cloud": {},
  "kernelspec": {
   "display_name": "Python [default]",
   "language": "python",
   "name": "python3"
  },
  "language_info": {
   "codemirror_mode": {
    "name": "ipython",
    "version": 3
   },
   "file_extension": ".py",
   "mimetype": "text/x-python",
   "name": "python",
   "nbconvert_exporter": "python",
   "pygments_lexer": "ipython3",
   "version": "3.5.2"
  }
 },
 "nbformat": 4,
 "nbformat_minor": 0
}
