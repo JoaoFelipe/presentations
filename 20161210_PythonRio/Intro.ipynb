{
 "cells": [
  {
   "cell_type": "markdown",
   "metadata": {
    "slideshow": {
     "slide_type": "slide"
    }
   },
   "source": [
    "![Como Criar Extensões para o Jupyter Notebook; 1- Intro.ipynb; joaofelipenp@gmail.com](inicial.png \"Como Criar Extensões para o Jupyter Notebook; 1- Intro.ipynb; joaofelipenp@gmail.com\")\n",
    "\n",
    "[João Felipe Nicolaci Pimentel](http://joao.npimentel.net/)  \n",
    "https://github.com/JoaoFelipe/presentations/20161210_PythonRio\n"
   ]
  },
  {
   "cell_type": "markdown",
   "metadata": {},
   "source": [
    "# Atenção!\n",
    "## Faça Backup de seu ipython_config.py antes de executar este notebook\n",
    "## Ele será deletado!"
   ]
  },
  {
   "cell_type": "code",
   "execution_count": null,
   "metadata": {
    "collapsed": false,
    "slideshow": {
     "slide_type": "skip"
    }
   },
   "outputs": [],
   "source": [
    "import os, errno\n",
    "import shutil\n",
    "\n",
    "def rm(func):\n",
    "    try:\n",
    "        func()\n",
    "    except OSError as e:\n",
    "        if e.errno != errno.ENOENT:\n",
    "            raise\n",
    "            \n",
    "remove = lambda filename: rm(lambda: os.remove(filename))\n",
    "rmtree = lambda dirname: rm(lambda: shutil.rmtree(dirname))\n",
    "\n",
    "remove(\"minhaext.py\")\n",
    "remove(os.path.expanduser(os.path.join(\"~\", \".ipython\", \"extensions\", \"minhaext.py\")))\n",
    "remove(os.path.expanduser(os.path.join(\"~\", \".ipython\", \"profile_default\", \"ipython_config.py\")))\n",
    "rmtree(\"ipythonext\")\n",
    "rmtree(\"nbext\")\n",
    "rmtree(os.path.expanduser(os.path.join(\"~\", \".local\", \"share\", \"jupyter\", \"nbextensions\", \"nbext\")))\n",
    "rmtree(os.path.expanduser(os.path.join(\"~\", \"AppData\", \"Roaming\", \"jupyter\", \"nbextensions\", \"nbext\")))\n",
    "\n",
    "import json\n",
    "notebook_config_path =  os.path.expanduser(os.path.join(\"~\", \".jupyter\", \"nbconfig\", \"notebook.json\"))\n",
    "config = json.load(open(notebook_config_path, \"r\"))\n",
    "if 'load_extensions' in config and 'nbext/index' in config['load_extensions']:\n",
    "    del config['load_extensions']['nbext/index']\n",
    "json.dump(config, open(notebook_config_path, \"w\"))"
   ]
  },
  {
   "cell_type": "markdown",
   "metadata": {
    "slideshow": {
     "slide_type": "skip"
    }
   },
   "source": [
    "https://github.com/JoaoFelipe/presentations/20161210_PythonRio  \n",
    "\n",
    "<span id=\"slidepagination\" style=\"font-size:1.5em;\"> (1) [Jupyter Notebook (2)>](JupyterNotebook.ipynb) </span>\n",
    "&nbsp;\n",
    "\n",
    "<div style=\"clear:both\"></div>"
   ]
  },
  {
   "cell_type": "code",
   "execution_count": 1,
   "metadata": {
    "collapsed": false
   },
   "outputs": [
    {
     "data": {
      "application/javascript": [
       "\n",
       "        $(\"#floatingbottom\").remove();\n",
       "    "
      ],
      "text/plain": [
       "<IPython.core.display.Javascript object>"
      ]
     },
     "metadata": {},
     "output_type": "display_data"
    },
    {
     "data": {
      "application/javascript": [
       "\n",
       "        $(\"body\").css(\"position\", \"relative\");\n",
       "        $(\"body\").append('<div id=\"floatingbottom\"><div id=\"floatinginternal\">Teste</div></div>');\n",
       "\n",
       "        $(\"#floatingbottom\").css(\"position\", \"absolute\");\n",
       "        $(\"#floatingbottom\").css(\"bottom\", \"0\");\n",
       "        $(\"#floatinginternal\").html($(\"#slidepagination\").parent().parent().html());\n",
       "        $(\"#floatinginternal\").css(\"background-color\", \"white\");\n",
       "        $(\"#floatinginternal\").css(\"margin\", \"auto\");\n",
       "        $(\"#floatinginternal\").css(\"width\", \"70%\");\n",
       "        $(\"#floatinginternal\").css(\"padding\", \"2px 5px\");\n",
       "        $(\"#floatinginternal\").css(\"border-radius\", \"15px 15px 0 0\");\n",
       "        $(\"#floatinginternal\").css(\"border\", \"1px solid black\");\n",
       "        $(\"#floatinginternal\").css(\"z-index\", \"1000\");\n",
       "        $(\"#floatingbottom\").css(\"margin\", \"0\");\n",
       "        $(\"#floatingbottom\").css(\"width\", \"100%\");\n",
       "        $(\"#floatingbottom\").css(\"text-align\", \"center\");\n",
       "\n",
       "        $(\"#floatingbottom\").css(\"z-index\", \"1000\");\n",
       "    "
      ],
      "text/plain": [
       "<IPython.core.display.Javascript object>"
      ]
     },
     "metadata": {},
     "output_type": "display_data"
    }
   ],
   "source": [
    "import pagination"
   ]
  },
  {
   "cell_type": "code",
   "execution_count": null,
   "metadata": {
    "collapsed": true
   },
   "outputs": [],
   "source": []
  }
 ],
 "metadata": {
  "anaconda-cloud": {},
  "kernelspec": {
   "display_name": "Python [default]",
   "language": "python",
   "name": "python3"
  },
  "language_info": {
   "codemirror_mode": {
    "name": "ipython",
    "version": 3
   },
   "file_extension": ".py",
   "mimetype": "text/x-python",
   "name": "python",
   "nbconvert_exporter": "python",
   "pygments_lexer": "ipython3",
   "version": "3.5.2"
  },
  "toc": {
   "nav_menu": {
    "height": "365px",
    "width": "252px"
   },
   "navigate_menu": true,
   "number_sections": true,
   "sideBar": true,
   "threshold": 4,
   "toc_cell": false,
   "toc_section_display": "block",
   "toc_window_display": false
  }
 },
 "nbformat": 4,
 "nbformat_minor": 0
}
