{
 "cells": [
  {
   "cell_type": "markdown",
   "metadata": {},
   "source": [
    "<h1 style=\"display: inline-block;\"> Extensão IPython </h1> <h4 style=\"display: inline-block; float: right;\"> 7- ExtensaoIPython.ipynb </h4>\n",
    "\n",
    "* Funcionam como módulos\n",
    "* Funcionalidades específicas do IPython\n",
    "  * Magics (Line, Cell)\n",
    "  * Callbacks"
   ]
  },
  {
   "cell_type": "markdown",
   "metadata": {},
   "source": [
    "### Extensão IPython - Módulos\n",
    "\n",
    "#### Arquivo .py local"
   ]
  },
  {
   "cell_type": "code",
   "execution_count": 1,
   "metadata": {
    "collapsed": false
   },
   "outputs": [
    {
     "name": "stdout",
     "output_type": "stream",
     "text": [
      "Writing minhaext.py\n"
     ]
    }
   ],
   "source": [
    "%%writefile minhaext.py\n",
    "def load_ipython_extension(ipython):\n",
    "    print(\"Carregou\")\n",
    "\n",
    "def unload_ipython_extension(ipython):\n",
    "    print(\"Descarregou\")"
   ]
  },
  {
   "cell_type": "code",
   "execution_count": 2,
   "metadata": {
    "collapsed": false
   },
   "outputs": [
    {
     "name": "stdout",
     "output_type": "stream",
     "text": [
      "Carregou\n"
     ]
    }
   ],
   "source": [
    "%load_ext minhaext"
   ]
  },
  {
   "cell_type": "code",
   "execution_count": 3,
   "metadata": {
    "collapsed": false
   },
   "outputs": [
    {
     "name": "stdout",
     "output_type": "stream",
     "text": [
      "Descarregou\n",
      "Carregou\n"
     ]
    }
   ],
   "source": [
    "%reload_ext minhaext"
   ]
  },
  {
   "cell_type": "code",
   "execution_count": 4,
   "metadata": {
    "collapsed": false
   },
   "outputs": [
    {
     "name": "stdout",
     "output_type": "stream",
     "text": [
      "Descarregou\n"
     ]
    }
   ],
   "source": [
    "%unload_ext minhaext"
   ]
  },
  {
   "cell_type": "markdown",
   "metadata": {},
   "source": [
    "#### Arquivo .py em diretório de extensões\n",
    "Módulos também podem ser instalados em ~/.ipython/extensions/"
   ]
  },
  {
   "cell_type": "code",
   "execution_count": 5,
   "metadata": {
    "collapsed": false
   },
   "outputs": [
    {
     "data": {
      "text/plain": [
       "['__pycache__']"
      ]
     },
     "execution_count": 5,
     "metadata": {},
     "output_type": "execute_result"
    }
   ],
   "source": [
    "import os\n",
    "extensions_path = os.path.expanduser(os.path.join(\"~\", \".ipython\", \"extensions\")) \n",
    "os.listdir(extensions_path)"
   ]
  },
  {
   "cell_type": "code",
   "execution_count": 6,
   "metadata": {
    "collapsed": true
   },
   "outputs": [],
   "source": [
    "#%install_ext minhaext.py\n",
    "import os\n",
    "os.rename(\"minhaext.py\", os.path.join(extensions_path, \"minhaext.py\"))"
   ]
  },
  {
   "cell_type": "code",
   "execution_count": 7,
   "metadata": {
    "collapsed": false
   },
   "outputs": [
    {
     "data": {
      "text/plain": [
       "['minhaext.py', '__pycache__']"
      ]
     },
     "execution_count": 7,
     "metadata": {},
     "output_type": "execute_result"
    }
   ],
   "source": [
    "import os\n",
    "os.listdir(os.path.expanduser(os.path.join(\"~\", \".ipython\", \"extensions\")))"
   ]
  },
  {
   "cell_type": "code",
   "execution_count": 8,
   "metadata": {
    "collapsed": false
   },
   "outputs": [
    {
     "name": "stdout",
     "output_type": "stream",
     "text": [
      "Carregou\n"
     ]
    }
   ],
   "source": [
    "%load_ext minhaext"
   ]
  },
  {
   "cell_type": "markdown",
   "metadata": {},
   "source": [
    "#### Pacote Python\n",
    "Criar pacotes Python é melhor do que instalar arquivos .py no diretório de extensões"
   ]
  },
  {
   "cell_type": "code",
   "execution_count": 9,
   "metadata": {
    "collapsed": true
   },
   "outputs": [],
   "source": [
    "import os\n",
    "projects_dir, extension_name = \".\", \"ipythonext\"\n",
    "os.makedirs(os.path.join(projects_dir, extension_name, extension_name))"
   ]
  },
  {
   "cell_type": "code",
   "execution_count": 10,
   "metadata": {
    "collapsed": false
   },
   "outputs": [
    {
     "name": "stdout",
     "output_type": "stream",
     "text": [
      "Writing ./ipythonext/setup.py\n"
     ]
    }
   ],
   "source": [
    "%%writefile {projects_dir}/{extension_name}/setup.py\n",
    "from setuptools import setup, find_packages\n",
    "setup(\n",
    "    name=\"IPython Extension\",\n",
    "    version=\"1.0\",\n",
    "    description=\"How to create IPython Extensions\",\n",
    "    author=\"JF\",\n",
    "    author_email=\"joaofelipenp@gmail.com\",\n",
    "    packages=find_packages(),\n",
    ")"
   ]
  },
  {
   "cell_type": "code",
   "execution_count": 11,
   "metadata": {
    "collapsed": false
   },
   "outputs": [
    {
     "name": "stdout",
     "output_type": "stream",
     "text": [
      "Writing ./ipythonext/ipythonext/__init__.py\n"
     ]
    }
   ],
   "source": [
    "%%writefile {projects_dir}/{extension_name}/{extension_name}/__init__.py\n",
    "def load_ipython_extension(ipython):\n",
    "    print(\"Carregou\")"
   ]
  },
  {
   "cell_type": "code",
   "execution_count": 12,
   "metadata": {
    "collapsed": false
   },
   "outputs": [
    {
     "name": "stdout",
     "output_type": "stream",
     "text": [
      "Obtaining file:///home/joao/projects/presentations/20161210_PythonRio/ipythonext\n",
      "Installing collected packages: IPython-Extension\n",
      "  Found existing installation: IPython-Extension 1.0\n",
      "    Uninstalling IPython-Extension-1.0:\n",
      "      Successfully uninstalled IPython-Extension-1.0\n",
      "  Running setup.py develop for IPython-Extension\n",
      "Successfully installed IPython-Extension\n"
     ]
    }
   ],
   "source": [
    "!pip install -e {projects_dir}/{extension_name}"
   ]
  },
  {
   "cell_type": "code",
   "execution_count": null,
   "metadata": {
    "collapsed": false
   },
   "outputs": [
    {
     "data": {
      "application/javascript": [
       "// Reiniciando Kernel\n",
       "// [*] não vai sumir\n",
       "IPython.notebook.kernel.restart()"
      ],
      "text/plain": [
       "<IPython.core.display.Javascript object>"
      ]
     },
     "metadata": {},
     "output_type": "display_data"
    }
   ],
   "source": [
    "%%javascript\n",
    "// Reiniciando Kernel\n",
    "// [*] não vai sumir\n",
    "IPython.notebook.kernel.restart()"
   ]
  },
  {
   "cell_type": "code",
   "execution_count": 1,
   "metadata": {
    "collapsed": false
   },
   "outputs": [
    {
     "name": "stdout",
     "output_type": "stream",
     "text": [
      "Carregou\n"
     ]
    }
   ],
   "source": [
    "%load_ext ipythonext"
   ]
  },
  {
   "cell_type": "markdown",
   "metadata": {},
   "source": [
    "### Carregando extensões automaticamente\n",
    "Para evitar ```%load_ext```, liste as extensões que serão carregadas no arquivo de configuração"
   ]
  },
  {
   "cell_type": "code",
   "execution_count": 2,
   "metadata": {
    "collapsed": false
   },
   "outputs": [
    {
     "name": "stdout",
     "output_type": "stream",
     "text": [
      "[ProfileCreate] Generating default config file: '/home/joao/.ipython/profile_default/ipython_config.py'\r\n"
     ]
    }
   ],
   "source": [
    "!ipython profile create"
   ]
  },
  {
   "cell_type": "code",
   "execution_count": 3,
   "metadata": {
    "collapsed": true
   },
   "outputs": [],
   "source": [
    "import os\n",
    "profile_path = os.path.expanduser(os.path.join(\"~\", \".ipython\", \"profile_default\", \"ipython_config.py\"))"
   ]
  },
  {
   "cell_type": "code",
   "execution_count": 4,
   "metadata": {
    "collapsed": false
   },
   "outputs": [
    {
     "name": "stdout",
     "output_type": "stream",
     "text": [
      "Appending to /home/joao/.ipython/profile_default/ipython_config.py\n"
     ]
    }
   ],
   "source": [
    "%%writefile -a {profile_path}\n",
    "c.InteractiveShellApp.extensions = [\n",
    "    'minhaext',\n",
    "]"
   ]
  },
  {
   "cell_type": "code",
   "execution_count": 5,
   "metadata": {
    "collapsed": false
   },
   "outputs": [
    {
     "name": "stdout",
     "output_type": "stream",
     "text": [
      "The minhaext extension is not loaded.\n"
     ]
    }
   ],
   "source": [
    "%unload_ext minhaext"
   ]
  },
  {
   "cell_type": "code",
   "execution_count": null,
   "metadata": {
    "collapsed": false
   },
   "outputs": [
    {
     "data": {
      "application/javascript": [
       "// Reiniciando Kernel\n",
       "// [*] não vai sumir\n",
       "IPython.notebook.kernel.restart()"
      ],
      "text/plain": [
       "<IPython.core.display.Javascript object>"
      ]
     },
     "metadata": {},
     "output_type": "display_data"
    }
   ],
   "source": [
    "%%javascript\n",
    "// Reiniciando Kernel\n",
    "// [*] não vai sumir\n",
    "IPython.notebook.kernel.restart()"
   ]
  },
  {
   "cell_type": "code",
   "execution_count": 1,
   "metadata": {
    "collapsed": false
   },
   "outputs": [
    {
     "name": "stdout",
     "output_type": "stream",
     "text": [
      "The minhaext extension is already loaded. To reload it, use:\n",
      "  %reload_ext minhaext\n"
     ]
    }
   ],
   "source": [
    "%load_ext minhaext"
   ]
  },
  {
   "cell_type": "code",
   "execution_count": 2,
   "metadata": {
    "collapsed": false
   },
   "outputs": [
    {
     "name": "stdout",
     "output_type": "stream",
     "text": [
      "Descarregou\n"
     ]
    }
   ],
   "source": [
    "%unload_ext minhaext\n",
    "import os\n",
    "os.remove(os.path.expanduser(os.path.join(\"~\", \".ipython\", \"profile_default\", \"ipython_config.py\")))\n",
    "os.remove(os.path.expanduser(os.path.join(\"~\", \".ipython\", \"extensions\", \"minhaext.py\")))"
   ]
  },
  {
   "cell_type": "markdown",
   "metadata": {},
   "source": [
    "\n",
    "https://github.com/JoaoFelipe/presentations/20161210_PythonRio  \n",
    "\n",
    "<span style=\"font-size:1.5em;\" id=\"slidepagination\"> [<(6) Objetos IPython](ObjetosIPython.ipynb) (7)  [O que fazer com extensões? (8)>](FuncionalidadesIPython.ipynb) </span>\n",
    "&nbsp;\n"
   ]
  },
  {
   "cell_type": "code",
   "execution_count": 1,
   "metadata": {
    "collapsed": false
   },
   "outputs": [
    {
     "data": {
      "application/javascript": [
       "\n",
       "        $(\"#floatingbottom\").remove();\n",
       "    "
      ],
      "text/plain": [
       "<IPython.core.display.Javascript object>"
      ]
     },
     "metadata": {},
     "output_type": "display_data"
    },
    {
     "data": {
      "application/javascript": [
       "\n",
       "        $(\"body\").css(\"position\", \"relative\");\n",
       "        $(\"body\").append('<div id=\"floatingbottom\"><div id=\"floatinginternal\">Teste</div></div>');\n",
       "\n",
       "        $(\"#floatingbottom\").css(\"position\", \"absolute\");\n",
       "        $(\"#floatingbottom\").css(\"bottom\", \"0\");\n",
       "        $(\"#floatinginternal\").html($(\"#slidepagination\").parent().parent().html());\n",
       "        $(\"#floatinginternal\").css(\"background-color\", \"white\");\n",
       "        $(\"#floatinginternal\").css(\"margin\", \"auto\");\n",
       "        $(\"#floatinginternal\").css(\"width\", \"70%\");\n",
       "        $(\"#floatinginternal\").css(\"padding\", \"2px 5px\");\n",
       "        $(\"#floatinginternal\").css(\"border-radius\", \"15px 15px 0 0\");\n",
       "        $(\"#floatinginternal\").css(\"border\", \"1px solid black\");\n",
       "        $(\"#floatinginternal\").css(\"z-index\", \"1000\");\n",
       "        $(\"#floatingbottom\").css(\"margin\", \"0\");\n",
       "        $(\"#floatingbottom\").css(\"width\", \"100%\");\n",
       "        $(\"#floatingbottom\").css(\"text-align\", \"center\");\n",
       "\n",
       "        $(\"#floatingbottom\").css(\"z-index\", \"1000\");\n",
       "    "
      ],
      "text/plain": [
       "<IPython.core.display.Javascript object>"
      ]
     },
     "metadata": {},
     "output_type": "display_data"
    },
    {
     "data": {
      "application/javascript": [
       "\n",
       "$('div#header-container').hide();\n",
       "$('div#maintoolbar').hide();\n"
      ],
      "text/plain": [
       "<IPython.core.display.Javascript object>"
      ]
     },
     "metadata": {},
     "output_type": "display_data"
    }
   ],
   "source": [
    "import pagination"
   ]
  },
  {
   "cell_type": "code",
   "execution_count": null,
   "metadata": {
    "collapsed": true
   },
   "outputs": [],
   "source": []
  }
 ],
 "metadata": {
  "anaconda-cloud": {},
  "kernelspec": {
   "display_name": "Python [default]",
   "language": "python",
   "name": "python3"
  },
  "language_info": {
   "codemirror_mode": {
    "name": "ipython",
    "version": 3
   },
   "file_extension": ".py",
   "mimetype": "text/x-python",
   "name": "python",
   "nbconvert_exporter": "python",
   "pygments_lexer": "ipython3",
   "version": "3.5.2"
  }
 },
 "nbformat": 4,
 "nbformat_minor": 0
}
