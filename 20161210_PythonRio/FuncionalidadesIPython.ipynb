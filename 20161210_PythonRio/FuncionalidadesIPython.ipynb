{
 "cells": [
  {
   "cell_type": "markdown",
   "metadata": {},
   "source": [
    "<h1 style=\"display: inline-block;\"> O que fazer com <br> extensões? </h1> <h4 style=\"display: inline-block; float: right;\"> 8- FuncionalidadesIPython.ipynb </h4>\n",
    "\n",
    "\n",
    "```python\n",
    "def load_ipython_extension(ipython: \"InteractiveShell\"):\n",
    "```\n",
    "\n",
    "* Registrar Magics\n",
    "* Registrar Callbacks"
   ]
  },
  {
   "cell_type": "code",
   "execution_count": 1,
   "metadata": {
    "collapsed": true
   },
   "outputs": [],
   "source": [
    "ipython = get_ipython()"
   ]
  },
  {
   "cell_type": "markdown",
   "metadata": {},
   "source": [
    "### Registrando Magics"
   ]
  },
  {
   "cell_type": "code",
   "execution_count": 2,
   "metadata": {
    "collapsed": true
   },
   "outputs": [],
   "source": [
    "def ospath(line):\n",
    "    from os import path\n",
    "    return getattr(path, line) if line else path\n",
    "\n",
    "ipython.register_magic_function(ospath, magic_kind='line')"
   ]
  },
  {
   "cell_type": "code",
   "execution_count": 4,
   "metadata": {
    "collapsed": false
   },
   "outputs": [
    {
     "data": {
      "text/plain": [
       "'a/b'"
      ]
     },
     "execution_count": 4,
     "metadata": {},
     "output_type": "execute_result"
    }
   ],
   "source": [
    "# from os.path import join\n",
    "funcao = \"join\"\n",
    "join = %ospath {funcao}\n",
    "join(\"a\", \"b\")"
   ]
  },
  {
   "cell_type": "code",
   "execution_count": 5,
   "metadata": {
    "collapsed": false
   },
   "outputs": [
    {
     "data": {
      "text/plain": [
       "'a/b'"
      ]
     },
     "execution_count": 5,
     "metadata": {},
     "output_type": "execute_result"
    }
   ],
   "source": [
    "join = %ospath join\n",
    "join(\"a\", \"b\")"
   ]
  },
  {
   "cell_type": "code",
   "execution_count": 6,
   "metadata": {
    "collapsed": true
   },
   "outputs": [],
   "source": [
    "from IPython.core.magic import Magics, magics_class, line_magic, cell_magic, line_cell_magic\n",
    "from IPython.core.magic_arguments import argument, magic_arguments, parse_argstring\n",
    "from IPython.display import Javascript, display\n",
    "\n",
    "@magics_class\n",
    "class Magicas(Magics):\n",
    "    @magic_arguments()\n",
    "    @argument('-b', '--backward', default=-1, type=int, help=\"set cursor to P cells before\")\n",
    "    @argument('-f', '--forward', default=-1, type=int, help=\"set cursor to P cells after\")\n",
    "    @line_magic\n",
    "    def move(self, line):\n",
    "        args = parse_argstring(self.move, line)\n",
    "        if args.forward != -1:\n",
    "            args.backward = -args.forward\n",
    "        if args.backward != -1:\n",
    "            display(Javascript(\n",
    "                \"Jupyter.notebook.select(\"\n",
    "                \"Jupyter.notebook.get_selected_index() - {})\"\n",
    "                .format(args.backward + 1)\n",
    "            ))\n",
    "    \n",
    "    @line_cell_magic\n",
    "    def decorar(self, line, cell=None):\n",
    "        decorador = line.split(\" \")[0]\n",
    "        if cell is None:\n",
    "            funcao = line.split(\" \")[-1]\n",
    "            self.shell.user_ns[funcao] = self.shell.user_ns[decorador](self.shell.user_ns[funcao])\n",
    "        else:\n",
    "            tree = ast.parse(cell)\n",
    "            tree = TransformarDefinicoes(decorador).visit(tree)\n",
    "            compiled = compile(tree, 'Cell Tests', 'exec')\n",
    "            exec(compiled, self.shell.user_global_ns, self.shell.user_ns)"
   ]
  },
  {
   "cell_type": "code",
   "execution_count": 7,
   "metadata": {
    "collapsed": true
   },
   "outputs": [],
   "source": [
    "import ast\n",
    "class TransformarDefinicoes(ast.NodeTransformer):\n",
    "    def __init__(self, decorador):\n",
    "        self.decorador = decorador\n",
    "    def visit_FunctionDef(self, node):\n",
    "        node.decorator_list.append(ast.copy_location(ast.Name(self.decorador, ast.Load()), node))\n",
    "        return node\n",
    "    \n",
    "\n",
    "ipython.register_magics(Magicas)"
   ]
  },
  {
   "cell_type": "code",
   "execution_count": 8,
   "metadata": {
    "collapsed": true
   },
   "outputs": [],
   "source": [
    "from functools import wraps\n",
    "def imprimir_chamadas(f):\n",
    "    @wraps(f)\n",
    "    def dec(*args, **kwargs):\n",
    "        result = f(*args, **kwargs) \n",
    "        print(\"{}(*{}, **{}) = {}\".format(f.__name__, args, kwargs, result))\n",
    "        return result\n",
    "    return dec"
   ]
  },
  {
   "cell_type": "code",
   "execution_count": 9,
   "metadata": {
    "collapsed": true
   },
   "outputs": [],
   "source": [
    "%%decorar imprimir_chamadas\n",
    "def soma(x, y):\n",
    "    return x + y\n",
    "\n",
    "def subtracao(x, y):\n",
    "    return x - y\n",
    "\n",
    "def multiplicacao(x, y):\n",
    "    return x * y"
   ]
  },
  {
   "cell_type": "code",
   "execution_count": 10,
   "metadata": {
    "collapsed": false
   },
   "outputs": [
    {
     "name": "stdout",
     "output_type": "stream",
     "text": [
      "soma(*(1, 2), **{}) = 3\n"
     ]
    },
    {
     "data": {
      "text/plain": [
       "3"
      ]
     },
     "execution_count": 10,
     "metadata": {},
     "output_type": "execute_result"
    }
   ],
   "source": [
    "soma(1, 2)"
   ]
  },
  {
   "cell_type": "code",
   "execution_count": 11,
   "metadata": {
    "collapsed": false
   },
   "outputs": [
    {
     "name": "stdout",
     "output_type": "stream",
     "text": [
      "subtracao(*(1, 2), **{}) = -1\n"
     ]
    },
    {
     "data": {
      "text/plain": [
       "-1"
      ]
     },
     "execution_count": 11,
     "metadata": {},
     "output_type": "execute_result"
    }
   ],
   "source": [
    "subtracao(1, 2)"
   ]
  },
  {
   "cell_type": "code",
   "execution_count": 24,
   "metadata": {
    "collapsed": false
   },
   "outputs": [
    {
     "name": "stdout",
     "output_type": "stream",
     "text": [
      "divisao(*(10, 5), **{}) = 2.0\n"
     ]
    },
    {
     "data": {
      "text/plain": [
       "2.0"
      ]
     },
     "execution_count": 24,
     "metadata": {},
     "output_type": "execute_result"
    }
   ],
   "source": [
    "def divisao(x, y):\n",
    "    return x / y\n",
    "%decorar imprimir_chamadas divisao\n",
    "divisao(10, 5)"
   ]
  },
  {
   "cell_type": "code",
   "execution_count": 23,
   "metadata": {
    "collapsed": false
   },
   "outputs": [
    {
     "data": {
      "application/javascript": [
       "Jupyter.notebook.select(Jupyter.notebook.get_selected_index() - 2)"
      ],
      "text/plain": [
       "<IPython.core.display.Javascript object>"
      ]
     },
     "metadata": {},
     "output_type": "display_data"
    }
   ],
   "source": [
    "%move -b 1"
   ]
  },
  {
   "cell_type": "markdown",
   "metadata": {},
   "source": [
    "#### Bonus 2- imprimindo AST"
   ]
  },
  {
   "cell_type": "code",
   "execution_count": 25,
   "metadata": {
    "collapsed": true
   },
   "outputs": [],
   "source": [
    "from grafo import Grafo"
   ]
  },
  {
   "cell_type": "code",
   "execution_count": 26,
   "metadata": {
    "collapsed": false
   },
   "outputs": [],
   "source": [
    "from collections import defaultdict\n",
    "\n",
    "class ASTDict(ast.NodeVisitor):\n",
    "    def __init__(self):\n",
    "        self.pai = \"root\"\n",
    "        self.arvore = defaultdict(list)\n",
    "        \n",
    "    def generic_visit(self, node):\n",
    "        pai_velho = self.pai\n",
    "        self.pai = \"{}_{}\".format(type(node).__name__, id(node))\n",
    "        self.arvore[pai_velho].append(self.pai)\n",
    "        ast.NodeVisitor.generic_visit(self, node)\n",
    "        self.pai = pai_velho\n",
    "        \n",
    "def ver_ast(line, cell):\n",
    "    tree = ast.parse(cell)\n",
    "    ast_dict = ASTDict()\n",
    "    ast_dict.visit(tree)\n",
    "    return Grafo(ast_dict.arvore)\n",
    "    \n",
    "ipython.register_magic_function(ver_ast, magic_kind=\"cell\")"
   ]
  },
  {
   "cell_type": "code",
   "execution_count": 28,
   "metadata": {
    "collapsed": false
   },
   "outputs": [
    {
     "data": {
      "image/png": "[encoded data removed]",
      "image/svg+xml": [
       "<?xml version=\"1.0\" encoding=\"UTF-8\" standalone=\"no\"?>\n",
       "<!DOCTYPE svg PUBLIC \"-//W3C//DTD SVG 1.1//EN\"\n",
       " \"http://www.w3.org/Graphics/SVG/1.1/DTD/svg11.dtd\">\n",
       "<!-- Generated by graphviz version 2.38.0 (20140413.2041)\n",
       " -->\n",
       "<!-- Title: G Pages: 1 -->\n",
       "<svg width=\"901pt\" height=\"422pt\"\n",
       " viewBox=\"0.00 0.00 901.08 422.00\" xmlns=\"http://www.w3.org/2000/svg\" xmlns:xlink=\"http://www.w3.org/1999/xlink\">\n",
       "<g id=\"graph0\" class=\"graph\" transform=\"scale(1 1) rotate(0) translate(4 418)\">\n",
       "<title>G</title>\n",
       "<polygon fill=\"white\" stroke=\"none\" points=\"-4,4 -4,-418 897.081,-418 897.081,4 -4,4\"/>\n",
       "<!-- BinOp_140335250557696 -->\n",
       "<g id=\"node1\" class=\"node\"><title>BinOp_140335250557696</title>\n",
       "<ellipse fill=\"none\" stroke=\"black\" cx=\"314.791\" cy=\"-126\" rx=\"104.782\" ry=\"18\"/>\n",
       "<text text-anchor=\"middle\" x=\"314.791\" y=\"-122.3\" font-family=\"Times,serif\" font-size=\"14.00\">BinOp_140335250557696</text>\n",
       "</g>\n",
       "<!-- Num_140335250557752 -->\n",
       "<g id=\"node2\" class=\"node\"><title>Num_140335250557752</title>\n",
       "<ellipse fill=\"none\" stroke=\"black\" cx=\"98.7912\" cy=\"-72\" rx=\"98.5829\" ry=\"18\"/>\n",
       "<text text-anchor=\"middle\" x=\"98.7912\" y=\"-68.3\" font-family=\"Times,serif\" font-size=\"14.00\">Num_140335250557752</text>\n",
       "</g>\n",
       "<!-- BinOp_140335250557696&#45;&gt;Num_140335250557752 -->\n",
       "<g id=\"edge1\" class=\"edge\"><title>BinOp_140335250557696&#45;&gt;Num_140335250557752</title>\n",
       "<path fill=\"none\" stroke=\"black\" d=\"M256.623,-110.997C228.679,-104.269 195.035,-96.1699 166.002,-89.1803\"/>\n",
       "<polygon fill=\"black\" stroke=\"black\" points=\"166.483,-85.6962 155.941,-86.7583 164.844,-92.5017 166.483,-85.6962\"/>\n",
       "</g>\n",
       "<!-- Mult_140335431961960 -->\n",
       "<g id=\"node3\" class=\"node\"><title>Mult_140335431961960</title>\n",
       "<ellipse fill=\"none\" stroke=\"black\" cx=\"314.791\" cy=\"-72\" rx=\"98.5829\" ry=\"18\"/>\n",
       "<text text-anchor=\"middle\" x=\"314.791\" y=\"-68.3\" font-family=\"Times,serif\" font-size=\"14.00\">Mult_140335431961960</text>\n",
       "</g>\n",
       "<!-- BinOp_140335250557696&#45;&gt;Mult_140335431961960 -->\n",
       "<g id=\"edge2\" class=\"edge\"><title>BinOp_140335250557696&#45;&gt;Mult_140335431961960</title>\n",
       "<path fill=\"none\" stroke=\"black\" d=\"M314.791,-107.973C314.791,-105.574 314.791,-103.059 314.791,-100.524\"/>\n",
       "<polygon fill=\"black\" stroke=\"black\" points=\"318.291,-100.243 314.791,-90.243 311.291,-100.243 318.291,-100.243\"/>\n",
       "</g>\n",
       "<!-- Name_140335250557808 -->\n",
       "<g id=\"node4\" class=\"node\"><title>Name_140335250557808</title>\n",
       "<ellipse fill=\"none\" stroke=\"black\" cx=\"533.791\" cy=\"-72\" rx=\"102.882\" ry=\"18\"/>\n",
       "<text text-anchor=\"middle\" x=\"533.791\" y=\"-68.3\" font-family=\"Times,serif\" font-size=\"14.00\">Name_140335250557808</text>\n",
       "</g>\n",
       "<!-- BinOp_140335250557696&#45;&gt;Name_140335250557808 -->\n",
       "<g id=\"edge3\" class=\"edge\"><title>BinOp_140335250557696&#45;&gt;Name_140335250557808</title>\n",
       "<path fill=\"none\" stroke=\"black\" d=\"M373.479,-111.065C401.823,-104.335 436.004,-96.2189 465.51,-89.213\"/>\n",
       "<polygon fill=\"black\" stroke=\"black\" points=\"466.4,-92.5989 475.321,-86.8833 464.783,-85.7882 466.4,-92.5989\"/>\n",
       "</g>\n",
       "<!-- Load_140335431949336 -->\n",
       "<g id=\"node5\" class=\"node\"><title>Load_140335431949336</title>\n",
       "<ellipse fill=\"none\" stroke=\"black\" cx=\"533.791\" cy=\"-18\" rx=\"98.5829\" ry=\"18\"/>\n",
       "<text text-anchor=\"middle\" x=\"533.791\" y=\"-14.3\" font-family=\"Times,serif\" font-size=\"14.00\">Load_140335431949336</text>\n",
       "</g>\n",
       "<!-- Name_140335250557808&#45;&gt;Load_140335431949336 -->\n",
       "<g id=\"edge4\" class=\"edge\"><title>Name_140335250557808&#45;&gt;Load_140335431949336</title>\n",
       "<path fill=\"none\" stroke=\"black\" d=\"M533.791,-53.9733C533.791,-51.574 533.791,-49.0586 533.791,-46.5239\"/>\n",
       "<polygon fill=\"black\" stroke=\"black\" points=\"537.291,-46.243 533.791,-36.243 530.291,-46.2431 537.291,-46.243\"/>\n",
       "</g>\n",
       "<!-- Return_140335250557584 -->\n",
       "<g id=\"node6\" class=\"node\"><title>Return_140335250557584</title>\n",
       "<ellipse fill=\"none\" stroke=\"black\" cx=\"533.791\" cy=\"-234\" rx=\"104.782\" ry=\"18\"/>\n",
       "<text text-anchor=\"middle\" x=\"533.791\" y=\"-230.3\" font-family=\"Times,serif\" font-size=\"14.00\">Return_140335250557584</text>\n",
       "</g>\n",
       "<!-- BinOp_140335250557640 -->\n",
       "<g id=\"node7\" class=\"node\"><title>BinOp_140335250557640</title>\n",
       "<ellipse fill=\"none\" stroke=\"black\" cx=\"533.791\" cy=\"-180\" rx=\"104.782\" ry=\"18\"/>\n",
       "<text text-anchor=\"middle\" x=\"533.791\" y=\"-176.3\" font-family=\"Times,serif\" font-size=\"14.00\">BinOp_140335250557640</text>\n",
       "</g>\n",
       "<!-- Return_140335250557584&#45;&gt;BinOp_140335250557640 -->\n",
       "<g id=\"edge5\" class=\"edge\"><title>Return_140335250557584&#45;&gt;BinOp_140335250557640</title>\n",
       "<path fill=\"none\" stroke=\"black\" d=\"M533.791,-215.973C533.791,-213.574 533.791,-211.059 533.791,-208.524\"/>\n",
       "<polygon fill=\"black\" stroke=\"black\" points=\"537.291,-208.243 533.791,-198.243 530.291,-208.243 537.291,-208.243\"/>\n",
       "</g>\n",
       "<!-- BinOp_140335250557640&#45;&gt;BinOp_140335250557696 -->\n",
       "<g id=\"edge9\" class=\"edge\"><title>BinOp_140335250557640&#45;&gt;BinOp_140335250557696</title>\n",
       "<path fill=\"none\" stroke=\"black\" d=\"M475.103,-165.065C446.873,-158.362 412.853,-150.284 383.429,-143.297\"/>\n",
       "<polygon fill=\"black\" stroke=\"black\" points=\"384.179,-139.878 373.641,-140.974 382.562,-146.689 384.179,-139.878\"/>\n",
       "</g>\n",
       "<!-- Add_140335431961400 -->\n",
       "<g id=\"node12\" class=\"node\"><title>Add_140335431961400</title>\n",
       "<ellipse fill=\"none\" stroke=\"black\" cx=\"533.791\" cy=\"-126\" rx=\"96.3833\" ry=\"18\"/>\n",
       "<text text-anchor=\"middle\" x=\"533.791\" y=\"-122.3\" font-family=\"Times,serif\" font-size=\"14.00\">Add_140335431961400</text>\n",
       "</g>\n",
       "<!-- BinOp_140335250557640&#45;&gt;Add_140335431961400 -->\n",
       "<g id=\"edge10\" class=\"edge\"><title>BinOp_140335250557640&#45;&gt;Add_140335431961400</title>\n",
       "<path fill=\"none\" stroke=\"black\" d=\"M533.791,-161.973C533.791,-159.574 533.791,-157.059 533.791,-154.524\"/>\n",
       "<polygon fill=\"black\" stroke=\"black\" points=\"537.291,-154.243 533.791,-144.243 530.291,-154.243 537.291,-154.243\"/>\n",
       "</g>\n",
       "<!-- Num_140335250557864 -->\n",
       "<g id=\"node13\" class=\"node\"><title>Num_140335250557864</title>\n",
       "<ellipse fill=\"none\" stroke=\"black\" cx=\"746.791\" cy=\"-126\" rx=\"98.5829\" ry=\"18\"/>\n",
       "<text text-anchor=\"middle\" x=\"746.791\" y=\"-122.3\" font-family=\"Times,serif\" font-size=\"14.00\">Num_140335250557864</text>\n",
       "</g>\n",
       "<!-- BinOp_140335250557640&#45;&gt;Num_140335250557864 -->\n",
       "<g id=\"edge11\" class=\"edge\"><title>BinOp_140335250557640&#45;&gt;Num_140335250557864</title>\n",
       "<path fill=\"none\" stroke=\"black\" d=\"M591.432,-164.928C618.875,-158.228 651.843,-150.18 680.335,-143.224\"/>\n",
       "<polygon fill=\"black\" stroke=\"black\" points=\"681.326,-146.585 690.21,-140.813 679.666,-139.785 681.326,-146.585\"/>\n",
       "</g>\n",
       "<!-- root -->\n",
       "<g id=\"node8\" class=\"node\"><title>root</title>\n",
       "<ellipse fill=\"none\" stroke=\"black\" cx=\"653.791\" cy=\"-396\" rx=\"27\" ry=\"18\"/>\n",
       "<text text-anchor=\"middle\" x=\"653.791\" y=\"-392.3\" font-family=\"Times,serif\" font-size=\"14.00\">root</text>\n",
       "</g>\n",
       "<!-- Module_140335250557360 -->\n",
       "<g id=\"node9\" class=\"node\"><title>Module_140335250557360</title>\n",
       "<ellipse fill=\"none\" stroke=\"black\" cx=\"653.791\" cy=\"-342\" rx=\"108.581\" ry=\"18\"/>\n",
       "<text text-anchor=\"middle\" x=\"653.791\" y=\"-338.3\" font-family=\"Times,serif\" font-size=\"14.00\">Module_140335250557360</text>\n",
       "</g>\n",
       "<!-- root&#45;&gt;Module_140335250557360 -->\n",
       "<g id=\"edge6\" class=\"edge\"><title>root&#45;&gt;Module_140335250557360</title>\n",
       "<path fill=\"none\" stroke=\"black\" d=\"M653.791,-377.973C653.791,-375.574 653.791,-373.059 653.791,-370.524\"/>\n",
       "<polygon fill=\"black\" stroke=\"black\" points=\"657.291,-370.243 653.791,-360.243 650.291,-370.243 657.291,-370.243\"/>\n",
       "</g>\n",
       "<!-- FunctionDef_140335250557416 -->\n",
       "<g id=\"node10\" class=\"node\"><title>FunctionDef_140335250557416</title>\n",
       "<ellipse fill=\"none\" stroke=\"black\" cx=\"653.791\" cy=\"-288\" rx=\"125.378\" ry=\"18\"/>\n",
       "<text text-anchor=\"middle\" x=\"653.791\" y=\"-284.3\" font-family=\"Times,serif\" font-size=\"14.00\">FunctionDef_140335250557416</text>\n",
       "</g>\n",
       "<!-- Module_140335250557360&#45;&gt;FunctionDef_140335250557416 -->\n",
       "<g id=\"edge13\" class=\"edge\"><title>Module_140335250557360&#45;&gt;FunctionDef_140335250557416</title>\n",
       "<path fill=\"none\" stroke=\"black\" d=\"M653.791,-323.973C653.791,-321.574 653.791,-319.059 653.791,-316.524\"/>\n",
       "<polygon fill=\"black\" stroke=\"black\" points=\"657.291,-316.243 653.791,-306.243 650.291,-316.243 657.291,-316.243\"/>\n",
       "</g>\n",
       "<!-- FunctionDef_140335250557416&#45;&gt;Return_140335250557584 -->\n",
       "<g id=\"edge8\" class=\"edge\"><title>FunctionDef_140335250557416&#45;&gt;Return_140335250557584</title>\n",
       "<path fill=\"none\" stroke=\"black\" d=\"M616.152,-270.69C604.654,-265.707 591.877,-260.171 579.885,-254.974\"/>\n",
       "<polygon fill=\"black\" stroke=\"black\" points=\"581.043,-251.661 570.475,-250.896 578.259,-258.084 581.043,-251.661\"/>\n",
       "</g>\n",
       "<!-- arguments_140335250557472 -->\n",
       "<g id=\"node11\" class=\"node\"><title>arguments_140335250557472</title>\n",
       "<ellipse fill=\"none\" stroke=\"black\" cx=\"774.791\" cy=\"-234\" rx=\"118.079\" ry=\"18\"/>\n",
       "<text text-anchor=\"middle\" x=\"774.791\" y=\"-230.3\" font-family=\"Times,serif\" font-size=\"14.00\">arguments_140335250557472</text>\n",
       "</g>\n",
       "<!-- FunctionDef_140335250557416&#45;&gt;arguments_140335250557472 -->\n",
       "<g id=\"edge7\" class=\"edge\"><title>FunctionDef_140335250557416&#45;&gt;arguments_140335250557472</title>\n",
       "<path fill=\"none\" stroke=\"black\" d=\"M691.744,-270.69C703.119,-265.801 715.735,-260.379 727.628,-255.269\"/>\n",
       "<polygon fill=\"black\" stroke=\"black\" points=\"729.167,-258.417 736.973,-251.253 726.403,-251.985 729.167,-258.417\"/>\n",
       "</g>\n",
       "<!-- arg_140335250557528 -->\n",
       "<g id=\"node14\" class=\"node\"><title>arg_140335250557528</title>\n",
       "<ellipse fill=\"none\" stroke=\"black\" cx=\"774.791\" cy=\"-180\" rx=\"92.0841\" ry=\"18\"/>\n",
       "<text text-anchor=\"middle\" x=\"774.791\" y=\"-176.3\" font-family=\"Times,serif\" font-size=\"14.00\">arg_140335250557528</text>\n",
       "</g>\n",
       "<!-- arguments_140335250557472&#45;&gt;arg_140335250557528 -->\n",
       "<g id=\"edge12\" class=\"edge\"><title>arguments_140335250557472&#45;&gt;arg_140335250557528</title>\n",
       "<path fill=\"none\" stroke=\"black\" d=\"M774.791,-215.973C774.791,-213.574 774.791,-211.059 774.791,-208.524\"/>\n",
       "<polygon fill=\"black\" stroke=\"black\" points=\"778.291,-208.243 774.791,-198.243 771.291,-208.243 778.291,-208.243\"/>\n",
       "</g>\n",
       "</g>\n",
       "</svg>\n"
      ],
      "text/plain": [
       "digraph G {\n",
       "  ranksep=0.25;\n",
       "  BinOp_140335250557696 -> Num_140335250557752;\n",
       "  BinOp_140335250557696 -> Mult_140335431961960;\n",
       "  BinOp_140335250557696 -> Name_140335250557808;\n",
       "  Name_140335250557808 -> Load_140335431949336;\n",
       "  Return_140335250557584 -> BinOp_140335250557640;\n",
       "  root -> Module_140335250557360;\n",
       "  FunctionDef_140335250557416 -> arguments_140335250557472;\n",
       "  FunctionDef_140335250557416 -> Return_140335250557584;\n",
       "  BinOp_140335250557640 -> BinOp_140335250557696;\n",
       "  BinOp_140335250557640 -> Add_140335431961400;\n",
       "  BinOp_140335250557640 -> Num_140335250557864;\n",
       "  arguments_140335250557472 -> arg_140335250557528;\n",
       "  Module_140335250557360 -> FunctionDef_140335250557416;\n",
       "}"
      ]
     },
     "execution_count": 28,
     "metadata": {},
     "output_type": "execute_result"
    }
   ],
   "source": [
    "%%ver_ast\n",
    "def f(x):\n",
    "    return 2 * x + 5"
   ]
  },
  {
   "cell_type": "code",
   "execution_count": 29,
   "metadata": {
    "collapsed": false
   },
   "outputs": [
    {
     "ename": "NameError",
     "evalue": "name 'f' is not defined",
     "output_type": "error",
     "traceback": [
      "\u001b[0;31m---------------------------------------------------------------------------\u001b[0m",
      "\u001b[0;31mNameError\u001b[0m                                 Traceback (most recent call last)",
      "\u001b[0;32m<ipython-input-29-9a8ad92c50ca>\u001b[0m in \u001b[0;36m<module>\u001b[0;34m()\u001b[0m\n\u001b[0;32m----> 1\u001b[0;31m \u001b[0mf\u001b[0m\u001b[0;34m\u001b[0m\u001b[0m\n\u001b[0m",
      "\u001b[0;31mNameError\u001b[0m: name 'f' is not defined"
     ]
    }
   ],
   "source": [
    "f"
   ]
  },
  {
   "cell_type": "markdown",
   "metadata": {},
   "source": [
    "### Registrando callbacks"
   ]
  },
  {
   "cell_type": "code",
   "execution_count": 30,
   "metadata": {
    "collapsed": false
   },
   "outputs": [
    {
     "name": "stdout",
     "output_type": "stream",
     "text": [
      "0:00:00.000152\n"
     ]
    }
   ],
   "source": [
    "ipython = get_ipython()\n",
    "from datetime import datetime\n",
    "class Timer:\n",
    "    def __init__(self):\n",
    "        self.initial = datetime.now()\n",
    "    def pre_execute(self):\n",
    "        self.initial = datetime.now()\n",
    "    def post_execute(self):\n",
    "        print(datetime.now() - self.initial)\n",
    "timer = Timer()\n",
    "timer.pre_execute()\n",
    "ipython.events.register(\"pre_run_cell\", timer.pre_execute)\n",
    "ipython.events.register(\"post_run_cell\", timer.post_execute)"
   ]
  },
  {
   "cell_type": "code",
   "execution_count": 32,
   "metadata": {
    "collapsed": false
   },
   "outputs": [
    {
     "name": "stdout",
     "output_type": "stream",
     "text": [
      "0:00:00.501637\n"
     ]
    }
   ],
   "source": [
    "from time import sleep\n",
    "sleep(0.5)"
   ]
  },
  {
   "cell_type": "code",
   "execution_count": 34,
   "metadata": {
    "collapsed": false
   },
   "outputs": [
    {
     "name": "stdout",
     "output_type": "stream",
     "text": [
      "0:00:00.000788\n"
     ]
    }
   ],
   "source": [
    "a = 2"
   ]
  },
  {
   "cell_type": "code",
   "execution_count": 36,
   "metadata": {
    "collapsed": false
   },
   "outputs": [
    {
     "data": {
      "text/plain": [
       "1125899906842624"
      ]
     },
     "execution_count": 36,
     "metadata": {},
     "output_type": "execute_result"
    },
    {
     "name": "stdout",
     "output_type": "stream",
     "text": [
      "0:00:00.005571\n"
     ]
    }
   ],
   "source": [
    "2**50"
   ]
  },
  {
   "cell_type": "markdown",
   "metadata": {},
   "source": [
    "\n",
    "https://github.com/JoaoFelipe/presentations/20161210_PythonRio  \n",
    "\n",
    "<span style=\"font-size:1.5em;\" id=\"slidepagination\"> [<(7) Extensão IPython](ExtensaoIPython.ipynb) (8) [Extensão Front-end (9)>](nbextension.ipynb) </span>\n",
    "&nbsp;\n"
   ]
  },
  {
   "cell_type": "code",
   "execution_count": 1,
   "metadata": {
    "collapsed": false
   },
   "outputs": [
    {
     "data": {
      "application/javascript": [
       "\n",
       "        $(\"#floatingbottom\").remove();\n",
       "    "
      ],
      "text/plain": [
       "<IPython.core.display.Javascript object>"
      ]
     },
     "metadata": {},
     "output_type": "display_data"
    },
    {
     "data": {
      "application/javascript": [
       "\n",
       "        $(\"body\").css(\"position\", \"relative\");\n",
       "        $(\"body\").append('<div id=\"floatingbottom\"><div id=\"floatinginternal\">Teste</div></div>');\n",
       "\n",
       "        $(\"#floatingbottom\").css(\"position\", \"absolute\");\n",
       "        $(\"#floatingbottom\").css(\"bottom\", \"0\");\n",
       "        $(\"#floatinginternal\").html($(\"#slidepagination\").parent().parent().html());\n",
       "        $(\"#floatinginternal\").css(\"background-color\", \"white\");\n",
       "        $(\"#floatinginternal\").css(\"margin\", \"auto\");\n",
       "        $(\"#floatinginternal\").css(\"width\", \"70%\");\n",
       "        $(\"#floatinginternal\").css(\"padding\", \"2px 5px\");\n",
       "        $(\"#floatinginternal\").css(\"border-radius\", \"15px 15px 0 0\");\n",
       "        $(\"#floatinginternal\").css(\"border\", \"1px solid black\");\n",
       "        $(\"#floatinginternal\").css(\"z-index\", \"1000\");\n",
       "        $(\"#floatingbottom\").css(\"margin\", \"0\");\n",
       "        $(\"#floatingbottom\").css(\"width\", \"100%\");\n",
       "        $(\"#floatingbottom\").css(\"text-align\", \"center\");\n",
       "\n",
       "        $(\"#floatingbottom\").css(\"z-index\", \"1000\");\n",
       "    "
      ],
      "text/plain": [
       "<IPython.core.display.Javascript object>"
      ]
     },
     "metadata": {},
     "output_type": "display_data"
    },
    {
     "data": {
      "application/javascript": [
       "\n",
       "$('div#header-container').hide();\n",
       "$('div#maintoolbar').hide();\n"
      ],
      "text/plain": [
       "<IPython.core.display.Javascript object>"
      ]
     },
     "metadata": {},
     "output_type": "display_data"
    }
   ],
   "source": [
    "import pagination"
   ]
  },
  {
   "cell_type": "code",
   "execution_count": null,
   "metadata": {
    "collapsed": true
   },
   "outputs": [],
   "source": []
  }
 ],
 "metadata": {
  "anaconda-cloud": {},
  "kernelspec": {
   "display_name": "Python [default]",
   "language": "python",
   "name": "python3"
  },
  "language_info": {
   "codemirror_mode": {
    "name": "ipython",
    "version": 3
   },
   "file_extension": ".py",
   "mimetype": "text/x-python",
   "name": "python",
   "nbconvert_exporter": "python",
   "pygments_lexer": "ipython3",
   "version": "3.5.2"
  }
 },
 "nbformat": 4,
 "nbformat_minor": 0
}
