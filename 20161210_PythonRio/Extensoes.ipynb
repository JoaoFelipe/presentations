{
 "cells": [
  {
   "cell_type": "markdown",
   "metadata": {},
   "source": [
    "<h1 style=\"display: inline-block;\"> Extensões </h1> <h4 style=\"display: inline-block; float: right;\"> 5- Extensoes.ipynb </h4>\n",
    "\n",
    "### Mais interações!\n",
    "\n",
    "\n",
    "\n",
    "* [Integração de Objetos com IPython](http://ipython.readthedocs.io/en/stable/config/integrating.html)  ([notebook](ObjetosIPython.ipynb))\n",
    "* [Extensão IPython](http://ipython.readthedocs.io/en/stable/config/extensions/index.html) ([notebook-modulo](ExtensaoIPython.ipynb), [notebook-funcionalides](FuncionalidadesIPython.ipynb))\n",
    "* [nbextension](http://jupyter-notebook.readthedocs.io/en/latest/extending/frontend_extensions.html) ([notebook](nbextension.ipynb))\n",
    "  * Também chamada de extensão front-end\n",
    "-----\n",
    "\n",
    "* [Extensão de servidor](http://jupyter-notebook.readthedocs.io/en/latest/extending/handlers.html#writing-a-notebook-server-extension)\n",
    "  * Novas rotas. Novos tratamentos de requisição. Hooks na hora de salvar\n",
    "* [Extensão bundler](http://jupyter-notebook.readthedocs.io/en/latest/extending/bundler_extensions.html)\n",
    "  * Download as\n",
    "  * Deploy"
   ]
  },
  {
   "cell_type": "markdown",
   "metadata": {
    "collapsed": true
   },
   "source": [
    "\n",
    "\n",
    "https://github.com/JoaoFelipe/presentations/20161210_PythonRio  \n",
    "\n",
    "<span style=\"font-size:1.5em;\" id=\"slidepagination\"> [<(4) Exemplos](Exemplos.ipynb) (5) [Integração de Objetos com IPython (6)>](ObjetosIPython.ipynb) </span>\n",
    "&nbsp;\n"
   ]
  },
  {
   "cell_type": "code",
   "execution_count": 1,
   "metadata": {
    "collapsed": false
   },
   "outputs": [
    {
     "data": {
      "application/javascript": [
       "\n",
       "        $(\"#floatingbottom\").remove();\n",
       "    "
      ],
      "text/plain": [
       "<IPython.core.display.Javascript object>"
      ]
     },
     "metadata": {},
     "output_type": "display_data"
    },
    {
     "data": {
      "application/javascript": [
       "\n",
       "        $(\"body\").css(\"position\", \"relative\");\n",
       "        $(\"body\").append('<div id=\"floatingbottom\"><div id=\"floatinginternal\">Teste</div></div>');\n",
       "\n",
       "        $(\"#floatingbottom\").css(\"position\", \"absolute\");\n",
       "        $(\"#floatingbottom\").css(\"bottom\", \"0\");\n",
       "        $(\"#floatinginternal\").html($(\"#slidepagination\").parent().parent().html());\n",
       "        $(\"#floatinginternal\").css(\"background-color\", \"white\");\n",
       "        $(\"#floatinginternal\").css(\"margin\", \"auto\");\n",
       "        $(\"#floatinginternal\").css(\"width\", \"70%\");\n",
       "        $(\"#floatinginternal\").css(\"padding\", \"2px 5px\");\n",
       "        $(\"#floatinginternal\").css(\"border-radius\", \"15px 15px 0 0\");\n",
       "        $(\"#floatinginternal\").css(\"border\", \"1px solid black\");\n",
       "        $(\"#floatinginternal\").css(\"z-index\", \"1000\");\n",
       "        $(\"#floatingbottom\").css(\"margin\", \"0\");\n",
       "        $(\"#floatingbottom\").css(\"width\", \"100%\");\n",
       "        $(\"#floatingbottom\").css(\"text-align\", \"center\");\n",
       "\n",
       "        $(\"#floatingbottom\").css(\"z-index\", \"1000\");\n",
       "    "
      ],
      "text/plain": [
       "<IPython.core.display.Javascript object>"
      ]
     },
     "metadata": {},
     "output_type": "display_data"
    },
    {
     "data": {
      "application/javascript": [
       "\n",
       "$('div#header-container').hide();\n",
       "$('div#maintoolbar').hide();\n"
      ],
      "text/plain": [
       "<IPython.core.display.Javascript object>"
      ]
     },
     "metadata": {},
     "output_type": "display_data"
    }
   ],
   "source": [
    "import pagination"
   ]
  },
  {
   "cell_type": "code",
   "execution_count": null,
   "metadata": {
    "collapsed": true
   },
   "outputs": [],
   "source": []
  }
 ],
 "metadata": {
  "anaconda-cloud": {},
  "kernelspec": {
   "display_name": "Python [default]",
   "language": "python",
   "name": "python3"
  },
  "language_info": {
   "codemirror_mode": {
    "name": "ipython",
    "version": 3
   },
   "file_extension": ".py",
   "mimetype": "text/x-python",
   "name": "python",
   "nbconvert_exporter": "python",
   "pygments_lexer": "ipython3",
   "version": "3.5.2"
  }
 },
 "nbformat": 4,
 "nbformat_minor": 0
}
