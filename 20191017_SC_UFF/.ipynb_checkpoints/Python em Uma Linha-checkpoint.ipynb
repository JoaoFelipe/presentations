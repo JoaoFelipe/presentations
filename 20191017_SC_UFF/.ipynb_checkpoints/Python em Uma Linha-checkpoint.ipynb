{
 "cells": [
  {
   "cell_type": "markdown",
   "metadata": {},
   "source": [
    "# Python em Uma Linha\n",
    "\n",
    "João Felipe Nicolaci Pimentel"
   ]
  },
  {
   "cell_type": "code",
   "execution_count": null,
   "metadata": {
    "collapsed": true
   },
   "outputs": [],
   "source": []
  },
  {
   "cell_type": "markdown",
   "metadata": {},
   "source": [
    "## Como assim em uma linha?"
   ]
  },
  {
   "cell_type": "code",
   "execution_count": 1,
   "metadata": {},
   "outputs": [
    {
     "data": {
      "text/plain": [
       "6"
      ]
     },
     "execution_count": 1,
     "metadata": {},
     "output_type": "execute_result"
    }
   ],
   "source": [
    "((lambda source, target: (lambda itself: lambda target, visited, fifo: itself(target, visited, fifo, itself))(lambda target, visited, fifo, itself: ((lambda chess_to_tuple, tuple_to_chess: ((lambda knight_moves: (itself(target, *(lambda element, *rest: (lambda filtered: ({**visited, **{pos: visited[element] + 1 for pos in filtered}},list(rest) + filtered if target not in filtered else [target]))([x for x in knight_moves(element) if x not in visited]))(*fifo), itself) if fifo else visited[target]))(lambda pos: (lambda tup: filter(lambda y: y is not None,map(lambda x: tuple_to_chess(x[0] + tup[0], x[1] + tup[1]),[(1, -2), (-1, 2), (-2, -1), (1, 2),(2, -1), (-2, 1), (-1, -2), (2, 1)])))(chess_to_tuple(pos)))))(lambda pos: (ord(pos[0]) - ord('a') + 1, int(pos[1])),lambda col, lin: chr(col + ord('a') - 1) + str(lin) if 1 <= col <= 8 and 1 <= lin <= 8 else None)))(target, {source: 0}, [source])))(\"h8\", \"a1\")"
   ]
  },
  {
   "cell_type": "code",
   "execution_count": 2,
   "metadata": {},
   "outputs": [
    {
     "data": {
      "text/plain": [
       "False"
      ]
     },
     "execution_count": 2,
     "metadata": {},
     "output_type": "execute_result"
    }
   ],
   "source": [
    "';' in In[1]"
   ]
  },
  {
   "cell_type": "code",
   "execution_count": null,
   "metadata": {
    "collapsed": true
   },
   "outputs": [],
   "source": []
  },
  {
   "cell_type": "markdown",
   "metadata": {},
   "source": [
    "**Quantos movimentos o cavalo do xadrez precisa para ir da posição *h8* até *a1*?**"
   ]
  },
  {
   "cell_type": "code",
   "execution_count": null,
   "metadata": {
    "collapsed": true
   },
   "outputs": [],
   "source": []
  },
  {
   "cell_type": "code",
   "execution_count": 89,
   "metadata": {},
   "outputs": [
    {
     "data": {
      "application/vnd.jupyter.widget-view+json": {
       "model_id": "6733544d272a4d9fa6edc0a899eacd45",
       "version_major": 2,
       "version_minor": 0
      },
      "text/plain": [
       "A Jupyter Widget"
      ]
     },
     "metadata": {},
     "output_type": "display_data"
    }
   ],
   "source": [
    "from IPython.display import display, Image\n",
    "from ipywidgets import interact\n",
    "@interact(i=(0, 6))\n",
    "def board(i=0):\n",
    "    display(Image(\"board{}.jpg\".format(i)))"
   ]
  },
  {
   "cell_type": "code",
   "execution_count": null,
   "metadata": {
    "collapsed": true
   },
   "outputs": [],
   "source": []
  },
  {
   "cell_type": "markdown",
   "metadata": {},
   "source": [
    "## Código Equivalente\n",
    "(legível)"
   ]
  },
  {
   "cell_type": "code",
   "execution_count": 4,
   "metadata": {},
   "outputs": [
    {
     "data": {
      "text/plain": [
       "6"
      ]
     },
     "execution_count": 4,
     "metadata": {},
     "output_type": "execute_result"
    }
   ],
   "source": [
    "from collections import deque\n",
    "\n",
    "def knight(source, target):\n",
    "    \"Calculates the minimum number of steps for the chess knight go from source to target\"\n",
    "    visited = {source: 0}\n",
    "    fifo = deque([source])\n",
    "    if source == target:\n",
    "        return 0\n",
    "    while fifo:\n",
    "        element = fifo.popleft()\n",
    "        for pos in knight_moves(element):\n",
    "            if not pos in visited:\n",
    "                visited[pos] = visited[element] + 1\n",
    "                fifo.append(pos)\n",
    "            if pos == target:\n",
    "                return visited[pos]\n",
    "\n",
    "            \n",
    "def knight_moves(chess_position):\n",
    "    \"Generates possible movement positions for the knight\"\n",
    "    position_tuple = chess_to_tuple(chess_position)\n",
    "    delta_moves = [\n",
    "        (1, -2), (-1, 2), (-2, -1), (1, 2),\n",
    "        (2, -1), (-2, 1), (-1, -2), (2, 1)\n",
    "    ]\n",
    "    for delta in delta_moves:\n",
    "        new_position = tuple_to_chess(\n",
    "            position_tuple[0] + delta[0],\n",
    "            position_tuple[1] + delta[1]\n",
    "        )\n",
    "        if new_position is not None:\n",
    "            yield new_position\n",
    "\n",
    "            \n",
    "def chess_to_tuple(chess_position):\n",
    "    \"Converts chess position (eg., 'a1') to tuple (eg., (1, 1))\"\n",
    "    first = ord(chess_position[0]) - ord('a') + 1\n",
    "    second = int(chess_position[1])\n",
    "    return (first , second)\n",
    "\n",
    "\n",
    "def tuple_to_chess(column, line):\n",
    "    \"Converts position to chess notation (eg., 'a1')\"\n",
    "    if 1 <= column <= 8 and 1 <= line <= 8:\n",
    "        first = chr(column + ord('a') - 1)\n",
    "        second = str(line)\n",
    "        return first + second\n",
    "    return None\n",
    "\n",
    "\n",
    "\n",
    "\n",
    "\n",
    "knight(\"h8\", \"a1\")"
   ]
  },
  {
   "cell_type": "code",
   "execution_count": null,
   "metadata": {
    "collapsed": true
   },
   "outputs": [],
   "source": []
  },
  {
   "cell_type": "markdown",
   "metadata": {},
   "source": [
    "# Por quê?"
   ]
  },
  {
   "cell_type": "markdown",
   "metadata": {},
   "source": [
    "## ASCII Art - Código Equivalente\n",
    "\n",
    "Não precisa respeitar identações do python"
   ]
  },
  {
   "cell_type": "code",
   "execution_count": 1,
   "metadata": {},
   "outputs": [
    {
     "data": {
      "text/plain": [
       "6"
      ]
     },
     "execution_count": 1,
     "metadata": {},
     "output_type": "execute_result"
    }
   ],
   "source": [
    "knight = (\n",
    "\n",
    "                                                         lambda \n",
    "                                                     source,   target: (\n",
    "                                                lambda           itself:\n",
    "                                           lambda                target, \n",
    "                                     visited,                          fifo: \n",
    "                                itself                                   (target,\n",
    "                          visited,            fifo,                         itself))(\n",
    "                 lambda target              ,visited,                    fifo, itself: (\n",
    "            (lambda                      chess_to_tuple,                  tuple_to_chess: (\n",
    "          (lambda                                                           knight_moves: (\n",
    "        itself(                                                                    target, \n",
    "    *(lambda                                                                       element, \n",
    "    *rest:       (lambda                                                        filtered: (\n",
    " {**              visited,                                                           **{pos: \n",
    " visited                                                                           [element] \n",
    " + 1 for pos                                                                       in filtered\n",
    "       }}, list                                                                      (rest) + \n",
    "    filtered                                                                        if target \n",
    "       not in filtered                                                                   else [\n",
    "         target]))([x                                                               for x in \n",
    "            knight_moves(element) if x not                                        in visited]\n",
    "                                 ))(*fifo),                                   itself) if fifo \n",
    "                              else                                                   visited\n",
    "                            [target]))(                                               lambda\n",
    "                          pos:                                                       (lambda \n",
    "                        tup:                                                         filter\n",
    "                    (lambda                                                            y: y \n",
    "                   is not                                                             None,\n",
    "                   map(                                                           lambda x: \n",
    "                tuple_to_chess (x[0] + tup[0], x[1] + tup[1]), [(1, -2), (-1, 2), (-2, -1), \n",
    "               (1, 2),                                                             (2, -1), \n",
    "              (-2, 1),                                                              (-1, -2), \n",
    "              (2, 1)])))                                                       (chess_to_tuple\n",
    "            (pos)))                                                               ))(lambda pos: \n",
    "            (ord                                                                         (pos[0])\n",
    "          - ord('a')                                                                    + 1, int\n",
    "           (pos[1])),                                                                lambda col, \n",
    "           lin:                                                                      chr(col +\n",
    "           ord('a')                                                                  - 1) + str\n",
    "  (lin)  if  1  <=  col  <=  8  and  1  <=  lin  <=  8 else  None)))(target,   {source:  0},   [source]))\n",
    "\n",
    "knight(\"h8\", \"a1\")"
   ]
  },
  {
   "cell_type": "code",
   "execution_count": null,
   "metadata": {
    "collapsed": true
   },
   "outputs": [],
   "source": []
  },
  {
   "cell_type": "markdown",
   "metadata": {},
   "source": [
    "## Job Security\n",
    "\n",
    "Alguém na empresa entente isso?"
   ]
  },
  {
   "cell_type": "code",
   "execution_count": null,
   "metadata": {
    "collapsed": true
   },
   "outputs": [],
   "source": []
  },
  {
   "cell_type": "markdown",
   "metadata": {},
   "source": [
    "## Motivo Real: Aprender Python Intermediário\n",
    "\n",
    "- Slice\n",
    "- If expression\n",
    "- Funções anônimas (lambda)\n",
    "- Decorator\n",
    "- functools\n",
    "- List/Set/Dict Comprehensions\n",
    "- Generators/Gen Expressions\n",
    "- itertools"
   ]
  },
  {
   "cell_type": "code",
   "execution_count": null,
   "metadata": {
    "collapsed": true
   },
   "outputs": [],
   "source": []
  },
  {
   "cell_type": "markdown",
   "metadata": {},
   "source": [
    "# Comandos vs Expressões"
   ]
  },
  {
   "cell_type": "markdown",
   "metadata": {},
   "source": [
    "## Comando"
   ]
  },
  {
   "cell_type": "code",
   "execution_count": 57,
   "metadata": {},
   "outputs": [
    {
     "name": "stdout",
     "output_type": "stream",
     "text": [
      "[7, 8, 9, 10, 11, 12, 13, 14, 15]\n"
     ]
    }
   ],
   "source": [
    "a = [7, 9, 10, 11, 12, 13, 14, 15]\n",
    "a.insert(1, 8)\n",
    "print(a)"
   ]
  },
  {
   "cell_type": "code",
   "execution_count": 58,
   "metadata": {},
   "outputs": [
    {
     "name": "stdout",
     "output_type": "stream",
     "text": [
      "[7, 5, 9, 10, 11, 12, 13, 14, 15]\n"
     ]
    }
   ],
   "source": [
    "a = [7, 9, 10, 11, 12, 13, 14, 15]; a.insert(1, 5); print(a)"
   ]
  },
  {
   "cell_type": "code",
   "execution_count": 59,
   "metadata": {},
   "outputs": [
    {
     "name": "stdout",
     "output_type": "stream",
     "text": [
      "Fora do if\n"
     ]
    }
   ],
   "source": [
    "if not a:\n",
    "    print(\"Lista vazia\")\n",
    "print(\"Fora do if\")"
   ]
  },
  {
   "cell_type": "code",
   "execution_count": 60,
   "metadata": {
    "collapsed": true
   },
   "outputs": [],
   "source": [
    "if not a: print(\"Lista vazia\"); print(\"Fora do if\")"
   ]
  },
  {
   "cell_type": "code",
   "execution_count": 47,
   "metadata": {},
   "outputs": [
    {
     "name": "stdout",
     "output_type": "stream",
     "text": [
      "Fora do if\n"
     ]
    }
   ],
   "source": [
    "if not a: print(\"Lista vazia\")\n",
    "print(\"Fora do if\")"
   ]
  },
  {
   "cell_type": "code",
   "execution_count": 66,
   "metadata": {
    "collapsed": true
   },
   "outputs": [],
   "source": [
    "a = [7, 9, 10, 11, 12, 13, 14, 15]"
   ]
  },
  {
   "cell_type": "code",
   "execution_count": null,
   "metadata": {
    "collapsed": true
   },
   "outputs": [],
   "source": []
  },
  {
   "cell_type": "markdown",
   "metadata": {},
   "source": [
    "## Expressão"
   ]
  },
  {
   "cell_type": "code",
   "execution_count": 64,
   "metadata": {},
   "outputs": [
    {
     "data": {
      "text/plain": [
       "[7, 8, 9, 10, 11, 12, 13, 14, 15]"
      ]
     },
     "execution_count": 64,
     "metadata": {},
     "output_type": "execute_result"
    }
   ],
   "source": [
    "a[:1] + [8] + a[1:]"
   ]
  },
  {
   "cell_type": "code",
   "execution_count": null,
   "metadata": {
    "collapsed": true
   },
   "outputs": [],
   "source": []
  },
  {
   "cell_type": "markdown",
   "metadata": {},
   "source": [
    "## Slice\n",
    "Um \"pedaço\" de uma lista ou tupla\n",
    "\n",
    "```python\n",
    "lista[início:fim:passo]\n",
    "```\n",
    "\n",
    "Fechado em *início*, aberto em *fim*, iterando de *passo* em *passo*.\n",
    "\n",
    "Por padrão:\n",
    "```\n",
    "início = 0\n",
    "fim = len(lista)\n",
    "passo = 1\n",
    "```\n",
    "\n",
    "Nesse caso (`a[:1] + [8] + a[1:]`):\n",
    "\n",
    "\n",
    "```python\n",
    "a[:1] == [7]\n",
    "a[1:] == [9, 10, 11, 12, 13, 14, 15]\n",
    "```\n",
    "\n",
    "Outros slices:\n",
    "\n",
    "\n",
    "```python\n",
    "a[2:5] == [10, 11, 12]\n",
    "a[5:2:-1] == [13, 12, 11]\n",
    "a[::2] == [7, 10, 12, 14]\n",
    "```\n"
   ]
  },
  {
   "cell_type": "code",
   "execution_count": null,
   "metadata": {
    "collapsed": true
   },
   "outputs": [],
   "source": []
  },
  {
   "cell_type": "code",
   "execution_count": 91,
   "metadata": {},
   "outputs": [
    {
     "name": "stdout",
     "output_type": "stream",
     "text": [
      "Fora do if\n"
     ]
    }
   ],
   "source": [
    "print((\"Lista vazia\\n\" if not a else \"\") + \"Fora do if\")"
   ]
  },
  {
   "cell_type": "code",
   "execution_count": null,
   "metadata": {
    "collapsed": true
   },
   "outputs": [],
   "source": []
  },
  {
   "cell_type": "markdown",
   "metadata": {},
   "source": [
    "## If Expression\n",
    "ternário\n",
    "\n",
    "```python\n",
    "v if condição else f\n",
    "```\n",
    "\n",
    "Retorna *v* se a *condição* for verdadeira\n",
    "Caso contrário, retorna *f*\n",
    "\n",
    "```python\n",
    "\"Lista vazia\\n\" if not a else \"\"\n",
    "```\n",
    "\n",
    "Como a lista possui elementos, `a` é verdadeiro.\n",
    "O ternário retorna `\"\"`"
   ]
  },
  {
   "cell_type": "code",
   "execution_count": null,
   "metadata": {
    "collapsed": true
   },
   "outputs": [],
   "source": []
  },
  {
   "cell_type": "markdown",
   "metadata": {},
   "source": [
    "## Exercícios\n",
    "\n",
    "### 1) Use slice para remover o último elemento de uma lista\n",
    "### 2) Use slice para fazer uma cópia de uma lista\n",
    "### 3) Use if expressions para reescrever o seguinte código:\n",
    "```python\n",
    "x = 5\n",
    "if x < 5:\n",
    "    y = -1\n",
    "elif x == 5:\n",
    "    y = 0\n",
    "else:\n",
    "    y = 1\n",
    "```"
   ]
  },
  {
   "cell_type": "code",
   "execution_count": null,
   "metadata": {
    "collapsed": true
   },
   "outputs": [],
   "source": []
  },
  {
   "cell_type": "markdown",
   "metadata": {},
   "source": [
    "# Funções"
   ]
  },
  {
   "cell_type": "code",
   "execution_count": 105,
   "metadata": {},
   "outputs": [
    {
     "data": {
      "text/plain": [
       "(16, 8, 4, 2, 1)"
      ]
     },
     "execution_count": 105,
     "metadata": {},
     "output_type": "execute_result"
    }
   ],
   "source": [
    "def next_collatz(x):\n",
    "    \"\"\"Next collatz conjecture number\"\"\"\n",
    "    if x % 2 == 0:\n",
    "        return x // 2\n",
    "    else:\n",
    "        return 3 * x + 1\n",
    "    \n",
    "next_collatz(5), next_collatz(16), next_collatz(8), next_collatz(4), next_collatz(2)"
   ]
  },
  {
   "cell_type": "code",
   "execution_count": 106,
   "metadata": {},
   "outputs": [
    {
     "data": {
      "text/plain": [
       "(16, 8, 4, 2, 1)"
      ]
     },
     "execution_count": 106,
     "metadata": {},
     "output_type": "execute_result"
    }
   ],
   "source": [
    "def next_collatz(x):\n",
    "    return x // 2 if x % 2 == 0 else 3 * x + 1\n",
    "\n",
    "next_collatz(5), next_collatz(16), next_collatz(8), next_collatz(4), next_collatz(2)"
   ]
  },
  {
   "cell_type": "code",
   "execution_count": 108,
   "metadata": {},
   "outputs": [
    {
     "data": {
      "text/plain": [
       "(16, 8, 4, 2, 1)"
      ]
     },
     "execution_count": 108,
     "metadata": {},
     "output_type": "execute_result"
    }
   ],
   "source": [
    "next_collatz = lambda x: x // 2 if x % 2 == 0 else 3 * x + 1\n",
    "next_collatz(5), next_collatz(16), next_collatz(8), next_collatz(4), next_collatz(2)"
   ]
  },
  {
   "cell_type": "markdown",
   "metadata": {},
   "source": [
    "## Lambda Expression\n",
    "Função anônima\n",
    "\n",
    "```python\n",
    "lambda <argumentos>: <resultado>\n",
    "```\n",
    "\n",
    "Função sem nome que recebe *argumentos* e retorna *resultado*, que deve ser uma expressão.\n",
    "\n",
    "No exemplo:\n",
    "```python\n",
    "lambda x: x // 2 if x % 2 == 0 else 3 * x + 1\n",
    "```\n",
    "É uma função que recebe *x* como parâmetro e retorna o resultado do ternário.\n",
    "Essa função pode ser atribuída a qualquer variável ou passada como parâmetro.\n",
    "\n",
    "\n",
    "A função poderia receber outros parâmetros e até parâmetros nomeados:\n",
    "\n",
    "```python\n",
    "lambda x, y, z=2: x + y + z\n",
    "```\n"
   ]
  },
  {
   "cell_type": "markdown",
   "metadata": {},
   "source": [
    "### Situação comum: Ordenação"
   ]
  },
  {
   "cell_type": "code",
   "execution_count": 3,
   "metadata": {
    "collapsed": true
   },
   "outputs": [],
   "source": [
    "from collections import namedtuple\n",
    "\n",
    "Score = namedtuple(\"Score\", \"country gold silver bronze\")\n",
    "scores = [\n",
    "    Score(\"China\", 26, 18, 26),\n",
    "    Score(\"Brasil\", 7, 6, 6),\n",
    "    Score(\"Hungria\", 8, 3, 4),\n",
    "    Score(\"Canadá\", 4, 3, 15),\n",
    "    Score(\"Japão\", 12, 8, 21),\n",
    "]"
   ]
  },
  {
   "cell_type": "markdown",
   "metadata": {},
   "source": [
    "Ordenando por nome:"
   ]
  },
  {
   "cell_type": "code",
   "execution_count": 4,
   "metadata": {
    "scrolled": true
   },
   "outputs": [
    {
     "data": {
      "text/plain": [
       "[Score(country='Brasil', gold=7, silver=6, bronze=6),\n",
       " Score(country='Canadá', gold=4, silver=3, bronze=15),\n",
       " Score(country='China', gold=26, silver=18, bronze=26),\n",
       " Score(country='Hungria', gold=8, silver=3, bronze=4),\n",
       " Score(country='Japão', gold=12, silver=8, bronze=21)]"
      ]
     },
     "execution_count": 4,
     "metadata": {},
     "output_type": "execute_result"
    }
   ],
   "source": [
    "sorted(scores)"
   ]
  },
  {
   "cell_type": "markdown",
   "metadata": {},
   "source": [
    "Ordenando por total de medalhas (em ordem decrescente):"
   ]
  },
  {
   "cell_type": "code",
   "execution_count": 5,
   "metadata": {},
   "outputs": [
    {
     "data": {
      "text/plain": [
       "[Score(country='China', gold=26, silver=18, bronze=26),\n",
       " Score(country='Japão', gold=12, silver=8, bronze=21),\n",
       " Score(country='Canadá', gold=4, silver=3, bronze=15),\n",
       " Score(country='Brasil', gold=7, silver=6, bronze=6),\n",
       " Score(country='Hungria', gold=8, silver=3, bronze=4)]"
      ]
     },
     "execution_count": 5,
     "metadata": {},
     "output_type": "execute_result"
    }
   ],
   "source": [
    "sorted(scores, reverse=True, key=lambda score: sum(score[1:]))"
   ]
  },
  {
   "cell_type": "markdown",
   "metadata": {},
   "source": [
    "Ordenando por tipo de medalha"
   ]
  },
  {
   "cell_type": "code",
   "execution_count": 7,
   "metadata": {},
   "outputs": [
    {
     "data": {
      "text/plain": [
       "[Score(country='China', gold=26, silver=18, bronze=26),\n",
       " Score(country='Japão', gold=12, silver=8, bronze=21),\n",
       " Score(country='Hungria', gold=8, silver=3, bronze=4),\n",
       " Score(country='Brasil', gold=7, silver=6, bronze=6),\n",
       " Score(country='Canadá', gold=4, silver=3, bronze=15)]"
      ]
     },
     "execution_count": 7,
     "metadata": {},
     "output_type": "execute_result"
    }
   ],
   "source": [
    "from functools import cmp_to_key\n",
    "\n",
    "@cmp_to_key\n",
    "def score_cmp(first, second):\n",
    "    if first.gold > second.gold:\n",
    "        return 1\n",
    "    elif first.gold < second.gold:\n",
    "        return -1\n",
    "    elif first.silver > second.silver:\n",
    "        return 1\n",
    "    elif first.silver < second.silver:\n",
    "        return -1\n",
    "    elif first.bronze > second.bronze:\n",
    "        return 1\n",
    "    elif first.bronze < second.bronze:\n",
    "        return -1\n",
    "    elif sum(first[1:]) > sum(second[1:]):\n",
    "        return 1\n",
    "    elif sum(first[1:]) < sum(second[1:]):\n",
    "        return -1\n",
    "    elif first.country > second.country:\n",
    "        return 1\n",
    "    elif first.country < second.country:\n",
    "        return -1\n",
    "    else:\n",
    "        return 0\n",
    "    \n",
    "sorted(scores, reverse=True, key=score_cmp)"
   ]
  },
  {
   "cell_type": "markdown",
   "metadata": {},
   "source": [
    "Uma função com esse padrão de comparar valor a valor usando uma ordem de prioridade pode ser reduzida usando comparação entre tuplas:"
   ]
  },
  {
   "cell_type": "code",
   "execution_count": 131,
   "metadata": {},
   "outputs": [
    {
     "data": {
      "text/plain": [
       "[Score(country='China', gold=26, silver=18, bronze=26),\n",
       " Score(country='Japão', gold=12, silver=8, bronze=21),\n",
       " Score(country='Hungria', gold=8, silver=3, bronze=4),\n",
       " Score(country='Brasil', gold=7, silver=6, bronze=6),\n",
       " Score(country='Canadá', gold=4, silver=3, bronze=15)]"
      ]
     },
     "execution_count": 131,
     "metadata": {},
     "output_type": "execute_result"
    }
   ],
   "source": [
    "from functools import cmp_to_key\n",
    "\n",
    "@cmp_to_key\n",
    "def score_cmp(first, second):\n",
    "    first_tuple = (first.gold, first.silver, first.bronze, sum(first[1:]), first.country)\n",
    "    second_tuple = (second.gold, second.silver, second.bronze, sum(second[1:]), second.country) \n",
    "    if first_tuple > second_tuple:\n",
    "        return 1\n",
    "    elif first_tuple < second_tuple:\n",
    "        return -1\n",
    "    else:\n",
    "        return 0\n",
    "    \n",
    "sorted(scores, reverse=True, key=score_cmp)"
   ]
  },
  {
   "cell_type": "markdown",
   "metadata": {},
   "source": [
    "Como estamos usando tuplas, podemos deixar de usar `cmp_to_key` e passar a usar uma função `key` que seja usada para a comparação:"
   ]
  },
  {
   "cell_type": "code",
   "execution_count": 132,
   "metadata": {},
   "outputs": [
    {
     "data": {
      "text/plain": [
       "[Score(country='China', gold=26, silver=18, bronze=26),\n",
       " Score(country='Japão', gold=12, silver=8, bronze=21),\n",
       " Score(country='Hungria', gold=8, silver=3, bronze=4),\n",
       " Score(country='Brasil', gold=7, silver=6, bronze=6),\n",
       " Score(country='Canadá', gold=4, silver=3, bronze=15)]"
      ]
     },
     "execution_count": 132,
     "metadata": {},
     "output_type": "execute_result"
    }
   ],
   "source": [
    "def score_key(score):\n",
    "    return (score.gold, score.silver, score.bronze, sum(score[1:]), score.country)\n",
    "    \n",
    "sorted(scores, reverse=True, key=score_key)"
   ]
  },
  {
   "cell_type": "markdown",
   "metadata": {},
   "source": [
    "Em uma linha:"
   ]
  },
  {
   "cell_type": "code",
   "execution_count": 133,
   "metadata": {},
   "outputs": [
    {
     "data": {
      "text/plain": [
       "[Score(country='China', gold=26, silver=18, bronze=26),\n",
       " Score(country='Japão', gold=12, silver=8, bronze=21),\n",
       " Score(country='Hungria', gold=8, silver=3, bronze=4),\n",
       " Score(country='Brasil', gold=7, silver=6, bronze=6),\n",
       " Score(country='Canadá', gold=4, silver=3, bronze=15)]"
      ]
     },
     "execution_count": 133,
     "metadata": {},
     "output_type": "execute_result"
    }
   ],
   "source": [
    "sorted(scores, reverse=True, key=lambda score: (score.gold, score.silver, score.bronze, sum(score[1:]), score.country))"
   ]
  },
  {
   "cell_type": "markdown",
   "metadata": {},
   "source": [
    "## Usando lambda para substituir atribuições"
   ]
  },
  {
   "cell_type": "code",
   "execution_count": 136,
   "metadata": {},
   "outputs": [
    {
     "data": {
      "text/plain": [
       "[Score(country='China', gold=26, silver=18, bronze=26),\n",
       " Score(country='Brasil', gold=7, silver=6, bronze=6),\n",
       " Score(country='Hungria', gold=8, silver=3, bronze=4),\n",
       " Score(country='Canadá', gold=4, silver=3, bronze=15),\n",
       " Score(country='Japão', gold=12, silver=8, bronze=21)]"
      ]
     },
     "execution_count": 136,
     "metadata": {},
     "output_type": "execute_result"
    }
   ],
   "source": [
    "from collections import namedtuple\n",
    "\n",
    "Score = namedtuple(\"Score\", \"country gold silver bronze\")   # <- Alterando\n",
    "scores = [\n",
    "    Score(\"China\", 26, 18, 26),\n",
    "    Score(\"Brasil\", 7, 6, 6),\n",
    "    Score(\"Hungria\", 8, 3, 4),\n",
    "    Score(\"Canadá\", 4, 3, 15),\n",
    "    Score(\"Japão\", 12, 8, 21),\n",
    "]\n",
    "scores"
   ]
  },
  {
   "cell_type": "code",
   "execution_count": 135,
   "metadata": {},
   "outputs": [
    {
     "data": {
      "text/plain": [
       "[Score(country='China', gold=26, silver=18, bronze=26),\n",
       " Score(country='Brasil', gold=7, silver=6, bronze=6),\n",
       " Score(country='Hungria', gold=8, silver=3, bronze=4),\n",
       " Score(country='Canadá', gold=4, silver=3, bronze=15),\n",
       " Score(country='Japão', gold=12, silver=8, bronze=21)]"
      ]
     },
     "execution_count": 135,
     "metadata": {},
     "output_type": "execute_result"
    }
   ],
   "source": [
    "from collections import namedtuple\n",
    "\n",
    "scores = (lambda Score: [\n",
    "    Score(\"China\", 26, 18, 26),\n",
    "    Score(\"Brasil\", 7, 6, 6),\n",
    "    Score(\"Hungria\", 8, 3, 4),\n",
    "    Score(\"Canadá\", 4, 3, 15),\n",
    "    Score(\"Japão\", 12, 8, 21),\n",
    "])(namedtuple(\"Score\", \"country gold silver bronze\"))\n",
    "scores"
   ]
  },
  {
   "cell_type": "markdown",
   "metadata": {},
   "source": [
    "Aplicando a ordenação?"
   ]
  },
  {
   "cell_type": "code",
   "execution_count": 138,
   "metadata": {},
   "outputs": [
    {
     "data": {
      "text/plain": [
       "[Score(country='China', gold=26, silver=18, bronze=26),\n",
       " Score(country='Japão', gold=12, silver=8, bronze=21),\n",
       " Score(country='Hungria', gold=8, silver=3, bronze=4),\n",
       " Score(country='Brasil', gold=7, silver=6, bronze=6),\n",
       " Score(country='Canadá', gold=4, silver=3, bronze=15)]"
      ]
     },
     "execution_count": 138,
     "metadata": {},
     "output_type": "execute_result"
    }
   ],
   "source": [
    "from collections import namedtuple\n",
    "\n",
    "(lambda scores: sorted(scores, reverse=True, key=lambda score: (score.gold, score.silver, score.bronze, sum(score[1:]), score.country)))(\n",
    "    (lambda Score: [\n",
    "        Score(\"China\", 26, 18, 26),\n",
    "        Score(\"Brasil\", 7, 6, 6),\n",
    "        Score(\"Hungria\", 8, 3, 4),\n",
    "        Score(\"Canadá\", 4, 3, 15),\n",
    "        Score(\"Japão\", 12, 8, 21),\n",
    "    ])(namedtuple(\"Score\", \"country gold silver bronze\"))\n",
    ")"
   ]
  },
  {
   "cell_type": "markdown",
   "metadata": {},
   "source": [
    "E o import?"
   ]
  },
  {
   "cell_type": "code",
   "execution_count": 142,
   "metadata": {},
   "outputs": [
    {
     "data": {
      "text/plain": [
       "<function collections.namedtuple>"
      ]
     },
     "execution_count": 142,
     "metadata": {},
     "output_type": "execute_result"
    }
   ],
   "source": [
    "__import__(\"collections\").namedtuple"
   ]
  },
  {
   "cell_type": "code",
   "execution_count": 9,
   "metadata": {},
   "outputs": [
    {
     "data": {
      "text/plain": [
       "[Score(country='China', gold=26, silver=18, bronze=26),\n",
       " Score(country='Japão', gold=12, silver=8, bronze=21),\n",
       " Score(country='Hungria', gold=8, silver=3, bronze=4),\n",
       " Score(country='Brasil', gold=7, silver=6, bronze=6),\n",
       " Score(country='Canadá', gold=4, silver=3, bronze=15)]"
      ]
     },
     "execution_count": 9,
     "metadata": {},
     "output_type": "execute_result"
    }
   ],
   "source": [
    "(lambda scores: sorted(scores, reverse=True, key=lambda score: (score.gold, score.silver, score.bronze, sum(score[1:]), score.country)))(\n",
    "    (lambda Score: [\n",
    "        Score(\"China\", 26, 18, 26),\n",
    "        Score(\"Brasil\", 7, 6, 6),\n",
    "        Score(\"Hungria\", 8, 3, 4),\n",
    "        Score(\"Canadá\", 4, 3, 15),\n",
    "        Score(\"Japão\", 12, 8, 21),\n",
    "    ])(__import__(\"collections\").namedtuple(\"Score\", \"country gold silver bronze\"))\n",
    ")"
   ]
  },
  {
   "cell_type": "markdown",
   "metadata": {},
   "source": [
    "Uma linha"
   ]
  },
  {
   "cell_type": "code",
   "execution_count": 144,
   "metadata": {},
   "outputs": [
    {
     "data": {
      "text/plain": [
       "[Score(country='China', gold=26, silver=18, bronze=26),\n",
       " Score(country='Japão', gold=12, silver=8, bronze=21),\n",
       " Score(country='Hungria', gold=8, silver=3, bronze=4),\n",
       " Score(country='Brasil', gold=7, silver=6, bronze=6),\n",
       " Score(country='Canadá', gold=4, silver=3, bronze=15)]"
      ]
     },
     "execution_count": 144,
     "metadata": {},
     "output_type": "execute_result"
    }
   ],
   "source": [
    "(lambda scores: sorted(scores, reverse=True, key=lambda score: (score.gold, score.silver, score.bronze, sum(score[1:]), score.country)))((lambda Score: [Score(\"China\", 26, 18, 26),Score(\"Brasil\", 7, 6, 6),Score(\"Hungria\", 8, 3, 4),Score(\"Canadá\", 4, 3, 15),Score(\"Japão\", 12, 8, 21),])(__import__(\"collections\").namedtuple(\"Score\", \"country gold silver bronze\")))"
   ]
  },
  {
   "cell_type": "markdown",
   "metadata": {},
   "source": [
    "## Decorator\n",
    "Função que recebe função e retorna função alterada"
   ]
  },
  {
   "cell_type": "code",
   "execution_count": 5,
   "metadata": {},
   "outputs": [
    {
     "name": "stdout",
     "output_type": "stream",
     "text": [
      "Elapsed: 1.0009100437164307\n"
     ]
    },
    {
     "data": {
      "text/plain": [
       "3"
      ]
     },
     "execution_count": 5,
     "metadata": {},
     "output_type": "execute_result"
    }
   ],
   "source": [
    "from time import time, sleep\n",
    "\n",
    "def print_elapsed(func):\n",
    "    def new_func(*args, **kwargs):\n",
    "        before = time()\n",
    "        result = func(*args, **kwargs)\n",
    "        print(\"Elapsed:\", time() - before)\n",
    "        return result\n",
    "    return new_func\n",
    "\n",
    "@print_elapsed\n",
    "def add(x, y):\n",
    "    sleep(1)\n",
    "    return x + y\n",
    "\n",
    "add(1, y=2)"
   ]
  },
  {
   "cell_type": "markdown",
   "metadata": {},
   "source": [
    "Nome da função foi perdido"
   ]
  },
  {
   "cell_type": "code",
   "execution_count": 237,
   "metadata": {},
   "outputs": [
    {
     "data": {
      "text/plain": [
       "'new_func'"
      ]
     },
     "execution_count": 237,
     "metadata": {},
     "output_type": "execute_result"
    }
   ],
   "source": [
    "add.__name__"
   ]
  },
  {
   "cell_type": "code",
   "execution_count": 6,
   "metadata": {},
   "outputs": [
    {
     "name": "stdout",
     "output_type": "stream",
     "text": [
      "Elapsed: 1.0010154247283936\n"
     ]
    },
    {
     "data": {
      "text/plain": [
       "'new_func'"
      ]
     },
     "execution_count": 6,
     "metadata": {},
     "output_type": "execute_result"
    }
   ],
   "source": [
    "from functools import wraps\n",
    "from time import time, sleep\n",
    "\n",
    "\n",
    "def print_values(func):\n",
    "    @wraps(func)\n",
    "    def new_func(*args, **kwargs):\n",
    "        before = time()\n",
    "        result = func(*args, **kwargs)\n",
    "        print(\"Elapsed:\", time() - before)\n",
    "        return result\n",
    "    return new_func\n",
    "\n",
    "@print_elapsed\n",
    "def add(x, y):\n",
    "    sleep(1)\n",
    "    return x + y\n",
    "\n",
    "add(1, y=2)\n",
    "add.__name__"
   ]
  },
  {
   "cell_type": "markdown",
   "metadata": {},
   "source": [
    "Como funciona um decorator?"
   ]
  },
  {
   "cell_type": "code",
   "execution_count": 8,
   "metadata": {},
   "outputs": [
    {
     "name": "stdout",
     "output_type": "stream",
     "text": [
      "Elapsed: 1.0004384517669678\n"
     ]
    },
    {
     "data": {
      "text/plain": [
       "3"
      ]
     },
     "execution_count": 8,
     "metadata": {},
     "output_type": "execute_result"
    }
   ],
   "source": [
    "def add(x, y):\n",
    "    sleep(1)\n",
    "    return x + y\n",
    "\n",
    "add = print_elapsed(add)\n",
    "add(1, y=2)"
   ]
  },
  {
   "cell_type": "markdown",
   "metadata": {},
   "source": [
    "Uma linha:"
   ]
  },
  {
   "cell_type": "code",
   "execution_count": 11,
   "metadata": {},
   "outputs": [
    {
     "name": "stdout",
     "output_type": "stream",
     "text": [
      "Elapsed: 1.0002226829528809\n"
     ]
    },
    {
     "data": {
      "text/plain": [
       "3"
      ]
     },
     "execution_count": 11,
     "metadata": {},
     "output_type": "execute_result"
    }
   ],
   "source": [
    "from time import time, sleep\n",
    "from functools import wraps\n",
    "def print_elapsed(func):\n",
    "    new_func = wraps(func)(\n",
    "        lambda *args, **kwargs: (\n",
    "            lambda before, result: [\n",
    "                print(\"Elapsed:\", time() - before),\n",
    "                result\n",
    "            ][-1]\n",
    "        )(time(), func(*args, **kwargs))\n",
    "    )\n",
    "    return new_func\n",
    "def add(x, y):\n",
    "    return [sleep(1), x + y][-1]\n",
    "add = print_elapsed(add)\n",
    "add(1, y=2)\n"
   ]
  },
  {
   "cell_type": "code",
   "execution_count": 13,
   "metadata": {},
   "outputs": [
    {
     "name": "stdout",
     "output_type": "stream",
     "text": [
      "Elapsed: 1.0004215240478516\n"
     ]
    },
    {
     "data": {
      "text/plain": [
       "3"
      ]
     },
     "execution_count": 13,
     "metadata": {},
     "output_type": "execute_result"
    }
   ],
   "source": [
    "print_elapsed = lambda func: __import__('functools').wraps(func)(\n",
    "    lambda *args, **kwargs: (\n",
    "        lambda before, result: [\n",
    "            print(\"Elapsed:\", __import__('time').time() - before),\n",
    "            result\n",
    "        ][-1]\n",
    "    )(__import__('time').time(), func(*args, **kwargs))\n",
    ")\n",
    "\n",
    "add = print_elapsed(lambda x, y: [\n",
    "    __import__('time').sleep(1), x + y\n",
    "][-1])\n",
    "add(1, y=2)\n"
   ]
  },
  {
   "cell_type": "code",
   "execution_count": 18,
   "metadata": {},
   "outputs": [
    {
     "name": "stdout",
     "output_type": "stream",
     "text": [
      "Elapsed: 1.0000784397125244\n"
     ]
    },
    {
     "data": {
      "text/plain": [
       "3"
      ]
     },
     "execution_count": 18,
     "metadata": {},
     "output_type": "execute_result"
    }
   ],
   "source": [
    "(lambda func: __import__('functools').wraps(func)(lambda *args, **kwargs: (lambda before, result: [print(\"Elapsed:\", __import__ ('time').time() - before), result][-1])(__import__('time').time(), func(*args, **kwargs))))(lambda x, y: [__import__('time').sleep(1), x + y][-1])(1, y=2)"
   ]
  },
  {
   "cell_type": "markdown",
   "metadata": {},
   "source": [
    "## Recursão\n",
    "Vamos calcular fibonacci"
   ]
  },
  {
   "cell_type": "code",
   "execution_count": 22,
   "metadata": {},
   "outputs": [
    {
     "data": {
      "text/plain": [
       "55"
      ]
     },
     "execution_count": 22,
     "metadata": {},
     "output_type": "execute_result"
    }
   ],
   "source": [
    "from functools import lru_cache\n",
    "\n",
    "@lru_cache(maxsize=None)\n",
    "def fib(n):\n",
    "    if n <= 1:\n",
    "        return n\n",
    "    else:\n",
    "        return fib(n - 1) + fib(n - 2)\n",
    "\n",
    "fib(10)"
   ]
  },
  {
   "cell_type": "code",
   "execution_count": 171,
   "metadata": {},
   "outputs": [
    {
     "data": {
      "text/plain": [
       "55"
      ]
     },
     "execution_count": 171,
     "metadata": {},
     "output_type": "execute_result"
    }
   ],
   "source": [
    "fib = lambda n: n if n <= 1 else fib(n - 1) + fib(n - 2)\n",
    "fib(10)"
   ]
  },
  {
   "cell_type": "markdown",
   "metadata": {},
   "source": [
    "Mas isso são 2 linhas e exige a atribuição. Como fazer em só uma?"
   ]
  },
  {
   "cell_type": "code",
   "execution_count": 173,
   "metadata": {
    "collapsed": true
   },
   "outputs": [],
   "source": [
    "del fib"
   ]
  },
  {
   "cell_type": "code",
   "execution_count": 174,
   "metadata": {},
   "outputs": [
    {
     "ename": "NameError",
     "evalue": "name 'fib' is not defined",
     "output_type": "error",
     "traceback": [
      "\u001b[1;31m---------------------------------------------------------------------------\u001b[0m",
      "\u001b[1;31mNameError\u001b[0m                                 Traceback (most recent call last)",
      "\u001b[1;32m<ipython-input-174-b7ffdb665f3c>\u001b[0m in \u001b[0;36m<module>\u001b[1;34m()\u001b[0m\n\u001b[1;32m----> 1\u001b[1;33m \u001b[1;33m(\u001b[0m\u001b[1;32mlambda\u001b[0m \u001b[0mn\u001b[0m\u001b[1;33m:\u001b[0m \u001b[0mn\u001b[0m \u001b[1;32mif\u001b[0m \u001b[0mn\u001b[0m \u001b[1;33m<=\u001b[0m \u001b[1;36m1\u001b[0m \u001b[1;32melse\u001b[0m \u001b[0mfib\u001b[0m\u001b[1;33m(\u001b[0m\u001b[0mn\u001b[0m \u001b[1;33m-\u001b[0m \u001b[1;36m1\u001b[0m\u001b[1;33m)\u001b[0m \u001b[1;33m+\u001b[0m \u001b[0mfib\u001b[0m\u001b[1;33m(\u001b[0m\u001b[0mn\u001b[0m \u001b[1;33m-\u001b[0m \u001b[1;36m2\u001b[0m\u001b[1;33m)\u001b[0m\u001b[1;33m)\u001b[0m\u001b[1;33m(\u001b[0m\u001b[1;36m10\u001b[0m\u001b[1;33m)\u001b[0m\u001b[1;33m\u001b[0m\u001b[0m\n\u001b[0m",
      "\u001b[1;32m<ipython-input-174-b7ffdb665f3c>\u001b[0m in \u001b[0;36m<lambda>\u001b[1;34m(n)\u001b[0m\n\u001b[1;32m----> 1\u001b[1;33m \u001b[1;33m(\u001b[0m\u001b[1;32mlambda\u001b[0m \u001b[0mn\u001b[0m\u001b[1;33m:\u001b[0m \u001b[0mn\u001b[0m \u001b[1;32mif\u001b[0m \u001b[0mn\u001b[0m \u001b[1;33m<=\u001b[0m \u001b[1;36m1\u001b[0m \u001b[1;32melse\u001b[0m \u001b[0mfib\u001b[0m\u001b[1;33m(\u001b[0m\u001b[0mn\u001b[0m \u001b[1;33m-\u001b[0m \u001b[1;36m1\u001b[0m\u001b[1;33m)\u001b[0m \u001b[1;33m+\u001b[0m \u001b[0mfib\u001b[0m\u001b[1;33m(\u001b[0m\u001b[0mn\u001b[0m \u001b[1;33m-\u001b[0m \u001b[1;36m2\u001b[0m\u001b[1;33m)\u001b[0m\u001b[1;33m)\u001b[0m\u001b[1;33m(\u001b[0m\u001b[1;36m10\u001b[0m\u001b[1;33m)\u001b[0m\u001b[1;33m\u001b[0m\u001b[0m\n\u001b[0m",
      "\u001b[1;31mNameError\u001b[0m: name 'fib' is not defined"
     ]
    }
   ],
   "source": [
    "(lambda n: n if n <= 1 else fib(n - 1) + fib(n - 2))(10)"
   ]
  },
  {
   "cell_type": "markdown",
   "metadata": {},
   "source": [
    "### Solução: Passar fib como parametro"
   ]
  },
  {
   "cell_type": "code",
   "execution_count": 181,
   "metadata": {},
   "outputs": [
    {
     "data": {
      "text/plain": [
       "55"
      ]
     },
     "execution_count": 181,
     "metadata": {},
     "output_type": "execute_result"
    }
   ],
   "source": [
    "(lambda fn: fn(fn, 10))(\n",
    "    (lambda fib, n: n if n <= 1 else fib(fib, n - 1) + fib(fib, n - 2))\n",
    ")"
   ]
  },
  {
   "cell_type": "code",
   "execution_count": 188,
   "metadata": {},
   "outputs": [
    {
     "data": {
      "text/plain": [
       "55"
      ]
     },
     "execution_count": 188,
     "metadata": {},
     "output_type": "execute_result"
    }
   ],
   "source": [
    "(lambda m: (\n",
    "    (lambda fn: fn(fn, m))(\n",
    "        (lambda fib, n: n if n <= 1 else fib(fib, n - 1) + fib(fib, n - 2))\n",
    "    )\n",
    "))(10)"
   ]
  },
  {
   "cell_type": "code",
   "execution_count": 189,
   "metadata": {},
   "outputs": [
    {
     "data": {
      "text/plain": [
       "55"
      ]
     },
     "execution_count": 189,
     "metadata": {},
     "output_type": "execute_result"
    }
   ],
   "source": [
    "(lambda m: (\n",
    "    (lambda fn: fn(fn, m))(\n",
    "        lru_cache(maxsize=None)(lambda fib, n: n if n <= 1 else fib(fib, n - 1) + fib(fib, n - 2))\n",
    "    )\n",
    "))(10)"
   ]
  },
  {
   "cell_type": "markdown",
   "metadata": {},
   "source": [
    "### Solução Alternativa: Y-Combinator\n",
    "\n",
    "https://mvanier.livejournal.com/2897.html\n",
    "\n",
    "Y-Combinator é um função que recebe uma função não recursiva e retorna uma versão recursiva dela.\n"
   ]
  },
  {
   "cell_type": "code",
   "execution_count": 197,
   "metadata": {},
   "outputs": [
    {
     "data": {
      "text/plain": [
       "55"
      ]
     },
     "execution_count": 197,
     "metadata": {},
     "output_type": "execute_result"
    }
   ],
   "source": [
    "func = lambda fib: (lambda n: n if n <= 1 else fib(n - 1) + fib(n - 2))\n",
    "\n",
    "Y = lambda f: (lambda x: x(x))(lambda y: f(lambda *args: y(y)(*args)))\n",
    "Y(func)(10)"
   ]
  },
  {
   "cell_type": "code",
   "execution_count": 198,
   "metadata": {},
   "outputs": [
    {
     "data": {
      "text/plain": [
       "55"
      ]
     },
     "execution_count": 198,
     "metadata": {},
     "output_type": "execute_result"
    }
   ],
   "source": [
    "(lambda f: (lambda x: x(x))(lambda y: f(lambda *args: y(y)(*args))))(lambda fib: (lambda n: n if n <= 1 else fib(n - 1) + fib(n - 2)))(10)"
   ]
  },
  {
   "cell_type": "markdown",
   "metadata": {},
   "source": [
    "## Exercícios\n",
    "\n",
    "### 4) Faça uma função anônima que faça o mesmo que a seguinte função:\n",
    "```python\n",
    "def f(a, b):\n",
    "    c = a ** 2 + b ** 2\n",
    "    return c ** 0.5\n",
    "```\n",
    "### 5) Faça uma função que calcule o fatorial usando funções anônimas"
   ]
  },
  {
   "cell_type": "markdown",
   "metadata": {},
   "source": [
    "# Mais do functools"
   ]
  },
  {
   "cell_type": "markdown",
   "metadata": {},
   "source": [
    "## Chamando funções diferentes para tipos diferentes "
   ]
  },
  {
   "cell_type": "code",
   "execution_count": 214,
   "metadata": {
    "collapsed": true
   },
   "outputs": [],
   "source": [
    "elements = [2, \"a\", 4, 1, \"b\", \"c\", None]"
   ]
  },
  {
   "cell_type": "code",
   "execution_count": 215,
   "metadata": {},
   "outputs": [
    {
     "data": {
      "text/plain": [
       "(1, 2, -1)"
      ]
     },
     "execution_count": 215,
     "metadata": {},
     "output_type": "execute_result"
    }
   ],
   "source": [
    "from functools import singledispatch\n",
    "\n",
    "@singledispatch\n",
    "def key(value):\n",
    "    return value\n",
    "\n",
    "@key.register(str)\n",
    "def _(value):\n",
    "    return ord(value[0].lower()) - ord('a') + 1\n",
    "\n",
    "@key.register(type(None))\n",
    "def _(value):\n",
    "    return -1\n",
    "\n",
    "\n",
    "key(\"a\"), key(2), key(None)\n"
   ]
  },
  {
   "cell_type": "code",
   "execution_count": 216,
   "metadata": {},
   "outputs": [
    {
     "data": {
      "text/plain": [
       "[None, 'a', 1, 2, 'b', 'c', 4]"
      ]
     },
     "execution_count": 216,
     "metadata": {},
     "output_type": "execute_result"
    }
   ],
   "source": [
    "sorted(elements, key=key)"
   ]
  },
  {
   "cell_type": "markdown",
   "metadata": {},
   "source": [
    "Uma linha"
   ]
  },
  {
   "cell_type": "code",
   "execution_count": 11,
   "metadata": {},
   "outputs": [
    {
     "data": {
      "text/plain": [
       "[None, 'a', 1, 2, 'b', 'c', 4]"
      ]
     },
     "execution_count": 11,
     "metadata": {},
     "output_type": "execute_result"
    }
   ],
   "source": [
    "sorted(\n",
    "    elements, key=(lambda key: [\n",
    "        key.register(str)(lambda value: ord(value[0].lower()) - ord('a') + 1),\n",
    "        key.register(type(None))(lambda value: -1),\n",
    "        key,\n",
    "    ][-1])(__import__(\"functools\").singledispatch(lambda value: value))\n",
    ")"
   ]
  },
  {
   "cell_type": "code",
   "execution_count": 248,
   "metadata": {},
   "outputs": [
    {
     "data": {
      "text/plain": [
       "[None, 'a', 1, 2, 'b', 'c', 4]"
      ]
     },
     "execution_count": 248,
     "metadata": {},
     "output_type": "execute_result"
    }
   ],
   "source": [
    "sorted(elements, key=(lambda key: [key.register(str)(lambda value: ord(value[0].lower()) - ord('a') + 1),key.register(type(None))(lambda value: -1),key,][-1])(__import__(\"functools\").singledispatch(lambda value: value)))"
   ]
  },
  {
   "cell_type": "markdown",
   "metadata": {},
   "source": [
    "## Definindo parâmetros padrões"
   ]
  },
  {
   "cell_type": "code",
   "execution_count": 250,
   "metadata": {},
   "outputs": [
    {
     "data": {
      "text/plain": [
       "9"
      ]
     },
     "execution_count": 250,
     "metadata": {},
     "output_type": "execute_result"
    }
   ],
   "source": [
    "int(\"1001\", base=2)"
   ]
  },
  {
   "cell_type": "code",
   "execution_count": 251,
   "metadata": {},
   "outputs": [
    {
     "data": {
      "text/plain": [
       "9"
      ]
     },
     "execution_count": 251,
     "metadata": {},
     "output_type": "execute_result"
    }
   ],
   "source": [
    "from functools import partial\n",
    "base2 = partial(int, base=2)\n",
    "base2(\"1001\")"
   ]
  },
  {
   "cell_type": "markdown",
   "metadata": {},
   "source": [
    "# Estruturas de Dados"
   ]
  },
  {
   "cell_type": "markdown",
   "metadata": {},
   "source": [
    "## Básico"
   ]
  },
  {
   "cell_type": "markdown",
   "metadata": {},
   "source": [
    "### Lista\n",
    "\n",
    "Mutável com O(1) para inserção/remoção no final e para acesso. \n",
    "\n",
    "O(N) para saber se elemento está na lista e inserir/remover em outras posições"
   ]
  },
  {
   "cell_type": "code",
   "execution_count": 263,
   "metadata": {},
   "outputs": [
    {
     "data": {
      "text/plain": [
       "(True, 2)"
      ]
     },
     "execution_count": 263,
     "metadata": {},
     "output_type": "execute_result"
    }
   ],
   "source": [
    "a = [1, 2, 3, 4]\n",
    "a.append(5)\n",
    "a.pop()\n",
    "3 in a, a[1]"
   ]
  },
  {
   "cell_type": "markdown",
   "metadata": {},
   "source": [
    "### Tupla\n",
    "\n",
    "Imutável com O(1) para acesso. O(N) para saber se elemento está na tupla"
   ]
  },
  {
   "cell_type": "code",
   "execution_count": 1,
   "metadata": {},
   "outputs": [
    {
     "data": {
      "text/plain": [
       "(1, 2, 3, 4)"
      ]
     },
     "execution_count": 1,
     "metadata": {},
     "output_type": "execute_result"
    }
   ],
   "source": [
    "b = 1, 2, 3, 4  # Parentesis opcionais\n",
    "3 in b, b[1]\n",
    "b"
   ]
  },
  {
   "cell_type": "markdown",
   "metadata": {},
   "source": [
    "### Conjunto\n",
    "\n",
    "Mutável com O(1) para inserção/remoção e para saber se elemento está no conjunto.\n",
    "\n",
    "Não é possível acessar posição"
   ]
  },
  {
   "cell_type": "code",
   "execution_count": 2,
   "metadata": {
    "collapsed": true
   },
   "outputs": [],
   "source": [
    "c = {1, 2, 3, 4}\n",
    "c.add(5)\n",
    "c.remove(5)\n",
    "3 in c"
   ]
  },
  {
   "cell_type": "markdown",
   "metadata": {},
   "source": [
    "### Dicionário\n",
    "\n",
    "O(1) para inserção/remoção, para acessar chaves e para saber se chave está no dicionário"
   ]
  },
  {
   "cell_type": "code",
   "execution_count": 266,
   "metadata": {},
   "outputs": [
    {
     "data": {
      "text/plain": [
       "(True, 'a')"
      ]
     },
     "execution_count": 266,
     "metadata": {},
     "output_type": "execute_result"
    }
   ],
   "source": [
    "d = {1: \"a\", 2: \"b\", 3: \"c\", 4: \"d\"}\n",
    "d[5] = \"e\"\n",
    "del d[5]\n",
    "3 in d, d[1]"
   ]
  },
  {
   "cell_type": "markdown",
   "metadata": {},
   "source": [
    "## Iterando em estruturas"
   ]
  },
  {
   "cell_type": "markdown",
   "metadata": {},
   "source": [
    "### Iterando em elementos (for each)"
   ]
  },
  {
   "cell_type": "code",
   "execution_count": 292,
   "metadata": {},
   "outputs": [
    {
     "name": "stdout",
     "output_type": "stream",
     "text": [
      "1\n",
      "2\n",
      "3\n",
      "4\n"
     ]
    }
   ],
   "source": [
    "a = [1, 2, 3, 4]\n",
    "for element in a:\n",
    "    print(element)"
   ]
  },
  {
   "cell_type": "markdown",
   "metadata": {},
   "source": [
    "### Iterando com indíce"
   ]
  },
  {
   "cell_type": "code",
   "execution_count": 294,
   "metadata": {},
   "outputs": [
    {
     "name": "stdout",
     "output_type": "stream",
     "text": [
      "0 1\n",
      "1 2\n",
      "2 3\n",
      "3 4\n"
     ]
    }
   ],
   "source": [
    "for index, element in enumerate(a):\n",
    "    print(index, element)"
   ]
  },
  {
   "cell_type": "markdown",
   "metadata": {},
   "source": [
    "### Iterando em duas (ou mais) estruturas ao mesmo tempo\n"
   ]
  },
  {
   "cell_type": "code",
   "execution_count": 297,
   "metadata": {},
   "outputs": [
    {
     "name": "stdout",
     "output_type": "stream",
     "text": [
      "1 5\n",
      "2 6\n",
      "3 7\n"
     ]
    }
   ],
   "source": [
    "b = [5, 6, 7]\n",
    "for a_element, b_element in zip(a, b):\n",
    "    print(a_element, b_element)"
   ]
  },
  {
   "cell_type": "markdown",
   "metadata": {},
   "source": [
    "### Iterando em duas ou mais estruturas ao mesmo tempo\n",
    "Parando na maior estrutura"
   ]
  },
  {
   "cell_type": "code",
   "execution_count": 299,
   "metadata": {},
   "outputs": [
    {
     "name": "stdout",
     "output_type": "stream",
     "text": [
      "1 5\n",
      "2 6\n",
      "3 7\n",
      "4 None\n"
     ]
    }
   ],
   "source": [
    "from itertools import zip_longest\n",
    "\n",
    "for a_element, b_element in zip_longest(a, b):\n",
    "    print(a_element, b_element)"
   ]
  },
  {
   "cell_type": "markdown",
   "metadata": {},
   "source": [
    "### Iterando em dicionários com chave e valor"
   ]
  },
  {
   "cell_type": "code",
   "execution_count": 300,
   "metadata": {},
   "outputs": [
    {
     "name": "stdout",
     "output_type": "stream",
     "text": [
      "1 a\n",
      "2 b\n",
      "3 c\n",
      "4 d\n"
     ]
    }
   ],
   "source": [
    "d = {1: \"a\", 2: \"b\", 3: \"c\", 4: \"d\"}\n",
    "\n",
    "for key, value in d.items():\n",
    "    print(key, value)"
   ]
  },
  {
   "cell_type": "markdown",
   "metadata": {},
   "source": [
    "## Transformando estruturas"
   ]
  },
  {
   "cell_type": "markdown",
   "metadata": {},
   "source": [
    "### map\n",
    "\n",
    "Aplica uma função a todos elementos de um iterável\n",
    "\n",
    "```python\n",
    "map(func, iteravel)\n",
    "```\n",
    "\n",
    "Retorna um gerador"
   ]
  },
  {
   "cell_type": "code",
   "execution_count": 5,
   "metadata": {},
   "outputs": [
    {
     "data": {
      "text/plain": [
       "<map at 0x278c54d9ef0>"
      ]
     },
     "execution_count": 5,
     "metadata": {},
     "output_type": "execute_result"
    }
   ],
   "source": [
    "a = [1, 2, 3, 4, 5]\n",
    "twice_a = map((lambda x: x * 2), a)\n",
    "twice_a"
   ]
  },
  {
   "cell_type": "code",
   "execution_count": 272,
   "metadata": {},
   "outputs": [
    {
     "name": "stdout",
     "output_type": "stream",
     "text": [
      "2\n",
      "4\n",
      "6\n",
      "8\n",
      "10\n"
     ]
    }
   ],
   "source": [
    "for element in twice_a:\n",
    "    print(element)"
   ]
  },
  {
   "cell_type": "code",
   "execution_count": 274,
   "metadata": {},
   "outputs": [
    {
     "data": {
      "text/plain": [
       "[2, 4, 6, 8, 10]"
      ]
     },
     "execution_count": 274,
     "metadata": {},
     "output_type": "execute_result"
    }
   ],
   "source": [
    "twice_a = map((lambda x: x * 2), a)\n",
    "list(twice_a)"
   ]
  },
  {
   "cell_type": "markdown",
   "metadata": {},
   "source": [
    "### filter\n",
    "\n",
    "Aplica uma função a todos elementos de um iterável e retorna os elementos em que a função retorna verdadeiro\n",
    "\n",
    "```python\n",
    "filter(func, iteravel)\n",
    "```\n",
    "\n",
    "Retorna um gerador"
   ]
  },
  {
   "cell_type": "code",
   "execution_count": 387,
   "metadata": {},
   "outputs": [
    {
     "data": {
      "text/plain": [
       "<filter at 0x1ab601ac438>"
      ]
     },
     "execution_count": 387,
     "metadata": {},
     "output_type": "execute_result"
    }
   ],
   "source": [
    "a = [1, 2, 3, 4, 5]\n",
    "odd = lambda x: x % 2 != 0\n",
    "odd_a = filter(odd, a)\n",
    "odd_a"
   ]
  },
  {
   "cell_type": "code",
   "execution_count": 278,
   "metadata": {},
   "outputs": [
    {
     "data": {
      "text/plain": [
       "[1, 3, 5]"
      ]
     },
     "execution_count": 278,
     "metadata": {},
     "output_type": "execute_result"
    }
   ],
   "source": [
    "list(odd_a)"
   ]
  },
  {
   "cell_type": "markdown",
   "metadata": {},
   "source": [
    "### itertools.filterfalse\n",
    "\n",
    "Oposto de filter"
   ]
  },
  {
   "cell_type": "code",
   "execution_count": 279,
   "metadata": {},
   "outputs": [
    {
     "data": {
      "text/plain": [
       "<itertools.filterfalse at 0x1ab5fcb9208>"
      ]
     },
     "execution_count": 279,
     "metadata": {},
     "output_type": "execute_result"
    }
   ],
   "source": [
    "from itertools import filterfalse\n",
    "\n",
    "even_a = filterfalse(odd, a)\n",
    "even_a"
   ]
  },
  {
   "cell_type": "code",
   "execution_count": 280,
   "metadata": {},
   "outputs": [
    {
     "data": {
      "text/plain": [
       "[2, 4]"
      ]
     },
     "execution_count": 280,
     "metadata": {},
     "output_type": "execute_result"
    }
   ],
   "source": [
    "list(even_a)"
   ]
  },
  {
   "cell_type": "markdown",
   "metadata": {},
   "source": [
    "### itertools.compress\n",
    "\n",
    "Usa outro iterável para selecionar elementos\n",
    "```python\n",
    "compress(original, selectors)\n",
    "```"
   ]
  },
  {
   "cell_type": "code",
   "execution_count": 282,
   "metadata": {},
   "outputs": [
    {
     "data": {
      "text/plain": [
       "<itertools.compress at 0x1ab5fcb9940>"
      ]
     },
     "execution_count": 282,
     "metadata": {},
     "output_type": "execute_result"
    }
   ],
   "source": [
    "from itertools import compress\n",
    "\n",
    "sub = compress(a, [1, 0, 1, 1, 0])\n",
    "sub"
   ]
  },
  {
   "cell_type": "code",
   "execution_count": 283,
   "metadata": {},
   "outputs": [
    {
     "data": {
      "text/plain": [
       "[1, 3, 4]"
      ]
     },
     "execution_count": 283,
     "metadata": {},
     "output_type": "execute_result"
    }
   ],
   "source": [
    "list(sub)"
   ]
  },
  {
   "cell_type": "markdown",
   "metadata": {},
   "source": [
    "### functools.reduce\n",
    "\n",
    "Aplica função a dois argumentos cumulativamente da esquerda pra direita\n",
    "\n",
    "```python\n",
    "reduce(func, data, init)\n",
    "```\n",
    "\n",
    "*init* é opcional. Se não for passado, o valor inicial é o primeiro elemento de data."
   ]
  },
  {
   "cell_type": "code",
   "execution_count": 6,
   "metadata": {},
   "outputs": [
    {
     "data": {
      "text/plain": [
       "120"
      ]
     },
     "execution_count": 6,
     "metadata": {},
     "output_type": "execute_result"
    }
   ],
   "source": [
    "from functools import reduce\n",
    "reduce(lambda acc, element: acc * element, a)"
   ]
  },
  {
   "cell_type": "code",
   "execution_count": 7,
   "metadata": {},
   "outputs": [
    {
     "data": {
      "text/plain": [
       "240"
      ]
     },
     "execution_count": 7,
     "metadata": {},
     "output_type": "execute_result"
    }
   ],
   "source": [
    "reduce(lambda acc, element: acc * element, a, 2)"
   ]
  },
  {
   "cell_type": "markdown",
   "metadata": {},
   "source": [
    "## Comprehensions"
   ]
  },
  {
   "cell_type": "markdown",
   "metadata": {},
   "source": [
    "### List comprehension\n",
    "\n",
    "Forma concisa de criar listas baseado em iteráveis\n",
    "\n",
    "```python\n",
    "[func(x) for x in iteravel if filtro(x)]\n",
    "```\n",
    "\n",
    "A parte do `if` é opcional\n",
    "\n",
    "É o equivalente a \n",
    "```python\n",
    "result = []\n",
    "for x in iteravel:\n",
    "    if filtro(x):\n",
    "         result.append(func(x))      \n",
    "```\n"
   ]
  },
  {
   "cell_type": "markdown",
   "metadata": {},
   "source": [
    "map?"
   ]
  },
  {
   "cell_type": "code",
   "execution_count": 284,
   "metadata": {},
   "outputs": [
    {
     "data": {
      "text/plain": [
       "[2, 4, 6, 8, 10]"
      ]
     },
     "execution_count": 284,
     "metadata": {},
     "output_type": "execute_result"
    }
   ],
   "source": [
    "[x * 2 for x in a]"
   ]
  },
  {
   "cell_type": "markdown",
   "metadata": {},
   "source": [
    "filter?"
   ]
  },
  {
   "cell_type": "code",
   "execution_count": 286,
   "metadata": {},
   "outputs": [
    {
     "data": {
      "text/plain": [
       "[1, 3, 5]"
      ]
     },
     "execution_count": 286,
     "metadata": {},
     "output_type": "execute_result"
    }
   ],
   "source": [
    "[x for x in a if x % 2 != 0]"
   ]
  },
  {
   "cell_type": "markdown",
   "metadata": {},
   "source": [
    "filterfalse?"
   ]
  },
  {
   "cell_type": "code",
   "execution_count": 301,
   "metadata": {},
   "outputs": [
    {
     "data": {
      "text/plain": [
       "[2, 4]"
      ]
     },
     "execution_count": 301,
     "metadata": {},
     "output_type": "execute_result"
    }
   ],
   "source": [
    "[x for x in a if not x % 2 != 0]"
   ]
  },
  {
   "cell_type": "markdown",
   "metadata": {},
   "source": [
    "combinar!"
   ]
  },
  {
   "cell_type": "code",
   "execution_count": 303,
   "metadata": {},
   "outputs": [
    {
     "data": {
      "text/plain": [
       "[2, 6]"
      ]
     },
     "execution_count": 303,
     "metadata": {},
     "output_type": "execute_result"
    }
   ],
   "source": [
    "[x * 2 for x in a if x % 2 != 0]"
   ]
  },
  {
   "cell_type": "markdown",
   "metadata": {},
   "source": [
    "compress?"
   ]
  },
  {
   "cell_type": "code",
   "execution_count": 291,
   "metadata": {},
   "outputs": [
    {
     "data": {
      "text/plain": [
       "[1, 3, 4]"
      ]
     },
     "execution_count": 291,
     "metadata": {},
     "output_type": "execute_result"
    }
   ],
   "source": [
    "selectors = [1, 0, 1, 1, 0]\n",
    "[x for i, x in enumerate(a) if selectors[i]]"
   ]
  },
  {
   "cell_type": "code",
   "execution_count": 290,
   "metadata": {},
   "outputs": [
    {
     "data": {
      "text/plain": [
       "[1, 3, 4]"
      ]
     },
     "execution_count": 290,
     "metadata": {},
     "output_type": "execute_result"
    }
   ],
   "source": [
    "[x for x, use in zip(a, [1, 0, 1, 1, 0]) if use]"
   ]
  },
  {
   "cell_type": "markdown",
   "metadata": {},
   "source": [
    "reduce? \n",
    "\n",
    "Não há equivalência"
   ]
  },
  {
   "cell_type": "markdown",
   "metadata": {},
   "source": [
    "### Set comprehension\n",
    "\n",
    "Forma concisa de criar conjuntos baseado em iteráveis\n",
    "\n",
    "```python\n",
    "{func(x) for x in iteravel if filtro(x)}\n",
    "```\n",
    "\n",
    "A parte do `if` é opcional\n",
    "\n",
    "É o equivalente a \n",
    "```python\n",
    "result = set()\n",
    "for x in iteravel:\n",
    "    if filtro(x):\n",
    "         result.add(func(x))      \n",
    "```\n"
   ]
  },
  {
   "cell_type": "code",
   "execution_count": 305,
   "metadata": {},
   "outputs": [
    {
     "data": {
      "text/plain": [
       "{4, 9, 16}"
      ]
     },
     "execution_count": 305,
     "metadata": {},
     "output_type": "execute_result"
    }
   ],
   "source": [
    "a = [-2, 2, 3, 4]\n",
    "{x ** 2 for x in a}"
   ]
  },
  {
   "cell_type": "markdown",
   "metadata": {},
   "source": [
    "Note que o resultado possui menos elementos, pois não há repetição em conjuntos"
   ]
  },
  {
   "cell_type": "markdown",
   "metadata": {},
   "source": [
    "### Dict comprehension\n",
    "\n",
    "Forma concisa de criar dicionários baseado em iteráveis\n",
    "\n",
    "```python\n",
    "{key(x): func(x) for x in iteravel if filtro(x)}\n",
    "```\n",
    "\n",
    "A parte do `if` é opcional\n",
    "\n",
    "É o equivalente a \n",
    "```python\n",
    "result = {}\n",
    "for x in iteravel:\n",
    "    if filtro(x):\n",
    "         result[key(x)] = func(x)      \n",
    "```\n"
   ]
  },
  {
   "cell_type": "code",
   "execution_count": 306,
   "metadata": {},
   "outputs": [
    {
     "data": {
      "text/plain": [
       "{'a': 1, 'b': 2, 'c': 3, 'd': 4}"
      ]
     },
     "execution_count": 306,
     "metadata": {},
     "output_type": "execute_result"
    }
   ],
   "source": [
    "d = {1: \"a\", 2: \"b\", 3: \"c\", 4: \"d\"}\n",
    "\n",
    "{value: key for key, value in d.items()}+"
   ]
  },
  {
   "cell_type": "markdown",
   "metadata": {},
   "source": [
    "## Exercícios\n",
    "\n",
    "### 6) Faça um dicionário a partir de duas listas de forma que o elemento de uma seja a chave e o elemento da outra seja o valor.\n",
    "Exemplo:\n",
    "```python\n",
    "l1 = [1, 2, 4, 8]\n",
    "l2 = [\"a\", \"b\", \"c\", \"d\"]\n",
    "\n",
    "esperado = {1: \"a\", 2: \"b\", 4: \"c\", 8: \"d\"}\n",
    "```\n",
    "\n",
    "### 7) Pegue as letras ímpares do alfabeto\n",
    "\n",
    "Dica: use a variável `ascii_lowercase`:\n",
    "```python\n",
    "from string import ascii_lowercase\n",
    "```\n",
    "\n",
    "### 8) Transforme uma lista de listas em uma lista só com todos elementos\n",
    "```python\n",
    "antes = [[1, 8, 3], [2, 4, 6], [7, 3, 1]]\n",
    "depois = [1, 8, 3, 2, 4, 6, 7, 3, 1]\n",
    "```"
   ]
  },
  {
   "cell_type": "code",
   "execution_count": null,
   "metadata": {
    "collapsed": true
   },
   "outputs": [],
   "source": []
  },
  {
   "cell_type": "markdown",
   "metadata": {},
   "source": [
    "### <s>Tuple comprehension?</s>"
   ]
  },
  {
   "cell_type": "code",
   "execution_count": 311,
   "metadata": {},
   "outputs": [
    {
     "data": {
      "text/plain": [
       "<generator object <genexpr> at 0x000001AB60056468>"
      ]
     },
     "execution_count": 311,
     "metadata": {},
     "output_type": "execute_result"
    }
   ],
   "source": [
    "a = [1, 2, 3, 4]\n",
    "(x * 2 for x in a)"
   ]
  },
  {
   "cell_type": "code",
   "execution_count": 312,
   "metadata": {},
   "outputs": [
    {
     "data": {
      "text/plain": [
       "(2, 4, 6, 8)"
      ]
     },
     "execution_count": 312,
     "metadata": {},
     "output_type": "execute_result"
    }
   ],
   "source": [
    "tuple(x * 2 for x in a)"
   ]
  },
  {
   "cell_type": "markdown",
   "metadata": {},
   "source": [
    "# Geradores\n",
    "\n",
    "Funções que se comportam como iteráveis"
   ]
  },
  {
   "cell_type": "code",
   "execution_count": 319,
   "metadata": {},
   "outputs": [
    {
     "data": {
      "text/plain": [
       "<generator object generate3 at 0x000001AB60056AF0>"
      ]
     },
     "execution_count": 319,
     "metadata": {},
     "output_type": "execute_result"
    }
   ],
   "source": [
    "def generate3():\n",
    "    yield 1\n",
    "    yield 2\n",
    "    yield 3\n",
    "\n",
    "generate3()"
   ]
  },
  {
   "cell_type": "code",
   "execution_count": 320,
   "metadata": {},
   "outputs": [
    {
     "name": "stdout",
     "output_type": "stream",
     "text": [
      "1\n",
      "2\n",
      "3\n"
     ]
    }
   ],
   "source": [
    "for element in generate3():\n",
    "    print(element)"
   ]
  },
  {
   "cell_type": "code",
   "execution_count": 315,
   "metadata": {},
   "outputs": [
    {
     "data": {
      "text/plain": [
       "1"
      ]
     },
     "execution_count": 315,
     "metadata": {},
     "output_type": "execute_result"
    }
   ],
   "source": [
    "it = iter(generate3())\n",
    "next(it)"
   ]
  },
  {
   "cell_type": "code",
   "execution_count": 316,
   "metadata": {},
   "outputs": [
    {
     "data": {
      "text/plain": [
       "2"
      ]
     },
     "execution_count": 316,
     "metadata": {},
     "output_type": "execute_result"
    }
   ],
   "source": [
    "next(it)"
   ]
  },
  {
   "cell_type": "code",
   "execution_count": 317,
   "metadata": {},
   "outputs": [
    {
     "data": {
      "text/plain": [
       "[3]"
      ]
     },
     "execution_count": 317,
     "metadata": {},
     "output_type": "execute_result"
    }
   ],
   "source": [
    "list(it)"
   ]
  },
  {
   "cell_type": "markdown",
   "metadata": {},
   "source": [
    "## Generator expression\n",
    "\n",
    "Forma concisa de criar geradores de forma semelhante a comprehensions\n",
    "\n",
    "```python\n",
    "(func(x) for x in iteravel if filtro(x))\n",
    "```\n",
    "\n",
    "A parte do `if` é opcional\n",
    "\n",
    "É o equivalente a \n",
    "```python\n",
    "def gen(iteravel):\n",
    "    for x in iteravel:\n",
    "        if filtro(x):\n",
    "             yield func(x)\n",
    "gen(iteravel)\n",
    "```\n"
   ]
  },
  {
   "cell_type": "code",
   "execution_count": 8,
   "metadata": {},
   "outputs": [
    {
     "data": {
      "text/plain": [
       "55"
      ]
     },
     "execution_count": 8,
     "metadata": {},
     "output_type": "execute_result"
    }
   ],
   "source": [
    "a = [1, 2, 3, 4, 5]\n",
    "sum(x ** 2 for x in a)"
   ]
  },
  {
   "cell_type": "code",
   "execution_count": 9,
   "metadata": {},
   "outputs": [
    {
     "data": {
      "text/plain": [
       "[1, 4, 9, 16, 25]"
      ]
     },
     "execution_count": 9,
     "metadata": {},
     "output_type": "execute_result"
    }
   ],
   "source": [
    "gen = (x ** 2 for x in a)\n",
    "list(gen)"
   ]
  },
  {
   "cell_type": "code",
   "execution_count": 10,
   "metadata": {},
   "outputs": [
    {
     "data": {
      "text/plain": [
       "[]"
      ]
     },
     "execution_count": 10,
     "metadata": {},
     "output_type": "execute_result"
    }
   ],
   "source": [
    "list(gen)"
   ]
  },
  {
   "cell_type": "markdown",
   "metadata": {},
   "source": [
    "## Operações em geradores\n",
    "(Ou qualquer iterável)"
   ]
  },
  {
   "cell_type": "markdown",
   "metadata": {},
   "source": [
    "### itertools.tee\n",
    "Clona iterador\n",
    "\n",
    "```python\n",
    "tee(iterable, n)\n",
    "```\n",
    "\n",
    "Retorna *n* clones de *iterable*"
   ]
  },
  {
   "cell_type": "code",
   "execution_count": 339,
   "metadata": {},
   "outputs": [
    {
     "data": {
      "text/plain": [
       "[1, 4, 9, 16]"
      ]
     },
     "execution_count": 339,
     "metadata": {},
     "output_type": "execute_result"
    }
   ],
   "source": [
    "from itertools import tee\n",
    "gen = (x ** 2 for x in a)\n",
    "it1, it2 = tee(gen, 2)\n",
    "list(it1)"
   ]
  },
  {
   "cell_type": "code",
   "execution_count": 340,
   "metadata": {},
   "outputs": [
    {
     "data": {
      "text/plain": [
       "[1, 4, 9, 16]"
      ]
     },
     "execution_count": 340,
     "metadata": {},
     "output_type": "execute_result"
    }
   ],
   "source": [
    "list(it2)"
   ]
  },
  {
   "cell_type": "markdown",
   "metadata": {},
   "source": [
    "### itertools.chain\n",
    "\n",
    "Concatena iteráveis\n",
    "\n",
    "```python\n",
    "chain(it1, it2, ... itn)\n",
    "```\n",
    "\n",
    "Retorna iterador que gera todos elementos de it1, it2, ..., itn"
   ]
  },
  {
   "cell_type": "code",
   "execution_count": 11,
   "metadata": {},
   "outputs": [
    {
     "data": {
      "text/plain": [
       "[1, 4, 9, 16, 25, 1, 8, 27, 64, 125]"
      ]
     },
     "execution_count": 11,
     "metadata": {},
     "output_type": "execute_result"
    }
   ],
   "source": [
    "from itertools import chain\n",
    "\n",
    "gen1 = (x ** 2 for x in a)\n",
    "gen2 = (x ** 3 for x in a)\n",
    "\n",
    "list(chain(gen1, gen2))"
   ]
  },
  {
   "cell_type": "markdown",
   "metadata": {},
   "source": [
    "### itertools.islice\n",
    "\n",
    "Slice de iterável\n",
    "\n",
    "```python\n",
    "islice(it, inicio=0, fim=None, passo=1)\n",
    "```\n",
    "\n",
    "Faz o equivalente a `it[inicio:fim:passo]`, mas funciona em qualquer iterador. O passo não pode ser negativo.\n",
    "\n"
   ]
  },
  {
   "cell_type": "code",
   "execution_count": 12,
   "metadata": {},
   "outputs": [
    {
     "data": {
      "text/plain": [
       "[9, 25, 8, 64]"
      ]
     },
     "execution_count": 12,
     "metadata": {},
     "output_type": "execute_result"
    }
   ],
   "source": [
    "from itertools import islice\n",
    "\n",
    "gen1 = (x ** 2 for x in a)\n",
    "gen2 = (x ** 3 for x in a)\n",
    "gen = chain(gen1, gen2)\n",
    "\n",
    "list(islice(gen, 2, None, 2))\n"
   ]
  },
  {
   "cell_type": "markdown",
   "metadata": {},
   "source": [
    "## Geradores infinitos"
   ]
  },
  {
   "cell_type": "markdown",
   "metadata": {},
   "source": [
    "### itertools.count\n",
    "\n",
    "Conta a partir de um número:\n",
    "```python\n",
    "count(inicio, step=1)\n",
    "```\n",
    "\n",
    "Retorna\n",
    "```\n",
    "inicio, inicio + step, inicio + 2 * step, ...\n",
    "```"
   ]
  },
  {
   "cell_type": "code",
   "execution_count": 326,
   "metadata": {},
   "outputs": [
    {
     "data": {
      "text/plain": [
       "[(50, 0),\n",
       " (51, 1),\n",
       " (52, 2),\n",
       " (53, 3),\n",
       " (54, 4),\n",
       " (55, 5),\n",
       " (56, 6),\n",
       " (57, 7),\n",
       " (58, 8),\n",
       " (59, 9)]"
      ]
     },
     "execution_count": 326,
     "metadata": {},
     "output_type": "execute_result"
    }
   ],
   "source": [
    "from itertools import count\n",
    "\n",
    "list(zip(count(50), range(10))) # Usando zip e range(10) para limitar"
   ]
  },
  {
   "cell_type": "markdown",
   "metadata": {},
   "source": [
    "### itertools.cycle\n",
    "\n",
    "Repete iterável:\n",
    "```python\n",
    "cycle(p)\n",
    "```\n",
    "\n",
    "Retorna\n",
    "```\n",
    "p[0], p[1], ..., p[-1], p[0], p[1], ...\n",
    "```"
   ]
  },
  {
   "cell_type": "code",
   "execution_count": 327,
   "metadata": {},
   "outputs": [
    {
     "data": {
      "text/plain": [
       "[('a', 0),\n",
       " ('b', 1),\n",
       " ('c', 2),\n",
       " ('a', 3),\n",
       " ('b', 4),\n",
       " ('c', 5),\n",
       " ('a', 6),\n",
       " ('b', 7),\n",
       " ('c', 8),\n",
       " ('a', 9)]"
      ]
     },
     "execution_count": 327,
     "metadata": {},
     "output_type": "execute_result"
    }
   ],
   "source": [
    "from itertools import cycle\n",
    "\n",
    "list(zip(cycle('abc'), range(10))) # Usando zip e range(10) para limitar"
   ]
  },
  {
   "cell_type": "markdown",
   "metadata": {},
   "source": [
    "### itertools.repeat\n",
    "\n",
    "Repete número:\n",
    "```python\n",
    "repeat(e)\n",
    "```\n",
    "\n",
    "Retorna\n",
    "```\n",
    "e, e, e, e, ...\n",
    "```\n",
    "\n",
    "Pode ser limitado por atributo adicional\n",
    "```python\n",
    "repeat(e, n)\n",
    "```"
   ]
  },
  {
   "cell_type": "code",
   "execution_count": 329,
   "metadata": {},
   "outputs": [
    {
     "data": {
      "text/plain": [
       "[('a', 0),\n",
       " ('a', 1),\n",
       " ('a', 2),\n",
       " ('a', 3),\n",
       " ('a', 4),\n",
       " ('a', 5),\n",
       " ('a', 6),\n",
       " ('a', 7),\n",
       " ('a', 8),\n",
       " ('a', 9)]"
      ]
     },
     "execution_count": 329,
     "metadata": {},
     "output_type": "execute_result"
    }
   ],
   "source": [
    "from itertools import repeat\n",
    "\n",
    "list(zip(repeat('a'), range(10))) # Usando zip e range(10) para limitar"
   ]
  },
  {
   "cell_type": "code",
   "execution_count": 331,
   "metadata": {},
   "outputs": [
    {
     "data": {
      "text/plain": [
       "['a', 'a', 'a', 'a', 'a', 'a', 'a', 'a', 'a', 'a']"
      ]
     },
     "execution_count": 331,
     "metadata": {},
     "output_type": "execute_result"
    }
   ],
   "source": [
    "list(repeat('a', 10))"
   ]
  },
  {
   "cell_type": "markdown",
   "metadata": {},
   "source": [
    "## Exemplo mais complicado\n",
    "\n",
    "Sequencia de collatz"
   ]
  },
  {
   "cell_type": "code",
   "execution_count": 347,
   "metadata": {},
   "outputs": [
    {
     "data": {
      "text/plain": [
       "[5, 16, 8, 4, 2, 1]"
      ]
     },
     "execution_count": 347,
     "metadata": {},
     "output_type": "execute_result"
    }
   ],
   "source": [
    "def next_collatz(x):\n",
    "    return x // 2 if x % 2 == 0 else 3 * x + 1\n",
    "\n",
    "def collatz(current):\n",
    "    while current != 1:\n",
    "        yield current\n",
    "        current = next_collatz(current)\n",
    "    yield current\n",
    "\n",
    "list(collatz(5))"
   ]
  },
  {
   "cell_type": "markdown",
   "metadata": {},
   "source": [
    "Uma linha:"
   ]
  },
  {
   "cell_type": "code",
   "execution_count": 13,
   "metadata": {},
   "outputs": [
    {
     "data": {
      "text/plain": [
       "[5, 16, 8, 4, 2, 1]"
      ]
     },
     "execution_count": 13,
     "metadata": {},
     "output_type": "execute_result"
    }
   ],
   "source": [
    "from itertools import accumulate, takewhile, chain, repeat\n",
    "\n",
    "next_collatz = lambda x: x // 2 if x % 2 == 0 else 3 * x + 1\n",
    "collatz_acc = lambda acc, new: next_collatz(acc)\n",
    "collatz = lambda c: chain(\n",
    "  takewhile(\n",
    "    (lambda x: x != 1),\n",
    "    accumulate(repeat(c), collatz_acc)\n",
    "  ),\n",
    "  [1]\n",
    ")\n",
    "list(collatz(5))\n"
   ]
  },
  {
   "cell_type": "code",
   "execution_count": 360,
   "metadata": {},
   "outputs": [
    {
     "data": {
      "text/plain": [
       "[5, 16, 8, 4, 2, 1]"
      ]
     },
     "execution_count": 360,
     "metadata": {},
     "output_type": "execute_result"
    }
   ],
   "source": [
    "(lambda accumulate, takewhile, chain, collatz: (list(chain(takewhile((lambda x: x != 1), accumulate(repeat(5), collatz)), [1]))))(__import__(\"itertools\").accumulate,__import__(\"itertools\").takewhile,__import__(\"itertools\").chain,lambda acc, new: next_collatz(acc))"
   ]
  },
  {
   "cell_type": "markdown",
   "metadata": {},
   "source": [
    "### itertools.accumulate\n",
    "\n",
    "Gera valores acumulados\n",
    "\n",
    "```python\n",
    "accumulate(iteravel, func)\n",
    "```\n",
    "\n",
    "Equivale a \n",
    "```python\n",
    "def accumulate(iteravel, func):\n",
    "    it = iter(iteravel)\n",
    "    total = next(it)\n",
    "    yield total\n",
    "    for elemento in it:\n",
    "        total = func(total, elemento)\n",
    "        yield total\n",
    "```\n",
    "        "
   ]
  },
  {
   "cell_type": "code",
   "execution_count": 365,
   "metadata": {},
   "outputs": [
    {
     "data": {
      "text/plain": [
       "[5, 16, 8, 4, 2, 1]"
      ]
     },
     "execution_count": 365,
     "metadata": {},
     "output_type": "execute_result"
    }
   ],
   "source": [
    "list(accumulate([5, 0, 0, 0, 0, 0], collatz))"
   ]
  },
  {
   "cell_type": "code",
   "execution_count": 364,
   "metadata": {},
   "outputs": [
    {
     "data": {
      "text/plain": [
       "[5, 16, 8, 4, 2, 1, 4, 2]"
      ]
     },
     "execution_count": 364,
     "metadata": {},
     "output_type": "execute_result"
    }
   ],
   "source": [
    "list(accumulate([5, 0, 0, 0, 0, 0, 0, 0], collatz))"
   ]
  },
  {
   "cell_type": "markdown",
   "metadata": {},
   "source": [
    "### itertools.takewhile\n",
    "\n",
    "Pega elementos enquanto condição é satisfeita\n",
    "```python\n",
    "takewhile(func, iteravel)\n",
    "```\n",
    "\n",
    "Equivale a:\n",
    "```python\n",
    "def takewhile(func, iteravel):\n",
    "    for elemento in iteravel:\n",
    "        if not func(elemento):\n",
    "            break\n",
    "        yield elemento\n",
    "```"
   ]
  },
  {
   "cell_type": "code",
   "execution_count": 367,
   "metadata": {},
   "outputs": [
    {
     "data": {
      "text/plain": [
       "[5, 16, 8, 4, 2]"
      ]
     },
     "execution_count": 367,
     "metadata": {},
     "output_type": "execute_result"
    }
   ],
   "source": [
    "list(takewhile(lambda x: x != 1, [5, 16, 8, 4, 2, 1, 4, 2]))"
   ]
  },
  {
   "cell_type": "markdown",
   "metadata": {},
   "source": [
    "### itertools.dropwhile\n",
    "\n",
    "Pega todos elementos depois da condição ter sido satisfeita\n",
    "```python\n",
    "dropwhile(func, iteravel)\n",
    "```\n",
    "\n",
    "Equivale a:\n",
    "```python\n",
    "def dropwhile(func, iteravel):\n",
    "    for elemento in iteravel:\n",
    "        if func(elemento):\n",
    "            yield elemento\n",
    "            break\n",
    "    yield from iteravel\n",
    "```"
   ]
  },
  {
   "cell_type": "code",
   "execution_count": 368,
   "metadata": {},
   "outputs": [
    {
     "data": {
      "text/plain": [
       "[1, 4, 2]"
      ]
     },
     "execution_count": 368,
     "metadata": {},
     "output_type": "execute_result"
    }
   ],
   "source": [
    "from itertools import dropwhile\n",
    "list(dropwhile(lambda x: x != 1, [5, 16, 8, 4, 2, 1, 4, 2]))"
   ]
  },
  {
   "cell_type": "markdown",
   "metadata": {
    "heading_collapsed": true
   },
   "source": [
    "## Exercícios\n",
    "\n",
    "### 9) Crie uma função que acesse a n-ésima posição de um gerador\n",
    "### 10) Faça um gerador para a sequencia de fibonacci\n",
    "### 11) Substitua o gerador por um feito com accumulate"
   ]
  },
  {
   "cell_type": "markdown",
   "metadata": {},
   "source": [
    "# Mais do itertools"
   ]
  },
  {
   "cell_type": "markdown",
   "metadata": {},
   "source": [
    "## Agrupando valores - itertools.groupby\n",
    "\n",
    "Agrupa valores ordenados formando um iterável de iteráveis. Exige que o iterável original esteja ordenado pelo critério de agrupamento.\n",
    "\n",
    "```python\n",
    "groupby(it, func)\n",
    "```"
   ]
  },
  {
   "cell_type": "code",
   "execution_count": 376,
   "metadata": {},
   "outputs": [
    {
     "data": {
      "text/plain": [
       "[2, 4, 6, 8, 1, 3, 5, 7]"
      ]
     },
     "execution_count": 376,
     "metadata": {},
     "output_type": "execute_result"
    }
   ],
   "source": [
    "a = [1, 2, 3, 4, 5, 6, 7, 8]\n",
    "key = lambda x: x % 2\n",
    "b = sorted(a, key=key)\n",
    "b\n"
   ]
  },
  {
   "cell_type": "code",
   "execution_count": 382,
   "metadata": {},
   "outputs": [
    {
     "data": {
      "text/plain": [
       "<itertools.groupby at 0x1ab600a2188>"
      ]
     },
     "execution_count": 382,
     "metadata": {},
     "output_type": "execute_result"
    }
   ],
   "source": [
    "from itertools import groupby\n",
    "group = groupby(b, key)\n",
    "group"
   ]
  },
  {
   "cell_type": "code",
   "execution_count": 383,
   "metadata": {},
   "outputs": [
    {
     "name": "stdout",
     "output_type": "stream",
     "text": [
      "0 [2, 4, 6, 8]\n",
      "1 [1, 3, 5, 7]\n"
     ]
    }
   ],
   "source": [
    "0 [2, 4, 6, 8]\n",
    "1 [1, 3, 5, 7]\n",
    "for remainder, numbers in group:\n",
    "    print(remainder, list(numbers))"
   ]
  },
  {
   "cell_type": "markdown",
   "metadata": {},
   "source": [
    "## Aplicando funções a sub-iteráveis - itertools.starmap\n",
    "\n",
    "Applica função a sub-iteráveis\n",
    "\n",
    "```python\n",
    "starmap(func, it)\n",
    "```"
   ]
  },
  {
   "cell_type": "code",
   "execution_count": 386,
   "metadata": {},
   "outputs": [
    {
     "data": {
      "text/plain": [
       "[16.0, 4.5, 500.0]"
      ]
     },
     "execution_count": 386,
     "metadata": {},
     "output_type": "execute_result"
    }
   ],
   "source": [
    "from itertools import starmap\n",
    "a = [(2, 5), (3, 2), (10, 3)]\n",
    "\n",
    "def half_of_pow(a, b):\n",
    "    return (a ** b) / 2\n",
    "\n",
    "list(starmap(half_of_pow, a))"
   ]
  },
  {
   "cell_type": "markdown",
   "metadata": {},
   "source": [
    "## Combinatória"
   ]
  },
  {
   "cell_type": "markdown",
   "metadata": {},
   "source": [
    "### itertools.product\n",
    "\n",
    "Equivalente a for alinhado\n",
    "```python\n",
    "product(p, q, ...)\n",
    "```"
   ]
  },
  {
   "cell_type": "code",
   "execution_count": 404,
   "metadata": {},
   "outputs": [
    {
     "data": {
      "text/plain": [
       "[('A', 'E'),\n",
       " ('A', 'F'),\n",
       " ('A', 'G'),\n",
       " ('A', 'H'),\n",
       " ('B', 'E'),\n",
       " ('B', 'F'),\n",
       " ('B', 'G'),\n",
       " ('B', 'H'),\n",
       " ('C', 'E'),\n",
       " ('C', 'F'),\n",
       " ('C', 'G'),\n",
       " ('C', 'H'),\n",
       " ('D', 'E'),\n",
       " ('D', 'F'),\n",
       " ('D', 'G'),\n",
       " ('D', 'H')]"
      ]
     },
     "execution_count": 404,
     "metadata": {},
     "output_type": "execute_result"
    }
   ],
   "source": [
    "from itertools import product\n",
    "\n",
    "list(product(\"ABCD\", \"EFGH\"))"
   ]
  },
  {
   "cell_type": "code",
   "execution_count": 405,
   "metadata": {},
   "outputs": [
    {
     "data": {
      "text/plain": [
       "[(False, False, False),\n",
       " (False, False, True),\n",
       " (False, True, False),\n",
       " (False, True, True),\n",
       " (True, False, False),\n",
       " (True, False, True),\n",
       " (True, True, False),\n",
       " (True, True, True)]"
      ]
     },
     "execution_count": 405,
     "metadata": {},
     "output_type": "execute_result"
    }
   ],
   "source": [
    "list(product([False, True], repeat=3))"
   ]
  },
  {
   "cell_type": "markdown",
   "metadata": {},
   "source": [
    "### itertools.permutations\n",
    "\n",
    "Gera todas as permutações de tamanho *r* sem repetição\n",
    "```python\n",
    "permutations(p[, r])\n",
    "```"
   ]
  },
  {
   "cell_type": "code",
   "execution_count": 406,
   "metadata": {},
   "outputs": [
    {
     "data": {
      "text/plain": [
       "[('A', 'B', 'C'),\n",
       " ('A', 'C', 'B'),\n",
       " ('B', 'A', 'C'),\n",
       " ('B', 'C', 'A'),\n",
       " ('C', 'A', 'B'),\n",
       " ('C', 'B', 'A')]"
      ]
     },
     "execution_count": 406,
     "metadata": {},
     "output_type": "execute_result"
    }
   ],
   "source": [
    "from itertools import permutations\n",
    "\n",
    "list(permutations(\"ABC\"))"
   ]
  },
  {
   "cell_type": "code",
   "execution_count": 407,
   "metadata": {},
   "outputs": [
    {
     "data": {
      "text/plain": [
       "[('A', 'B'), ('A', 'C'), ('B', 'A'), ('B', 'C'), ('C', 'A'), ('C', 'B')]"
      ]
     },
     "execution_count": 407,
     "metadata": {},
     "output_type": "execute_result"
    }
   ],
   "source": [
    "list(permutations(\"ABC\", 2))"
   ]
  },
  {
   "cell_type": "markdown",
   "metadata": {},
   "source": [
    "### itertools.combinations\n",
    "\n",
    "Gera todas as combinações (ordenadas) de tamanho *r*, sem repetição\n",
    "```python\n",
    "combinations(p, r)\n",
    "```"
   ]
  },
  {
   "cell_type": "code",
   "execution_count": 408,
   "metadata": {},
   "outputs": [
    {
     "data": {
      "text/plain": [
       "[('A', 'B'), ('A', 'C'), ('B', 'C')]"
      ]
     },
     "execution_count": 408,
     "metadata": {},
     "output_type": "execute_result"
    }
   ],
   "source": [
    "from itertools import combinations\n",
    "\n",
    "list(combinations(\"ABC\", 2))"
   ]
  },
  {
   "cell_type": "markdown",
   "metadata": {},
   "source": [
    "### itertools.combinations_with_replacement\n",
    "\n",
    "Gera todas as combinações (ordenadas) de tamanho *r*, com repetição\n",
    "```python\n",
    "combinations_with_replacement(p, r)\n",
    "```"
   ]
  },
  {
   "cell_type": "code",
   "execution_count": 409,
   "metadata": {},
   "outputs": [
    {
     "data": {
      "text/plain": [
       "[('A', 'A'), ('A', 'B'), ('A', 'C'), ('B', 'B'), ('B', 'C'), ('C', 'C')]"
      ]
     },
     "execution_count": 409,
     "metadata": {},
     "output_type": "execute_result"
    }
   ],
   "source": [
    "from itertools import combinations_with_replacement\n",
    "\n",
    "list(combinations_with_replacement(\"ABC\", 2))"
   ]
  },
  {
   "cell_type": "markdown",
   "metadata": {},
   "source": [
    "## Exercício\n",
    "\n",
    "### 12) Obtenha todas as permutações de \"ABCD\" que tenham \"D\" como último elemento\n",
    "\n"
   ]
  },
  {
   "cell_type": "markdown",
   "metadata": {},
   "source": [
    "# Fim\n",
    "\n",
    "Alguma dúvida restante?"
   ]
  },
  {
   "cell_type": "code",
   "execution_count": null,
   "metadata": {
    "collapsed": true
   },
   "outputs": [],
   "source": []
  }
 ],
 "metadata": {
  "kernelspec": {
   "display_name": "Python 3",
   "language": "python",
   "name": "python3"
  },
  "language_info": {
   "codemirror_mode": {
    "name": "ipython",
    "version": 3
   },
   "file_extension": ".py",
   "mimetype": "text/x-python",
   "name": "python",
   "nbconvert_exporter": "python",
   "pygments_lexer": "ipython3",
   "version": "3.6.1"
  },
  "toc": {
   "nav_menu": {},
   "number_sections": false,
   "sideBar": true,
   "skip_h1_title": false,
   "title_cell": "Table of Contents",
   "title_sidebar": "Contents",
   "toc_cell": false,
   "toc_position": {
    "height": "calc(100% - 180px)",
    "left": "10px",
    "top": "150px",
    "width": "283px"
   },
   "toc_section_display": true,
   "toc_window_display": true
  }
 },
 "nbformat": 4,
 "nbformat_minor": 2
}
